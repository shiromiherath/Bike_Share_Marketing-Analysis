{
 "cells": [
  {
   "cell_type": "markdown",
   "id": "b8015eb5",
   "metadata": {
    "papermill": {
     "duration": 0.029288,
     "end_time": "2021-06-16T03:06:56.509430",
     "exception": false,
     "start_time": "2021-06-16T03:06:56.480142",
     "status": "completed"
    },
    "tags": []
   },
   "source": [
    "##Introduction\n"
   ]
  },
  {
   "cell_type": "markdown",
   "id": "629f0da9",
   "metadata": {
    "papermill": {
     "duration": 0.027541,
     "end_time": "2021-06-16T03:06:56.564634",
     "exception": false,
     "start_time": "2021-06-16T03:06:56.537093",
     "status": "completed"
    },
    "tags": []
   },
   "source": [
    "This notebook contains the first case study of Google's Data Analytics Professional Certificate. The case study requires the analyst to follow to the steps of the data analysis process (ask, prepare, process, analyze, share,and act) for a dataset that represents a fictional company (Cyclistic Bike-Share). "
   ]
  },
  {
   "cell_type": "markdown",
   "id": "cf900c21",
   "metadata": {
    "papermill": {
     "duration": 0.027505,
     "end_time": "2021-06-16T03:06:56.619857",
     "exception": false,
     "start_time": "2021-06-16T03:06:56.592352",
     "status": "completed"
    },
    "tags": []
   },
   "source": [
    "##Ask"
   ]
  },
  {
   "cell_type": "markdown",
   "id": "fbb08f38",
   "metadata": {
    "papermill": {
     "duration": 0.027375,
     "end_time": "2021-06-16T03:06:56.674915",
     "exception": false,
     "start_time": "2021-06-16T03:06:56.647540",
     "status": "completed"
    },
    "tags": []
   },
   "source": [
    "Cyclistic Bike-Share's business task is to maximize the number of annual memberships by converting casual customers (single-ride and day passes) to members (annual membership). The goal of this data analysis is to understand how casual riders and annual members use Cyclistic bikes differently. As for deliverables, we will make three recommendations to increase our annual membership."
   ]
  },
  {
   "cell_type": "markdown",
   "id": "ddc41372",
   "metadata": {
    "papermill": {
     "duration": 0.027717,
     "end_time": "2021-06-16T03:06:56.730081",
     "exception": false,
     "start_time": "2021-06-16T03:06:56.702364",
     "status": "completed"
    },
    "tags": []
   },
   "source": [
    "##Prepare"
   ]
  },
  {
   "cell_type": "markdown",
   "id": "5a56d1cd",
   "metadata": {
    "papermill": {
     "duration": 0.027504,
     "end_time": "2021-06-16T03:06:56.785123",
     "exception": false,
     "start_time": "2021-06-16T03:06:56.757619",
     "status": "completed"
    },
    "tags": []
   },
   "source": [
    "The datasets contain data of rides from Q2 2019 to Q1 2020. Each rides contains basic information such as the start date and time, end date and time, and whether the customer was a casual user or a member. "
   ]
  },
  {
   "cell_type": "code",
   "execution_count": 1,
   "id": "abf5e7de",
   "metadata": {
    "_kg_hide-output": true,
    "execution": {
     "iopub.execute_input": "2021-06-16T03:06:56.846999Z",
     "iopub.status.busy": "2021-06-16T03:06:56.844745Z",
     "iopub.status.idle": "2021-06-16T03:06:58.356629Z",
     "shell.execute_reply": "2021-06-16T03:06:58.355520Z"
    },
    "papermill": {
     "duration": 1.544365,
     "end_time": "2021-06-16T03:06:58.356910",
     "exception": false,
     "start_time": "2021-06-16T03:06:56.812545",
     "status": "completed"
    },
    "tags": []
   },
   "outputs": [
    {
     "name": "stderr",
     "output_type": "stream",
     "text": [
      "── \u001b[1mAttaching packages\u001b[22m ─────────────────────────────────────── tidyverse 1.3.0 ──\n",
      "\n",
      "\u001b[32m✔\u001b[39m \u001b[34mggplot2\u001b[39m 3.3.3     \u001b[32m✔\u001b[39m \u001b[34mpurrr  \u001b[39m 0.3.4\n",
      "\u001b[32m✔\u001b[39m \u001b[34mtibble \u001b[39m 3.1.1     \u001b[32m✔\u001b[39m \u001b[34mdplyr  \u001b[39m 1.0.5\n",
      "\u001b[32m✔\u001b[39m \u001b[34mtidyr  \u001b[39m 1.1.3     \u001b[32m✔\u001b[39m \u001b[34mstringr\u001b[39m 1.4.0\n",
      "\u001b[32m✔\u001b[39m \u001b[34mreadr  \u001b[39m 1.4.0     \u001b[32m✔\u001b[39m \u001b[34mforcats\u001b[39m 0.5.0\n",
      "\n",
      "── \u001b[1mConflicts\u001b[22m ────────────────────────────────────────── tidyverse_conflicts() ──\n",
      "\u001b[31m✖\u001b[39m \u001b[34mdplyr\u001b[39m::\u001b[32mfilter()\u001b[39m masks \u001b[34mstats\u001b[39m::filter()\n",
      "\u001b[31m✖\u001b[39m \u001b[34mdplyr\u001b[39m::\u001b[32mlag()\u001b[39m    masks \u001b[34mstats\u001b[39m::lag()\n",
      "\n",
      "\n",
      "Attaching package: ‘lubridate’\n",
      "\n",
      "\n",
      "The following objects are masked from ‘package:base’:\n",
      "\n",
      "    date, intersect, setdiff, union\n",
      "\n",
      "\n"
     ]
    }
   ],
   "source": [
    "#install packages \n",
    "library(tidyverse)  \n",
    "library(lubridate)  \n",
    "library(ggplot2)  "
   ]
  },
  {
   "cell_type": "code",
   "execution_count": 2,
   "id": "abbefc9d",
   "metadata": {
    "_kg_hide-output": true,
    "execution": {
     "iopub.execute_input": "2021-06-16T03:06:58.459615Z",
     "iopub.status.busy": "2021-06-16T03:06:58.422837Z",
     "iopub.status.idle": "2021-06-16T03:07:12.153768Z",
     "shell.execute_reply": "2021-06-16T03:07:12.152452Z"
    },
    "papermill": {
     "duration": 13.764277,
     "end_time": "2021-06-16T03:07:12.153958",
     "exception": false,
     "start_time": "2021-06-16T03:06:58.389681",
     "status": "completed"
    },
    "tags": []
   },
   "outputs": [
    {
     "name": "stderr",
     "output_type": "stream",
     "text": [
      "\n",
      "\u001b[36m──\u001b[39m \u001b[1m\u001b[1mColumn specification\u001b[1m\u001b[22m \u001b[36m────────────────────────────────────────────────────────\u001b[39m\n",
      "cols(\n",
      "  `01 - Rental Details Rental ID` = \u001b[32mcol_double()\u001b[39m,\n",
      "  `01 - Rental Details Local Start Time` = \u001b[34mcol_datetime(format = \"\")\u001b[39m,\n",
      "  `01 - Rental Details Local End Time` = \u001b[34mcol_datetime(format = \"\")\u001b[39m,\n",
      "  `01 - Rental Details Bike ID` = \u001b[32mcol_double()\u001b[39m,\n",
      "  `01 - Rental Details Duration In Seconds Uncapped` = \u001b[32mcol_number()\u001b[39m,\n",
      "  `03 - Rental Start Station ID` = \u001b[32mcol_double()\u001b[39m,\n",
      "  `03 - Rental Start Station Name` = \u001b[31mcol_character()\u001b[39m,\n",
      "  `02 - Rental End Station ID` = \u001b[32mcol_double()\u001b[39m,\n",
      "  `02 - Rental End Station Name` = \u001b[31mcol_character()\u001b[39m,\n",
      "  `User Type` = \u001b[31mcol_character()\u001b[39m,\n",
      "  `Member Gender` = \u001b[31mcol_character()\u001b[39m,\n",
      "  `05 - Member Details Member Birthday Year` = \u001b[32mcol_double()\u001b[39m\n",
      ")\n",
      "\n",
      "\n",
      "\n",
      "\u001b[36m──\u001b[39m \u001b[1m\u001b[1mColumn specification\u001b[1m\u001b[22m \u001b[36m────────────────────────────────────────────────────────\u001b[39m\n",
      "cols(\n",
      "  trip_id = \u001b[32mcol_double()\u001b[39m,\n",
      "  start_time = \u001b[34mcol_datetime(format = \"\")\u001b[39m,\n",
      "  end_time = \u001b[34mcol_datetime(format = \"\")\u001b[39m,\n",
      "  bikeid = \u001b[32mcol_double()\u001b[39m,\n",
      "  tripduration = \u001b[32mcol_number()\u001b[39m,\n",
      "  from_station_id = \u001b[32mcol_double()\u001b[39m,\n",
      "  from_station_name = \u001b[31mcol_character()\u001b[39m,\n",
      "  to_station_id = \u001b[32mcol_double()\u001b[39m,\n",
      "  to_station_name = \u001b[31mcol_character()\u001b[39m,\n",
      "  usertype = \u001b[31mcol_character()\u001b[39m,\n",
      "  gender = \u001b[31mcol_character()\u001b[39m,\n",
      "  birthyear = \u001b[32mcol_double()\u001b[39m\n",
      ")\n",
      "\n",
      "\n",
      "\n",
      "\u001b[36m──\u001b[39m \u001b[1m\u001b[1mColumn specification\u001b[1m\u001b[22m \u001b[36m────────────────────────────────────────────────────────\u001b[39m\n",
      "cols(\n",
      "  trip_id = \u001b[32mcol_double()\u001b[39m,\n",
      "  start_time = \u001b[34mcol_datetime(format = \"\")\u001b[39m,\n",
      "  end_time = \u001b[34mcol_datetime(format = \"\")\u001b[39m,\n",
      "  bikeid = \u001b[32mcol_double()\u001b[39m,\n",
      "  tripduration = \u001b[32mcol_number()\u001b[39m,\n",
      "  from_station_id = \u001b[32mcol_double()\u001b[39m,\n",
      "  from_station_name = \u001b[31mcol_character()\u001b[39m,\n",
      "  to_station_id = \u001b[32mcol_double()\u001b[39m,\n",
      "  to_station_name = \u001b[31mcol_character()\u001b[39m,\n",
      "  usertype = \u001b[31mcol_character()\u001b[39m,\n",
      "  gender = \u001b[31mcol_character()\u001b[39m,\n",
      "  birthyear = \u001b[32mcol_double()\u001b[39m\n",
      ")\n",
      "\n",
      "\n",
      "\n",
      "\u001b[36m──\u001b[39m \u001b[1m\u001b[1mColumn specification\u001b[1m\u001b[22m \u001b[36m────────────────────────────────────────────────────────\u001b[39m\n",
      "cols(\n",
      "  ride_id = \u001b[31mcol_character()\u001b[39m,\n",
      "  rideable_type = \u001b[31mcol_character()\u001b[39m,\n",
      "  started_at = \u001b[34mcol_datetime(format = \"\")\u001b[39m,\n",
      "  ended_at = \u001b[34mcol_datetime(format = \"\")\u001b[39m,\n",
      "  start_station_name = \u001b[31mcol_character()\u001b[39m,\n",
      "  start_station_id = \u001b[32mcol_double()\u001b[39m,\n",
      "  end_station_name = \u001b[31mcol_character()\u001b[39m,\n",
      "  end_station_id = \u001b[32mcol_double()\u001b[39m,\n",
      "  start_lat = \u001b[32mcol_double()\u001b[39m,\n",
      "  start_lng = \u001b[32mcol_double()\u001b[39m,\n",
      "  end_lat = \u001b[32mcol_double()\u001b[39m,\n",
      "  end_lng = \u001b[32mcol_double()\u001b[39m,\n",
      "  member_casual = \u001b[31mcol_character()\u001b[39m\n",
      ")\n",
      "\n",
      "\n"
     ]
    }
   ],
   "source": [
    "#import datasets\n",
    "q2_2019 <- read_csv(\"../input/divvy-data-q219-q120/Divvy_Trips_2019_Q2.csv\")\n",
    "q3_2019 <- read_csv(\"../input/divvy-data-q219-q120/Divvy_Trips_2019_Q3.csv\")\n",
    "q4_2019 <- read_csv(\"../input/divvy-data-q219-q120/Divvy_Trips_2019_Q4.csv\")\n",
    "q1_2020 <- read_csv(\"../input/divvy-data-q219-q120/Divvy_Trips_2020_Q1.csv\")"
   ]
  },
  {
   "cell_type": "markdown",
   "id": "f70424a7",
   "metadata": {
    "papermill": {
     "duration": 0.030656,
     "end_time": "2021-06-16T03:07:12.216995",
     "exception": false,
     "start_time": "2021-06-16T03:07:12.186339",
     "status": "completed"
    },
    "tags": []
   },
   "source": [
    "##Process"
   ]
  },
  {
   "cell_type": "markdown",
   "id": "7aa55114",
   "metadata": {
    "papermill": {
     "duration": 0.030655,
     "end_time": "2021-06-16T03:07:12.278356",
     "exception": false,
     "start_time": "2021-06-16T03:07:12.247701",
     "status": "completed"
    },
    "tags": []
   },
   "source": [
    "First, we need to examine the column names before we unite the four datasets. This is important because all column names must be the same in order to unit the data frames successfully."
   ]
  },
  {
   "cell_type": "code",
   "execution_count": 3,
   "id": "f4c4797e",
   "metadata": {
    "_kg_hide-output": true,
    "execution": {
     "iopub.execute_input": "2021-06-16T03:07:12.346441Z",
     "iopub.status.busy": "2021-06-16T03:07:12.345205Z",
     "iopub.status.idle": "2021-06-16T03:07:12.378447Z",
     "shell.execute_reply": "2021-06-16T03:07:12.377049Z"
    },
    "papermill": {
     "duration": 0.068149,
     "end_time": "2021-06-16T03:07:12.378630",
     "exception": false,
     "start_time": "2021-06-16T03:07:12.310481",
     "status": "completed"
    },
    "tags": []
   },
   "outputs": [
    {
     "data": {
      "text/html": [
       "<style>\n",
       ".list-inline {list-style: none; margin:0; padding: 0}\n",
       ".list-inline>li {display: inline-block}\n",
       ".list-inline>li:not(:last-child)::after {content: \"\\00b7\"; padding: 0 .5ex}\n",
       "</style>\n",
       "<ol class=list-inline><li>'trip_id'</li><li>'start_time'</li><li>'end_time'</li><li>'bikeid'</li><li>'tripduration'</li><li>'from_station_id'</li><li>'from_station_name'</li><li>'to_station_id'</li><li>'to_station_name'</li><li>'usertype'</li><li>'gender'</li><li>'birthyear'</li></ol>\n"
      ],
      "text/latex": [
       "\\begin{enumerate*}\n",
       "\\item 'trip\\_id'\n",
       "\\item 'start\\_time'\n",
       "\\item 'end\\_time'\n",
       "\\item 'bikeid'\n",
       "\\item 'tripduration'\n",
       "\\item 'from\\_station\\_id'\n",
       "\\item 'from\\_station\\_name'\n",
       "\\item 'to\\_station\\_id'\n",
       "\\item 'to\\_station\\_name'\n",
       "\\item 'usertype'\n",
       "\\item 'gender'\n",
       "\\item 'birthyear'\n",
       "\\end{enumerate*}\n"
      ],
      "text/markdown": [
       "1. 'trip_id'\n",
       "2. 'start_time'\n",
       "3. 'end_time'\n",
       "4. 'bikeid'\n",
       "5. 'tripduration'\n",
       "6. 'from_station_id'\n",
       "7. 'from_station_name'\n",
       "8. 'to_station_id'\n",
       "9. 'to_station_name'\n",
       "10. 'usertype'\n",
       "11. 'gender'\n",
       "12. 'birthyear'\n",
       "\n",
       "\n"
      ],
      "text/plain": [
       " [1] \"trip_id\"           \"start_time\"        \"end_time\"         \n",
       " [4] \"bikeid\"            \"tripduration\"      \"from_station_id\"  \n",
       " [7] \"from_station_name\" \"to_station_id\"     \"to_station_name\"  \n",
       "[10] \"usertype\"          \"gender\"            \"birthyear\"        "
      ]
     },
     "metadata": {},
     "output_type": "display_data"
    },
    {
     "data": {
      "text/html": [
       "<style>\n",
       ".list-inline {list-style: none; margin:0; padding: 0}\n",
       ".list-inline>li {display: inline-block}\n",
       ".list-inline>li:not(:last-child)::after {content: \"\\00b7\"; padding: 0 .5ex}\n",
       "</style>\n",
       "<ol class=list-inline><li>'trip_id'</li><li>'start_time'</li><li>'end_time'</li><li>'bikeid'</li><li>'tripduration'</li><li>'from_station_id'</li><li>'from_station_name'</li><li>'to_station_id'</li><li>'to_station_name'</li><li>'usertype'</li><li>'gender'</li><li>'birthyear'</li></ol>\n"
      ],
      "text/latex": [
       "\\begin{enumerate*}\n",
       "\\item 'trip\\_id'\n",
       "\\item 'start\\_time'\n",
       "\\item 'end\\_time'\n",
       "\\item 'bikeid'\n",
       "\\item 'tripduration'\n",
       "\\item 'from\\_station\\_id'\n",
       "\\item 'from\\_station\\_name'\n",
       "\\item 'to\\_station\\_id'\n",
       "\\item 'to\\_station\\_name'\n",
       "\\item 'usertype'\n",
       "\\item 'gender'\n",
       "\\item 'birthyear'\n",
       "\\end{enumerate*}\n"
      ],
      "text/markdown": [
       "1. 'trip_id'\n",
       "2. 'start_time'\n",
       "3. 'end_time'\n",
       "4. 'bikeid'\n",
       "5. 'tripduration'\n",
       "6. 'from_station_id'\n",
       "7. 'from_station_name'\n",
       "8. 'to_station_id'\n",
       "9. 'to_station_name'\n",
       "10. 'usertype'\n",
       "11. 'gender'\n",
       "12. 'birthyear'\n",
       "\n",
       "\n"
      ],
      "text/plain": [
       " [1] \"trip_id\"           \"start_time\"        \"end_time\"         \n",
       " [4] \"bikeid\"            \"tripduration\"      \"from_station_id\"  \n",
       " [7] \"from_station_name\" \"to_station_id\"     \"to_station_name\"  \n",
       "[10] \"usertype\"          \"gender\"            \"birthyear\"        "
      ]
     },
     "metadata": {},
     "output_type": "display_data"
    },
    {
     "data": {
      "text/html": [
       "<style>\n",
       ".list-inline {list-style: none; margin:0; padding: 0}\n",
       ".list-inline>li {display: inline-block}\n",
       ".list-inline>li:not(:last-child)::after {content: \"\\00b7\"; padding: 0 .5ex}\n",
       "</style>\n",
       "<ol class=list-inline><li>'01 - Rental Details Rental ID'</li><li>'01 - Rental Details Local Start Time'</li><li>'01 - Rental Details Local End Time'</li><li>'01 - Rental Details Bike ID'</li><li>'01 - Rental Details Duration In Seconds Uncapped'</li><li>'03 - Rental Start Station ID'</li><li>'03 - Rental Start Station Name'</li><li>'02 - Rental End Station ID'</li><li>'02 - Rental End Station Name'</li><li>'User Type'</li><li>'Member Gender'</li><li>'05 - Member Details Member Birthday Year'</li></ol>\n"
      ],
      "text/latex": [
       "\\begin{enumerate*}\n",
       "\\item '01 - Rental Details Rental ID'\n",
       "\\item '01 - Rental Details Local Start Time'\n",
       "\\item '01 - Rental Details Local End Time'\n",
       "\\item '01 - Rental Details Bike ID'\n",
       "\\item '01 - Rental Details Duration In Seconds Uncapped'\n",
       "\\item '03 - Rental Start Station ID'\n",
       "\\item '03 - Rental Start Station Name'\n",
       "\\item '02 - Rental End Station ID'\n",
       "\\item '02 - Rental End Station Name'\n",
       "\\item 'User Type'\n",
       "\\item 'Member Gender'\n",
       "\\item '05 - Member Details Member Birthday Year'\n",
       "\\end{enumerate*}\n"
      ],
      "text/markdown": [
       "1. '01 - Rental Details Rental ID'\n",
       "2. '01 - Rental Details Local Start Time'\n",
       "3. '01 - Rental Details Local End Time'\n",
       "4. '01 - Rental Details Bike ID'\n",
       "5. '01 - Rental Details Duration In Seconds Uncapped'\n",
       "6. '03 - Rental Start Station ID'\n",
       "7. '03 - Rental Start Station Name'\n",
       "8. '02 - Rental End Station ID'\n",
       "9. '02 - Rental End Station Name'\n",
       "10. 'User Type'\n",
       "11. 'Member Gender'\n",
       "12. '05 - Member Details Member Birthday Year'\n",
       "\n",
       "\n"
      ],
      "text/plain": [
       " [1] \"01 - Rental Details Rental ID\"                   \n",
       " [2] \"01 - Rental Details Local Start Time\"            \n",
       " [3] \"01 - Rental Details Local End Time\"              \n",
       " [4] \"01 - Rental Details Bike ID\"                     \n",
       " [5] \"01 - Rental Details Duration In Seconds Uncapped\"\n",
       " [6] \"03 - Rental Start Station ID\"                    \n",
       " [7] \"03 - Rental Start Station Name\"                  \n",
       " [8] \"02 - Rental End Station ID\"                      \n",
       " [9] \"02 - Rental End Station Name\"                    \n",
       "[10] \"User Type\"                                       \n",
       "[11] \"Member Gender\"                                   \n",
       "[12] \"05 - Member Details Member Birthday Year\"        "
      ]
     },
     "metadata": {},
     "output_type": "display_data"
    },
    {
     "data": {
      "text/html": [
       "<style>\n",
       ".list-inline {list-style: none; margin:0; padding: 0}\n",
       ".list-inline>li {display: inline-block}\n",
       ".list-inline>li:not(:last-child)::after {content: \"\\00b7\"; padding: 0 .5ex}\n",
       "</style>\n",
       "<ol class=list-inline><li>'ride_id'</li><li>'rideable_type'</li><li>'started_at'</li><li>'ended_at'</li><li>'start_station_name'</li><li>'start_station_id'</li><li>'end_station_name'</li><li>'end_station_id'</li><li>'start_lat'</li><li>'start_lng'</li><li>'end_lat'</li><li>'end_lng'</li><li>'member_casual'</li></ol>\n"
      ],
      "text/latex": [
       "\\begin{enumerate*}\n",
       "\\item 'ride\\_id'\n",
       "\\item 'rideable\\_type'\n",
       "\\item 'started\\_at'\n",
       "\\item 'ended\\_at'\n",
       "\\item 'start\\_station\\_name'\n",
       "\\item 'start\\_station\\_id'\n",
       "\\item 'end\\_station\\_name'\n",
       "\\item 'end\\_station\\_id'\n",
       "\\item 'start\\_lat'\n",
       "\\item 'start\\_lng'\n",
       "\\item 'end\\_lat'\n",
       "\\item 'end\\_lng'\n",
       "\\item 'member\\_casual'\n",
       "\\end{enumerate*}\n"
      ],
      "text/markdown": [
       "1. 'ride_id'\n",
       "2. 'rideable_type'\n",
       "3. 'started_at'\n",
       "4. 'ended_at'\n",
       "5. 'start_station_name'\n",
       "6. 'start_station_id'\n",
       "7. 'end_station_name'\n",
       "8. 'end_station_id'\n",
       "9. 'start_lat'\n",
       "10. 'start_lng'\n",
       "11. 'end_lat'\n",
       "12. 'end_lng'\n",
       "13. 'member_casual'\n",
       "\n",
       "\n"
      ],
      "text/plain": [
       " [1] \"ride_id\"            \"rideable_type\"      \"started_at\"        \n",
       " [4] \"ended_at\"           \"start_station_name\" \"start_station_id\"  \n",
       " [7] \"end_station_name\"   \"end_station_id\"     \"start_lat\"         \n",
       "[10] \"start_lng\"          \"end_lat\"            \"end_lng\"           \n",
       "[13] \"member_casual\"     "
      ]
     },
     "metadata": {},
     "output_type": "display_data"
    }
   ],
   "source": [
    "colnames(q3_2019)\n",
    "colnames(q4_2019)\n",
    "colnames(q2_2019)\n",
    "colnames(q1_2020)"
   ]
  },
  {
   "cell_type": "markdown",
   "id": "e00684bb",
   "metadata": {
    "papermill": {
     "duration": 0.033732,
     "end_time": "2021-06-16T03:07:12.446964",
     "exception": false,
     "start_time": "2021-06-16T03:07:12.413232",
     "status": "completed"
    },
    "tags": []
   },
   "source": [
    "Because some data frames have different names for the same column, we need to rename columns to make them consisten with q1_2020."
   ]
  },
  {
   "cell_type": "code",
   "execution_count": 4,
   "id": "571d2777",
   "metadata": {
    "_kg_hide-output": true,
    "execution": {
     "iopub.execute_input": "2021-06-16T03:07:12.520270Z",
     "iopub.status.busy": "2021-06-16T03:07:12.519000Z",
     "iopub.status.idle": "2021-06-16T03:07:13.254760Z",
     "shell.execute_reply": "2021-06-16T03:07:13.254048Z"
    },
    "papermill": {
     "duration": 0.7737,
     "end_time": "2021-06-16T03:07:13.254893",
     "exception": false,
     "start_time": "2021-06-16T03:07:12.481193",
     "status": "completed"
    },
    "tags": []
   },
   "outputs": [
    {
     "data": {
      "text/html": [
       "<table class=\"dataframe\">\n",
       "<caption>A spec_tbl_df: 704054 × 12</caption>\n",
       "<thead>\n",
       "\t<tr><th scope=col>ride_id</th><th scope=col>started_at</th><th scope=col>ended_at</th><th scope=col>rideable_type</th><th scope=col>tripduration</th><th scope=col>start_station_id</th><th scope=col>start_station_name</th><th scope=col>end_station_id</th><th scope=col>end_station_name</th><th scope=col>member_casual</th><th scope=col>gender</th><th scope=col>birthyear</th></tr>\n",
       "\t<tr><th scope=col>&lt;dbl&gt;</th><th scope=col>&lt;dttm&gt;</th><th scope=col>&lt;dttm&gt;</th><th scope=col>&lt;dbl&gt;</th><th scope=col>&lt;dbl&gt;</th><th scope=col>&lt;dbl&gt;</th><th scope=col>&lt;chr&gt;</th><th scope=col>&lt;dbl&gt;</th><th scope=col>&lt;chr&gt;</th><th scope=col>&lt;chr&gt;</th><th scope=col>&lt;chr&gt;</th><th scope=col>&lt;dbl&gt;</th></tr>\n",
       "</thead>\n",
       "<tbody>\n",
       "\t<tr><td>25223640</td><td>2019-10-01 00:01:39</td><td>2019-10-01 00:17:20</td><td>2215</td><td> 940</td><td> 20</td><td><span style=white-space:pre-wrap>Sheffield Ave &amp; Kingsbury St  </span></td><td>309</td><td><span style=white-space:pre-wrap>Leavitt St &amp; Armitage Ave     </span></td><td>Subscriber</td><td><span style=white-space:pre-wrap>Male  </span></td><td>1987</td></tr>\n",
       "\t<tr><td>25223641</td><td>2019-10-01 00:02:16</td><td>2019-10-01 00:06:34</td><td>6328</td><td> 258</td><td> 19</td><td>Throop (Loomis) St &amp; Taylor St</td><td>241</td><td><span style=white-space:pre-wrap>Morgan St &amp; Polk St           </span></td><td>Subscriber</td><td><span style=white-space:pre-wrap>Male  </span></td><td>1998</td></tr>\n",
       "\t<tr><td>25223642</td><td>2019-10-01 00:04:32</td><td>2019-10-01 00:18:43</td><td>3003</td><td> 850</td><td> 84</td><td><span style=white-space:pre-wrap>Milwaukee Ave &amp; Grand Ave     </span></td><td>199</td><td><span style=white-space:pre-wrap>Wabash Ave &amp; Grand Ave        </span></td><td>Subscriber</td><td>Female</td><td>1991</td></tr>\n",
       "\t<tr><td>25223643</td><td>2019-10-01 00:04:32</td><td>2019-10-01 00:43:43</td><td>3275</td><td>2350</td><td>313</td><td>Lakeview Ave &amp; Fullerton Pkwy </td><td>290</td><td><span style=white-space:pre-wrap>Kedzie Ave &amp; Palmer Ct        </span></td><td>Subscriber</td><td><span style=white-space:pre-wrap>Male  </span></td><td>1990</td></tr>\n",
       "\t<tr><td>25223644</td><td>2019-10-01 00:04:34</td><td>2019-10-01 00:35:42</td><td>5294</td><td>1867</td><td>210</td><td><span style=white-space:pre-wrap>Ashland Ave &amp; Division St     </span></td><td>382</td><td><span style=white-space:pre-wrap>Western Ave &amp; Congress Pkwy   </span></td><td>Subscriber</td><td><span style=white-space:pre-wrap>Male  </span></td><td>1987</td></tr>\n",
       "\t<tr><td>25223645</td><td>2019-10-01 00:04:38</td><td>2019-10-01 00:10:51</td><td>1891</td><td> 373</td><td>156</td><td><span style=white-space:pre-wrap>Clark St &amp; Wellington Ave     </span></td><td>226</td><td><span style=white-space:pre-wrap>Racine Ave &amp; Belmont Ave      </span></td><td>Subscriber</td><td>Female</td><td>1994</td></tr>\n",
       "\t<tr><td>25223646</td><td>2019-10-01 00:04:52</td><td>2019-10-01 00:22:45</td><td>1061</td><td>1072</td><td> 84</td><td><span style=white-space:pre-wrap>Milwaukee Ave &amp; Grand Ave     </span></td><td>142</td><td><span style=white-space:pre-wrap>McClurg Ct &amp; Erie St          </span></td><td>Subscriber</td><td>Female</td><td>1991</td></tr>\n",
       "\t<tr><td>25223647</td><td>2019-10-01 00:04:57</td><td>2019-10-01 00:29:16</td><td>1274</td><td>1458</td><td>156</td><td><span style=white-space:pre-wrap>Clark St &amp; Wellington Ave     </span></td><td>463</td><td><span style=white-space:pre-wrap>Clark St &amp; Berwyn Ave         </span></td><td>Subscriber</td><td><span style=white-space:pre-wrap>Male  </span></td><td>1995</td></tr>\n",
       "\t<tr><td>25223648</td><td>2019-10-01 00:05:20</td><td>2019-10-01 00:29:18</td><td>6011</td><td>1437</td><td>156</td><td><span style=white-space:pre-wrap>Clark St &amp; Wellington Ave     </span></td><td>463</td><td><span style=white-space:pre-wrap>Clark St &amp; Berwyn Ave         </span></td><td>Subscriber</td><td>Female</td><td>1993</td></tr>\n",
       "\t<tr><td>25223649</td><td>2019-10-01 00:05:20</td><td>2019-10-01 02:23:46</td><td>2957</td><td>8306</td><td>336</td><td><span style=white-space:pre-wrap>Cottage Grove Ave &amp; 47th St   </span></td><td>336</td><td><span style=white-space:pre-wrap>Cottage Grove Ave &amp; 47th St   </span></td><td><span style=white-space:pre-wrap>Customer  </span></td><td><span style=white-space:pre-wrap>NA    </span></td><td><span style=white-space:pre-wrap>  NA</span></td></tr>\n",
       "\t<tr><td>25223650</td><td>2019-10-01 00:05:30</td><td>2019-10-01 00:37:36</td><td>2564</td><td>1925</td><td> 77</td><td><span style=white-space:pre-wrap>Clinton St &amp; Madison St       </span></td><td>506</td><td><span style=white-space:pre-wrap>Spaulding Ave &amp; Armitage Ave  </span></td><td>Subscriber</td><td><span style=white-space:pre-wrap>Male  </span></td><td>1977</td></tr>\n",
       "\t<tr><td>25223651</td><td>2019-10-01 00:07:25</td><td>2019-10-01 00:19:53</td><td>3601</td><td> 748</td><td>198</td><td><span style=white-space:pre-wrap>Green St &amp; Madison St         </span></td><td>331</td><td><span style=white-space:pre-wrap>Halsted St &amp; Clybourn Ave     </span></td><td>Subscriber</td><td>Female</td><td>1980</td></tr>\n",
       "\t<tr><td>25223652</td><td>2019-10-01 00:08:40</td><td>2019-10-01 00:26:00</td><td> 711</td><td>1039</td><td> 66</td><td><span style=white-space:pre-wrap>Clinton St &amp; Lake St          </span></td><td> 16</td><td><span style=white-space:pre-wrap>Paulina Ave &amp; North Ave       </span></td><td><span style=white-space:pre-wrap>Customer  </span></td><td><span style=white-space:pre-wrap>Male  </span></td><td>1994</td></tr>\n",
       "\t<tr><td>25223653</td><td>2019-10-01 00:08:52</td><td>2019-10-01 00:29:17</td><td>5005</td><td>1224</td><td>240</td><td><span style=white-space:pre-wrap>Sheridan Rd &amp; Irving Park Rd  </span></td><td>230</td><td><span style=white-space:pre-wrap>Lincoln Ave &amp; Roscoe St       </span></td><td><span style=white-space:pre-wrap>Customer  </span></td><td><span style=white-space:pre-wrap>NA    </span></td><td><span style=white-space:pre-wrap>  NA</span></td></tr>\n",
       "\t<tr><td>25223655</td><td>2019-10-01 00:10:03</td><td>2019-10-01 00:15:30</td><td>1730</td><td> 326</td><td> 66</td><td><span style=white-space:pre-wrap>Clinton St &amp; Lake St          </span></td><td> 88</td><td><span style=white-space:pre-wrap>Racine Ave &amp; Randolph St      </span></td><td>Subscriber</td><td><span style=white-space:pre-wrap>Male  </span></td><td>1992</td></tr>\n",
       "\t<tr><td>25223656</td><td>2019-10-01 00:10:46</td><td>2019-10-01 00:16:04</td><td>4595</td><td> 318</td><td>373</td><td><span style=white-space:pre-wrap>Kedzie Ave &amp; Chicago Ave      </span></td><td>377</td><td><span style=white-space:pre-wrap>Kedzie Ave &amp; Lake St          </span></td><td><span style=white-space:pre-wrap>Customer  </span></td><td><span style=white-space:pre-wrap>NA    </span></td><td><span style=white-space:pre-wrap>  NA</span></td></tr>\n",
       "\t<tr><td>25223657</td><td>2019-10-01 00:12:04</td><td>2019-10-01 01:13:36</td><td>2958</td><td>3692</td><td> 74</td><td><span style=white-space:pre-wrap>Kingsbury St &amp; Erie St        </span></td><td>402</td><td><span style=white-space:pre-wrap>Shields Ave &amp; 31st St         </span></td><td><span style=white-space:pre-wrap>Customer  </span></td><td>Female</td><td>1962</td></tr>\n",
       "\t<tr><td>25223658</td><td>2019-10-01 00:12:47</td><td>2019-10-01 00:17:55</td><td>1489</td><td> 308</td><td>289</td><td><span style=white-space:pre-wrap>Wells St &amp; Concord Ln         </span></td><td>176</td><td><span style=white-space:pre-wrap>Clark St &amp; Elm St             </span></td><td>Subscriber</td><td><span style=white-space:pre-wrap>Male  </span></td><td>1992</td></tr>\n",
       "\t<tr><td>25223659</td><td>2019-10-01 00:13:21</td><td>2019-10-01 00:34:12</td><td>3602</td><td>1251</td><td>106</td><td><span style=white-space:pre-wrap>State St &amp; Pearson St         </span></td><td>334</td><td><span style=white-space:pre-wrap>Lake Shore Dr &amp; Belmont Ave   </span></td><td><span style=white-space:pre-wrap>Customer  </span></td><td><span style=white-space:pre-wrap>NA    </span></td><td><span style=white-space:pre-wrap>  NA</span></td></tr>\n",
       "\t<tr><td>25223660</td><td>2019-10-01 00:15:07</td><td>2019-10-01 00:40:34</td><td>4228</td><td>1527</td><td>133</td><td><span style=white-space:pre-wrap>Kingsbury St &amp; Kinzie St      </span></td><td>673</td><td><span style=white-space:pre-wrap>Lincoln Park Conservatory     </span></td><td><span style=white-space:pre-wrap>Customer  </span></td><td>Female</td><td>1995</td></tr>\n",
       "\t<tr><td>25223661</td><td>2019-10-01 00:15:22</td><td>2019-10-01 00:40:42</td><td> 447</td><td>1520</td><td>133</td><td><span style=white-space:pre-wrap>Kingsbury St &amp; Kinzie St      </span></td><td>673</td><td><span style=white-space:pre-wrap>Lincoln Park Conservatory     </span></td><td><span style=white-space:pre-wrap>Customer  </span></td><td><span style=white-space:pre-wrap>NA    </span></td><td><span style=white-space:pre-wrap>  NA</span></td></tr>\n",
       "\t<tr><td>25223662</td><td>2019-10-01 00:16:09</td><td>2019-10-01 00:41:05</td><td>1368</td><td>1496</td><td> 29</td><td><span style=white-space:pre-wrap>Noble St &amp; Milwaukee Ave      </span></td><td>498</td><td><span style=white-space:pre-wrap>California Ave &amp; Fletcher St  </span></td><td><span style=white-space:pre-wrap>Customer  </span></td><td><span style=white-space:pre-wrap>NA    </span></td><td><span style=white-space:pre-wrap>  NA</span></td></tr>\n",
       "\t<tr><td>25223663</td><td>2019-10-01 00:17:09</td><td>2019-10-01 00:22:01</td><td>5232</td><td> 292</td><td> 13</td><td><span style=white-space:pre-wrap>Wilton Ave &amp; Diversey Pkwy    </span></td><td>117</td><td><span style=white-space:pre-wrap>Wilton Ave &amp; Belmont Ave      </span></td><td>Subscriber</td><td><span style=white-space:pre-wrap>Male  </span></td><td>1991</td></tr>\n",
       "\t<tr><td>25223664</td><td>2019-10-01 00:17:09</td><td>2019-10-01 00:29:51</td><td>2188</td><td> 761</td><td>491</td><td><span style=white-space:pre-wrap>Talman Ave &amp; Addison St       </span></td><td>630</td><td><span style=white-space:pre-wrap>Kildare Ave &amp; Montrose Ave    </span></td><td><span style=white-space:pre-wrap>Customer  </span></td><td><span style=white-space:pre-wrap>Male  </span></td><td>1990</td></tr>\n",
       "\t<tr><td>25223665</td><td>2019-10-01 00:18:23</td><td>2019-10-01 00:25:17</td><td>6402</td><td> 413</td><td>309</td><td><span style=white-space:pre-wrap>Leavitt St &amp; Armitage Ave     </span></td><td>123</td><td>California Ave &amp; Milwaukee Ave</td><td>Subscriber</td><td><span style=white-space:pre-wrap>Male  </span></td><td>1987</td></tr>\n",
       "\t<tr><td>25223666</td><td>2019-10-01 00:18:32</td><td>2019-10-01 00:45:33</td><td>2388</td><td>1621</td><td>103</td><td><span style=white-space:pre-wrap>Clinton St &amp; Polk St          </span></td><td>103</td><td><span style=white-space:pre-wrap>Clinton St &amp; Polk St          </span></td><td><span style=white-space:pre-wrap>Customer  </span></td><td><span style=white-space:pre-wrap>NA    </span></td><td><span style=white-space:pre-wrap>  NA</span></td></tr>\n",
       "\t<tr><td>25223667</td><td>2019-10-01 00:20:34</td><td>2019-10-01 00:25:03</td><td>5658</td><td> 269</td><td>264</td><td><span style=white-space:pre-wrap>Stetson Ave &amp; South Water St  </span></td><td><span style=white-space:pre-wrap>  7</span></td><td><span style=white-space:pre-wrap>Field Blvd &amp; South Water St   </span></td><td>Subscriber</td><td><span style=white-space:pre-wrap>Male  </span></td><td>1967</td></tr>\n",
       "\t<tr><td>25223668</td><td>2019-10-01 00:21:06</td><td>2019-10-01 00:27:18</td><td>5354</td><td> 371</td><td>169</td><td><span style=white-space:pre-wrap>Canal St &amp; Harrison St        </span></td><td> 66</td><td><span style=white-space:pre-wrap>Clinton St &amp; Lake St          </span></td><td>Subscriber</td><td><span style=white-space:pre-wrap>Male  </span></td><td>1964</td></tr>\n",
       "\t<tr><td>25223669</td><td>2019-10-01 00:21:19</td><td>2019-10-01 00:52:23</td><td>5479</td><td>1863</td><td>323</td><td><span style=white-space:pre-wrap>Sheridan Rd &amp; Lawrence Ave    </span></td><td>465</td><td><span style=white-space:pre-wrap>Marine Dr &amp; Ainslie St        </span></td><td><span style=white-space:pre-wrap>Customer  </span></td><td><span style=white-space:pre-wrap>NA    </span></td><td><span style=white-space:pre-wrap>  NA</span></td></tr>\n",
       "\t<tr><td>25223670</td><td>2019-10-01 00:21:32</td><td>2019-10-01 00:30:22</td><td>6321</td><td> 530</td><td>291</td><td><span style=white-space:pre-wrap>Wells St &amp; Evergreen Ave      </span></td><td>161</td><td><span style=white-space:pre-wrap>Rush St &amp; Superior St         </span></td><td>Subscriber</td><td>Female</td><td>1991</td></tr>\n",
       "\t<tr><td>⋮</td><td>⋮</td><td>⋮</td><td>⋮</td><td>⋮</td><td>⋮</td><td>⋮</td><td>⋮</td><td>⋮</td><td>⋮</td><td>⋮</td><td>⋮</td></tr>\n",
       "\t<tr><td>25962873</td><td>2019-12-31 23:30:31</td><td>2019-12-31 23:34:49</td><td>2382</td><td> 257</td><td>148</td><td><span style=white-space:pre-wrap>State St &amp; 33rd St                 </span></td><td>402</td><td><span style=white-space:pre-wrap>Shields Ave &amp; 31st St             </span></td><td>Subscriber</td><td><span style=white-space:pre-wrap>Male  </span></td><td>1995</td></tr>\n",
       "\t<tr><td>25962874</td><td>2019-12-31 23:31:35</td><td>2019-12-31 23:50:47</td><td>3388</td><td>1152</td><td>174</td><td><span style=white-space:pre-wrap>Canal St &amp; Madison St              </span></td><td> 33</td><td><span style=white-space:pre-wrap>State St &amp; Van Buren St           </span></td><td>Subscriber</td><td><span style=white-space:pre-wrap>Male  </span></td><td>1985</td></tr>\n",
       "\t<tr><td>25962875</td><td>2019-12-31 23:31:59</td><td>2019-12-31 23:40:41</td><td>3213</td><td> 522</td><td>277</td><td><span style=white-space:pre-wrap>Ashland Ave &amp; Grand Ave            </span></td><td>130</td><td><span style=white-space:pre-wrap>Damen Ave &amp; Division St           </span></td><td>Subscriber</td><td><span style=white-space:pre-wrap>Male  </span></td><td>1984</td></tr>\n",
       "\t<tr><td>25962876</td><td>2019-12-31 23:32:47</td><td>2019-12-31 23:45:47</td><td>4599</td><td> 780</td><td>275</td><td><span style=white-space:pre-wrap>Ashland Ave &amp; 13th St              </span></td><td>205</td><td><span style=white-space:pre-wrap>Paulina St &amp; 18th St              </span></td><td>Subscriber</td><td><span style=white-space:pre-wrap>Male  </span></td><td>1987</td></tr>\n",
       "\t<tr><td>25962877</td><td>2019-12-31 23:35:20</td><td>2019-12-31 23:39:45</td><td>1914</td><td> 265</td><td>417</td><td><span style=white-space:pre-wrap>Cornell Ave &amp; Hyde Park Blvd       </span></td><td>345</td><td><span style=white-space:pre-wrap>Lake Park Ave &amp; 56th St           </span></td><td>Subscriber</td><td><span style=white-space:pre-wrap>Male  </span></td><td>1993</td></tr>\n",
       "\t<tr><td>25962878</td><td>2019-12-31 23:35:28</td><td>2019-12-31 23:40:59</td><td>3775</td><td> 330</td><td>160</td><td><span style=white-space:pre-wrap>Campbell Ave &amp; North Ave           </span></td><td>309</td><td><span style=white-space:pre-wrap>Leavitt St &amp; Armitage Ave         </span></td><td>Subscriber</td><td><span style=white-space:pre-wrap>Male  </span></td><td>1991</td></tr>\n",
       "\t<tr><td>25962879</td><td>2019-12-31 23:36:30</td><td>2019-12-31 23:56:19</td><td>4877</td><td>1189</td><td> 90</td><td>Millennium Park                    </td><td> 90</td><td>Millennium Park                   </td><td>Subscriber</td><td>Male  </td><td>1992</td></tr>\n",
       "\t<tr><td>25962880</td><td>2019-12-31 23:40:08</td><td>2019-12-31 23:48:46</td><td>6330</td><td> 517</td><td>241</td><td><span style=white-space:pre-wrap>Morgan St &amp; Polk St                </span></td><td> 15</td><td><span style=white-space:pre-wrap>Racine Ave &amp; 18th St              </span></td><td>Subscriber</td><td><span style=white-space:pre-wrap>Male  </span></td><td>1994</td></tr>\n",
       "\t<tr><td>25962881</td><td>2019-12-31 23:41:31</td><td>2019-12-31 23:50:18</td><td>6025</td><td> 527</td><td>159</td><td><span style=white-space:pre-wrap>Claremont Ave &amp; Hirsch St          </span></td><td> 20</td><td><span style=white-space:pre-wrap>Sheffield Ave &amp; Kingsbury St      </span></td><td>Subscriber</td><td><span style=white-space:pre-wrap>Male  </span></td><td>1989</td></tr>\n",
       "\t<tr><td>25962882</td><td>2019-12-31 23:41:49</td><td>2020-01-01 00:28:39</td><td> 269</td><td>2809</td><td>394</td><td><span style=white-space:pre-wrap>Clark St &amp; 9th St (AMLI)           </span></td><td>394</td><td><span style=white-space:pre-wrap>Clark St &amp; 9th St (AMLI)          </span></td><td>Subscriber</td><td>Female</td><td>1974</td></tr>\n",
       "\t<tr><td>25962885</td><td>2019-12-31 23:42:11</td><td>2020-01-01 00:24:21</td><td> 389</td><td>2530</td><td>145</td><td>Mies van der Rohe Way &amp; Chestnut St</td><td> 26</td><td><span style=white-space:pre-wrap>McClurg Ct &amp; Illinois St          </span></td><td>Subscriber</td><td>Female</td><td>1979</td></tr>\n",
       "\t<tr><td>25962886</td><td>2019-12-31 23:42:41</td><td>2020-01-01 00:39:20</td><td>3701</td><td>3398</td><td>232</td><td><span style=white-space:pre-wrap>Pine Grove Ave &amp; Waveland Ave      </span></td><td>232</td><td><span style=white-space:pre-wrap>Pine Grove Ave &amp; Waveland Ave     </span></td><td>Subscriber</td><td><span style=white-space:pre-wrap>Male  </span></td><td>1977</td></tr>\n",
       "\t<tr><td>25962887</td><td>2019-12-31 23:43:41</td><td>2020-01-01 00:56:43</td><td><span style=white-space:pre-wrap>  73</span></td><td>4381</td><td>289</td><td><span style=white-space:pre-wrap>Wells St &amp; Concord Ln              </span></td><td>289</td><td><span style=white-space:pre-wrap>Wells St &amp; Concord Ln             </span></td><td>Subscriber</td><td>Female</td><td>1996</td></tr>\n",
       "\t<tr><td>25962888</td><td>2019-12-31 23:44:59</td><td>2019-12-31 23:50:34</td><td>6053</td><td> 335</td><td>144</td><td><span style=white-space:pre-wrap>Larrabee St &amp; Webster Ave          </span></td><td>289</td><td><span style=white-space:pre-wrap>Wells St &amp; Concord Ln             </span></td><td>Subscriber</td><td><span style=white-space:pre-wrap>Male  </span></td><td>1989</td></tr>\n",
       "\t<tr><td>25962889</td><td>2019-12-31 23:45:35</td><td>2019-12-31 23:48:17</td><td>2076</td><td> 161</td><td>140</td><td><span style=white-space:pre-wrap>Dearborn Pkwy &amp; Delaware Pl        </span></td><td>161</td><td><span style=white-space:pre-wrap>Rush St &amp; Superior St             </span></td><td>Subscriber</td><td><span style=white-space:pre-wrap>Male  </span></td><td>1994</td></tr>\n",
       "\t<tr><td>25962890</td><td>2019-12-31 23:46:19</td><td>2019-12-31 23:53:51</td><td><span style=white-space:pre-wrap>  41</span></td><td> 451</td><td>641</td><td>Central Park Ave &amp; Bloomingdale Ave</td><td>259</td><td>California Ave &amp; Francis Pl (Temp)</td><td>Subscriber</td><td><span style=white-space:pre-wrap>Male  </span></td><td>1966</td></tr>\n",
       "\t<tr><td>25962891</td><td>2019-12-31 23:49:38</td><td>2020-01-01 00:15:19</td><td>2936</td><td>1540</td><td> 90</td><td><span style=white-space:pre-wrap>Millennium Park                    </span></td><td> 76</td><td><span style=white-space:pre-wrap>Lake Shore Dr &amp; Monroe St         </span></td><td><span style=white-space:pre-wrap>Customer  </span></td><td><span style=white-space:pre-wrap>NA    </span></td><td><span style=white-space:pre-wrap>  NA</span></td></tr>\n",
       "\t<tr><td>25962892</td><td>2019-12-31 23:49:43</td><td>2020-01-01 00:21:51</td><td>1671</td><td>1927</td><td> 90</td><td><span style=white-space:pre-wrap>Millennium Park                    </span></td><td> 76</td><td><span style=white-space:pre-wrap>Lake Shore Dr &amp; Monroe St         </span></td><td><span style=white-space:pre-wrap>Customer  </span></td><td><span style=white-space:pre-wrap>NA    </span></td><td><span style=white-space:pre-wrap>  NA</span></td></tr>\n",
       "\t<tr><td>25962893</td><td>2019-12-31 23:49:51</td><td>2020-01-01 00:22:08</td><td>3925</td><td>1936</td><td> 90</td><td><span style=white-space:pre-wrap>Millennium Park                    </span></td><td> 76</td><td><span style=white-space:pre-wrap>Lake Shore Dr &amp; Monroe St         </span></td><td><span style=white-space:pre-wrap>Customer  </span></td><td><span style=white-space:pre-wrap>NA    </span></td><td><span style=white-space:pre-wrap>  NA</span></td></tr>\n",
       "\t<tr><td>25962894</td><td>2019-12-31 23:49:53</td><td>2020-01-01 00:22:30</td><td>2898</td><td>1956</td><td> 90</td><td><span style=white-space:pre-wrap>Millennium Park                    </span></td><td> 76</td><td><span style=white-space:pre-wrap>Lake Shore Dr &amp; Monroe St         </span></td><td><span style=white-space:pre-wrap>Customer  </span></td><td><span style=white-space:pre-wrap>NA    </span></td><td><span style=white-space:pre-wrap>  NA</span></td></tr>\n",
       "\t<tr><td>25962895</td><td>2019-12-31 23:50:05</td><td>2019-12-31 23:53:33</td><td>1720</td><td> 208</td><td>624</td><td><span style=white-space:pre-wrap>Dearborn St &amp; Van Buren St         </span></td><td> 81</td><td><span style=white-space:pre-wrap>Daley Center Plaza                </span></td><td>Subscriber</td><td>Female</td><td>1990</td></tr>\n",
       "\t<tr><td>25962896</td><td>2019-12-31 23:50:19</td><td>2019-12-31 23:55:37</td><td>4561</td><td> 318</td><td>255</td><td><span style=white-space:pre-wrap>Indiana Ave &amp; Roosevelt Rd         </span></td><td><span style=white-space:pre-wrap>  3</span></td><td><span style=white-space:pre-wrap>Shedd Aquarium                    </span></td><td>Subscriber</td><td><span style=white-space:pre-wrap>Male  </span></td><td>1990</td></tr>\n",
       "\t<tr><td>25962897</td><td>2019-12-31 23:51:19</td><td>2019-12-31 23:55:33</td><td>5654</td><td> 254</td><td>638</td><td><span style=white-space:pre-wrap>Clinton St &amp; Jackson Blvd          </span></td><td>134</td><td><span style=white-space:pre-wrap>Peoria St &amp; Jackson Blvd          </span></td><td>Subscriber</td><td><span style=white-space:pre-wrap>Male  </span></td><td>1997</td></tr>\n",
       "\t<tr><td>25962898</td><td>2019-12-31 23:54:38</td><td>2020-01-01 00:04:38</td><td> 606</td><td> 599</td><td>455</td><td><span style=white-space:pre-wrap>Maplewood Ave &amp; Peterson Ave       </span></td><td>467</td><td><span style=white-space:pre-wrap>Western Ave &amp; Lunt Ave            </span></td><td>Subscriber</td><td><span style=white-space:pre-wrap>Male  </span></td><td>1986</td></tr>\n",
       "\t<tr><td>25962899</td><td>2019-12-31 23:54:54</td><td>2020-01-01 00:22:02</td><td>5996</td><td>1628</td><td>145</td><td>Mies van der Rohe Way &amp; Chestnut St</td><td> 25</td><td><span style=white-space:pre-wrap>Michigan Ave &amp; Pearson St         </span></td><td>Subscriber</td><td><span style=white-space:pre-wrap>Male  </span></td><td>1992</td></tr>\n",
       "\t<tr><td>25962900</td><td>2019-12-31 23:56:13</td><td>2020-01-01 00:15:45</td><td>2196</td><td>1172</td><td>112</td><td><span style=white-space:pre-wrap>Green St &amp; Randolph St             </span></td><td>225</td><td><span style=white-space:pre-wrap>Halsted St &amp; Dickens Ave          </span></td><td>Subscriber</td><td><span style=white-space:pre-wrap>Male  </span></td><td>1981</td></tr>\n",
       "\t<tr><td>25962901</td><td>2019-12-31 23:56:34</td><td>2020-01-01 00:22:08</td><td>4877</td><td>1533</td><td> 90</td><td>Millennium Park                    </td><td> 90</td><td>Millennium Park                   </td><td>Subscriber</td><td>Male  </td><td>1992</td></tr>\n",
       "\t<tr><td>25962902</td><td>2019-12-31 23:57:05</td><td>2020-01-01 00:05:46</td><td> 863</td><td> 520</td><td>623</td><td><span style=white-space:pre-wrap>Michigan Ave &amp; 8th St              </span></td><td> 52</td><td><span style=white-space:pre-wrap>Michigan Ave &amp; Lake St            </span></td><td>Subscriber</td><td><span style=white-space:pre-wrap>Male  </span></td><td>1967</td></tr>\n",
       "\t<tr><td>25962903</td><td>2019-12-31 23:57:11</td><td>2020-01-01 00:05:45</td><td>2637</td><td> 514</td><td>623</td><td><span style=white-space:pre-wrap>Michigan Ave &amp; 8th St              </span></td><td> 52</td><td><span style=white-space:pre-wrap>Michigan Ave &amp; Lake St            </span></td><td>Subscriber</td><td>Female</td><td>1970</td></tr>\n",
       "\t<tr><td>25962904</td><td>2019-12-31 23:57:17</td><td>2019-12-31 23:59:18</td><td>5930</td><td> 120</td><td>256</td><td><span style=white-space:pre-wrap>Broadway &amp; Sheridan Rd             </span></td><td>240</td><td><span style=white-space:pre-wrap>Sheridan Rd &amp; Irving Park Rd      </span></td><td>Subscriber</td><td><span style=white-space:pre-wrap>Male  </span></td><td>1982</td></tr>\n",
       "</tbody>\n",
       "</table>\n"
      ],
      "text/latex": [
       "A spec\\_tbl\\_df: 704054 × 12\n",
       "\\begin{tabular}{llllllllllll}\n",
       " ride\\_id & started\\_at & ended\\_at & rideable\\_type & tripduration & start\\_station\\_id & start\\_station\\_name & end\\_station\\_id & end\\_station\\_name & member\\_casual & gender & birthyear\\\\\n",
       " <dbl> & <dttm> & <dttm> & <dbl> & <dbl> & <dbl> & <chr> & <dbl> & <chr> & <chr> & <chr> & <dbl>\\\\\n",
       "\\hline\n",
       "\t 25223640 & 2019-10-01 00:01:39 & 2019-10-01 00:17:20 & 2215 &  940 &  20 & Sheffield Ave \\& Kingsbury St   & 309 & Leavitt St \\& Armitage Ave      & Subscriber & Male   & 1987\\\\\n",
       "\t 25223641 & 2019-10-01 00:02:16 & 2019-10-01 00:06:34 & 6328 &  258 &  19 & Throop (Loomis) St \\& Taylor St & 241 & Morgan St \\& Polk St            & Subscriber & Male   & 1998\\\\\n",
       "\t 25223642 & 2019-10-01 00:04:32 & 2019-10-01 00:18:43 & 3003 &  850 &  84 & Milwaukee Ave \\& Grand Ave      & 199 & Wabash Ave \\& Grand Ave         & Subscriber & Female & 1991\\\\\n",
       "\t 25223643 & 2019-10-01 00:04:32 & 2019-10-01 00:43:43 & 3275 & 2350 & 313 & Lakeview Ave \\& Fullerton Pkwy  & 290 & Kedzie Ave \\& Palmer Ct         & Subscriber & Male   & 1990\\\\\n",
       "\t 25223644 & 2019-10-01 00:04:34 & 2019-10-01 00:35:42 & 5294 & 1867 & 210 & Ashland Ave \\& Division St      & 382 & Western Ave \\& Congress Pkwy    & Subscriber & Male   & 1987\\\\\n",
       "\t 25223645 & 2019-10-01 00:04:38 & 2019-10-01 00:10:51 & 1891 &  373 & 156 & Clark St \\& Wellington Ave      & 226 & Racine Ave \\& Belmont Ave       & Subscriber & Female & 1994\\\\\n",
       "\t 25223646 & 2019-10-01 00:04:52 & 2019-10-01 00:22:45 & 1061 & 1072 &  84 & Milwaukee Ave \\& Grand Ave      & 142 & McClurg Ct \\& Erie St           & Subscriber & Female & 1991\\\\\n",
       "\t 25223647 & 2019-10-01 00:04:57 & 2019-10-01 00:29:16 & 1274 & 1458 & 156 & Clark St \\& Wellington Ave      & 463 & Clark St \\& Berwyn Ave          & Subscriber & Male   & 1995\\\\\n",
       "\t 25223648 & 2019-10-01 00:05:20 & 2019-10-01 00:29:18 & 6011 & 1437 & 156 & Clark St \\& Wellington Ave      & 463 & Clark St \\& Berwyn Ave          & Subscriber & Female & 1993\\\\\n",
       "\t 25223649 & 2019-10-01 00:05:20 & 2019-10-01 02:23:46 & 2957 & 8306 & 336 & Cottage Grove Ave \\& 47th St    & 336 & Cottage Grove Ave \\& 47th St    & Customer   & NA     &   NA\\\\\n",
       "\t 25223650 & 2019-10-01 00:05:30 & 2019-10-01 00:37:36 & 2564 & 1925 &  77 & Clinton St \\& Madison St        & 506 & Spaulding Ave \\& Armitage Ave   & Subscriber & Male   & 1977\\\\\n",
       "\t 25223651 & 2019-10-01 00:07:25 & 2019-10-01 00:19:53 & 3601 &  748 & 198 & Green St \\& Madison St          & 331 & Halsted St \\& Clybourn Ave      & Subscriber & Female & 1980\\\\\n",
       "\t 25223652 & 2019-10-01 00:08:40 & 2019-10-01 00:26:00 &  711 & 1039 &  66 & Clinton St \\& Lake St           &  16 & Paulina Ave \\& North Ave        & Customer   & Male   & 1994\\\\\n",
       "\t 25223653 & 2019-10-01 00:08:52 & 2019-10-01 00:29:17 & 5005 & 1224 & 240 & Sheridan Rd \\& Irving Park Rd   & 230 & Lincoln Ave \\& Roscoe St        & Customer   & NA     &   NA\\\\\n",
       "\t 25223655 & 2019-10-01 00:10:03 & 2019-10-01 00:15:30 & 1730 &  326 &  66 & Clinton St \\& Lake St           &  88 & Racine Ave \\& Randolph St       & Subscriber & Male   & 1992\\\\\n",
       "\t 25223656 & 2019-10-01 00:10:46 & 2019-10-01 00:16:04 & 4595 &  318 & 373 & Kedzie Ave \\& Chicago Ave       & 377 & Kedzie Ave \\& Lake St           & Customer   & NA     &   NA\\\\\n",
       "\t 25223657 & 2019-10-01 00:12:04 & 2019-10-01 01:13:36 & 2958 & 3692 &  74 & Kingsbury St \\& Erie St         & 402 & Shields Ave \\& 31st St          & Customer   & Female & 1962\\\\\n",
       "\t 25223658 & 2019-10-01 00:12:47 & 2019-10-01 00:17:55 & 1489 &  308 & 289 & Wells St \\& Concord Ln          & 176 & Clark St \\& Elm St              & Subscriber & Male   & 1992\\\\\n",
       "\t 25223659 & 2019-10-01 00:13:21 & 2019-10-01 00:34:12 & 3602 & 1251 & 106 & State St \\& Pearson St          & 334 & Lake Shore Dr \\& Belmont Ave    & Customer   & NA     &   NA\\\\\n",
       "\t 25223660 & 2019-10-01 00:15:07 & 2019-10-01 00:40:34 & 4228 & 1527 & 133 & Kingsbury St \\& Kinzie St       & 673 & Lincoln Park Conservatory      & Customer   & Female & 1995\\\\\n",
       "\t 25223661 & 2019-10-01 00:15:22 & 2019-10-01 00:40:42 &  447 & 1520 & 133 & Kingsbury St \\& Kinzie St       & 673 & Lincoln Park Conservatory      & Customer   & NA     &   NA\\\\\n",
       "\t 25223662 & 2019-10-01 00:16:09 & 2019-10-01 00:41:05 & 1368 & 1496 &  29 & Noble St \\& Milwaukee Ave       & 498 & California Ave \\& Fletcher St   & Customer   & NA     &   NA\\\\\n",
       "\t 25223663 & 2019-10-01 00:17:09 & 2019-10-01 00:22:01 & 5232 &  292 &  13 & Wilton Ave \\& Diversey Pkwy     & 117 & Wilton Ave \\& Belmont Ave       & Subscriber & Male   & 1991\\\\\n",
       "\t 25223664 & 2019-10-01 00:17:09 & 2019-10-01 00:29:51 & 2188 &  761 & 491 & Talman Ave \\& Addison St        & 630 & Kildare Ave \\& Montrose Ave     & Customer   & Male   & 1990\\\\\n",
       "\t 25223665 & 2019-10-01 00:18:23 & 2019-10-01 00:25:17 & 6402 &  413 & 309 & Leavitt St \\& Armitage Ave      & 123 & California Ave \\& Milwaukee Ave & Subscriber & Male   & 1987\\\\\n",
       "\t 25223666 & 2019-10-01 00:18:32 & 2019-10-01 00:45:33 & 2388 & 1621 & 103 & Clinton St \\& Polk St           & 103 & Clinton St \\& Polk St           & Customer   & NA     &   NA\\\\\n",
       "\t 25223667 & 2019-10-01 00:20:34 & 2019-10-01 00:25:03 & 5658 &  269 & 264 & Stetson Ave \\& South Water St   &   7 & Field Blvd \\& South Water St    & Subscriber & Male   & 1967\\\\\n",
       "\t 25223668 & 2019-10-01 00:21:06 & 2019-10-01 00:27:18 & 5354 &  371 & 169 & Canal St \\& Harrison St         &  66 & Clinton St \\& Lake St           & Subscriber & Male   & 1964\\\\\n",
       "\t 25223669 & 2019-10-01 00:21:19 & 2019-10-01 00:52:23 & 5479 & 1863 & 323 & Sheridan Rd \\& Lawrence Ave     & 465 & Marine Dr \\& Ainslie St         & Customer   & NA     &   NA\\\\\n",
       "\t 25223670 & 2019-10-01 00:21:32 & 2019-10-01 00:30:22 & 6321 &  530 & 291 & Wells St \\& Evergreen Ave       & 161 & Rush St \\& Superior St          & Subscriber & Female & 1991\\\\\n",
       "\t ⋮ & ⋮ & ⋮ & ⋮ & ⋮ & ⋮ & ⋮ & ⋮ & ⋮ & ⋮ & ⋮ & ⋮\\\\\n",
       "\t 25962873 & 2019-12-31 23:30:31 & 2019-12-31 23:34:49 & 2382 &  257 & 148 & State St \\& 33rd St                  & 402 & Shields Ave \\& 31st St              & Subscriber & Male   & 1995\\\\\n",
       "\t 25962874 & 2019-12-31 23:31:35 & 2019-12-31 23:50:47 & 3388 & 1152 & 174 & Canal St \\& Madison St               &  33 & State St \\& Van Buren St            & Subscriber & Male   & 1985\\\\\n",
       "\t 25962875 & 2019-12-31 23:31:59 & 2019-12-31 23:40:41 & 3213 &  522 & 277 & Ashland Ave \\& Grand Ave             & 130 & Damen Ave \\& Division St            & Subscriber & Male   & 1984\\\\\n",
       "\t 25962876 & 2019-12-31 23:32:47 & 2019-12-31 23:45:47 & 4599 &  780 & 275 & Ashland Ave \\& 13th St               & 205 & Paulina St \\& 18th St               & Subscriber & Male   & 1987\\\\\n",
       "\t 25962877 & 2019-12-31 23:35:20 & 2019-12-31 23:39:45 & 1914 &  265 & 417 & Cornell Ave \\& Hyde Park Blvd        & 345 & Lake Park Ave \\& 56th St            & Subscriber & Male   & 1993\\\\\n",
       "\t 25962878 & 2019-12-31 23:35:28 & 2019-12-31 23:40:59 & 3775 &  330 & 160 & Campbell Ave \\& North Ave            & 309 & Leavitt St \\& Armitage Ave          & Subscriber & Male   & 1991\\\\\n",
       "\t 25962879 & 2019-12-31 23:36:30 & 2019-12-31 23:56:19 & 4877 & 1189 &  90 & Millennium Park                     &  90 & Millennium Park                    & Subscriber & Male   & 1992\\\\\n",
       "\t 25962880 & 2019-12-31 23:40:08 & 2019-12-31 23:48:46 & 6330 &  517 & 241 & Morgan St \\& Polk St                 &  15 & Racine Ave \\& 18th St               & Subscriber & Male   & 1994\\\\\n",
       "\t 25962881 & 2019-12-31 23:41:31 & 2019-12-31 23:50:18 & 6025 &  527 & 159 & Claremont Ave \\& Hirsch St           &  20 & Sheffield Ave \\& Kingsbury St       & Subscriber & Male   & 1989\\\\\n",
       "\t 25962882 & 2019-12-31 23:41:49 & 2020-01-01 00:28:39 &  269 & 2809 & 394 & Clark St \\& 9th St (AMLI)            & 394 & Clark St \\& 9th St (AMLI)           & Subscriber & Female & 1974\\\\\n",
       "\t 25962885 & 2019-12-31 23:42:11 & 2020-01-01 00:24:21 &  389 & 2530 & 145 & Mies van der Rohe Way \\& Chestnut St &  26 & McClurg Ct \\& Illinois St           & Subscriber & Female & 1979\\\\\n",
       "\t 25962886 & 2019-12-31 23:42:41 & 2020-01-01 00:39:20 & 3701 & 3398 & 232 & Pine Grove Ave \\& Waveland Ave       & 232 & Pine Grove Ave \\& Waveland Ave      & Subscriber & Male   & 1977\\\\\n",
       "\t 25962887 & 2019-12-31 23:43:41 & 2020-01-01 00:56:43 &   73 & 4381 & 289 & Wells St \\& Concord Ln               & 289 & Wells St \\& Concord Ln              & Subscriber & Female & 1996\\\\\n",
       "\t 25962888 & 2019-12-31 23:44:59 & 2019-12-31 23:50:34 & 6053 &  335 & 144 & Larrabee St \\& Webster Ave           & 289 & Wells St \\& Concord Ln              & Subscriber & Male   & 1989\\\\\n",
       "\t 25962889 & 2019-12-31 23:45:35 & 2019-12-31 23:48:17 & 2076 &  161 & 140 & Dearborn Pkwy \\& Delaware Pl         & 161 & Rush St \\& Superior St              & Subscriber & Male   & 1994\\\\\n",
       "\t 25962890 & 2019-12-31 23:46:19 & 2019-12-31 23:53:51 &   41 &  451 & 641 & Central Park Ave \\& Bloomingdale Ave & 259 & California Ave \\& Francis Pl (Temp) & Subscriber & Male   & 1966\\\\\n",
       "\t 25962891 & 2019-12-31 23:49:38 & 2020-01-01 00:15:19 & 2936 & 1540 &  90 & Millennium Park                     &  76 & Lake Shore Dr \\& Monroe St          & Customer   & NA     &   NA\\\\\n",
       "\t 25962892 & 2019-12-31 23:49:43 & 2020-01-01 00:21:51 & 1671 & 1927 &  90 & Millennium Park                     &  76 & Lake Shore Dr \\& Monroe St          & Customer   & NA     &   NA\\\\\n",
       "\t 25962893 & 2019-12-31 23:49:51 & 2020-01-01 00:22:08 & 3925 & 1936 &  90 & Millennium Park                     &  76 & Lake Shore Dr \\& Monroe St          & Customer   & NA     &   NA\\\\\n",
       "\t 25962894 & 2019-12-31 23:49:53 & 2020-01-01 00:22:30 & 2898 & 1956 &  90 & Millennium Park                     &  76 & Lake Shore Dr \\& Monroe St          & Customer   & NA     &   NA\\\\\n",
       "\t 25962895 & 2019-12-31 23:50:05 & 2019-12-31 23:53:33 & 1720 &  208 & 624 & Dearborn St \\& Van Buren St          &  81 & Daley Center Plaza                 & Subscriber & Female & 1990\\\\\n",
       "\t 25962896 & 2019-12-31 23:50:19 & 2019-12-31 23:55:37 & 4561 &  318 & 255 & Indiana Ave \\& Roosevelt Rd          &   3 & Shedd Aquarium                     & Subscriber & Male   & 1990\\\\\n",
       "\t 25962897 & 2019-12-31 23:51:19 & 2019-12-31 23:55:33 & 5654 &  254 & 638 & Clinton St \\& Jackson Blvd           & 134 & Peoria St \\& Jackson Blvd           & Subscriber & Male   & 1997\\\\\n",
       "\t 25962898 & 2019-12-31 23:54:38 & 2020-01-01 00:04:38 &  606 &  599 & 455 & Maplewood Ave \\& Peterson Ave        & 467 & Western Ave \\& Lunt Ave             & Subscriber & Male   & 1986\\\\\n",
       "\t 25962899 & 2019-12-31 23:54:54 & 2020-01-01 00:22:02 & 5996 & 1628 & 145 & Mies van der Rohe Way \\& Chestnut St &  25 & Michigan Ave \\& Pearson St          & Subscriber & Male   & 1992\\\\\n",
       "\t 25962900 & 2019-12-31 23:56:13 & 2020-01-01 00:15:45 & 2196 & 1172 & 112 & Green St \\& Randolph St              & 225 & Halsted St \\& Dickens Ave           & Subscriber & Male   & 1981\\\\\n",
       "\t 25962901 & 2019-12-31 23:56:34 & 2020-01-01 00:22:08 & 4877 & 1533 &  90 & Millennium Park                     &  90 & Millennium Park                    & Subscriber & Male   & 1992\\\\\n",
       "\t 25962902 & 2019-12-31 23:57:05 & 2020-01-01 00:05:46 &  863 &  520 & 623 & Michigan Ave \\& 8th St               &  52 & Michigan Ave \\& Lake St             & Subscriber & Male   & 1967\\\\\n",
       "\t 25962903 & 2019-12-31 23:57:11 & 2020-01-01 00:05:45 & 2637 &  514 & 623 & Michigan Ave \\& 8th St               &  52 & Michigan Ave \\& Lake St             & Subscriber & Female & 1970\\\\\n",
       "\t 25962904 & 2019-12-31 23:57:17 & 2019-12-31 23:59:18 & 5930 &  120 & 256 & Broadway \\& Sheridan Rd              & 240 & Sheridan Rd \\& Irving Park Rd       & Subscriber & Male   & 1982\\\\\n",
       "\\end{tabular}\n"
      ],
      "text/markdown": [
       "\n",
       "A spec_tbl_df: 704054 × 12\n",
       "\n",
       "| ride_id &lt;dbl&gt; | started_at &lt;dttm&gt; | ended_at &lt;dttm&gt; | rideable_type &lt;dbl&gt; | tripduration &lt;dbl&gt; | start_station_id &lt;dbl&gt; | start_station_name &lt;chr&gt; | end_station_id &lt;dbl&gt; | end_station_name &lt;chr&gt; | member_casual &lt;chr&gt; | gender &lt;chr&gt; | birthyear &lt;dbl&gt; |\n",
       "|---|---|---|---|---|---|---|---|---|---|---|---|\n",
       "| 25223640 | 2019-10-01 00:01:39 | 2019-10-01 00:17:20 | 2215 |  940 |  20 | Sheffield Ave &amp; Kingsbury St   | 309 | Leavitt St &amp; Armitage Ave      | Subscriber | Male   | 1987 |\n",
       "| 25223641 | 2019-10-01 00:02:16 | 2019-10-01 00:06:34 | 6328 |  258 |  19 | Throop (Loomis) St &amp; Taylor St | 241 | Morgan St &amp; Polk St            | Subscriber | Male   | 1998 |\n",
       "| 25223642 | 2019-10-01 00:04:32 | 2019-10-01 00:18:43 | 3003 |  850 |  84 | Milwaukee Ave &amp; Grand Ave      | 199 | Wabash Ave &amp; Grand Ave         | Subscriber | Female | 1991 |\n",
       "| 25223643 | 2019-10-01 00:04:32 | 2019-10-01 00:43:43 | 3275 | 2350 | 313 | Lakeview Ave &amp; Fullerton Pkwy  | 290 | Kedzie Ave &amp; Palmer Ct         | Subscriber | Male   | 1990 |\n",
       "| 25223644 | 2019-10-01 00:04:34 | 2019-10-01 00:35:42 | 5294 | 1867 | 210 | Ashland Ave &amp; Division St      | 382 | Western Ave &amp; Congress Pkwy    | Subscriber | Male   | 1987 |\n",
       "| 25223645 | 2019-10-01 00:04:38 | 2019-10-01 00:10:51 | 1891 |  373 | 156 | Clark St &amp; Wellington Ave      | 226 | Racine Ave &amp; Belmont Ave       | Subscriber | Female | 1994 |\n",
       "| 25223646 | 2019-10-01 00:04:52 | 2019-10-01 00:22:45 | 1061 | 1072 |  84 | Milwaukee Ave &amp; Grand Ave      | 142 | McClurg Ct &amp; Erie St           | Subscriber | Female | 1991 |\n",
       "| 25223647 | 2019-10-01 00:04:57 | 2019-10-01 00:29:16 | 1274 | 1458 | 156 | Clark St &amp; Wellington Ave      | 463 | Clark St &amp; Berwyn Ave          | Subscriber | Male   | 1995 |\n",
       "| 25223648 | 2019-10-01 00:05:20 | 2019-10-01 00:29:18 | 6011 | 1437 | 156 | Clark St &amp; Wellington Ave      | 463 | Clark St &amp; Berwyn Ave          | Subscriber | Female | 1993 |\n",
       "| 25223649 | 2019-10-01 00:05:20 | 2019-10-01 02:23:46 | 2957 | 8306 | 336 | Cottage Grove Ave &amp; 47th St    | 336 | Cottage Grove Ave &amp; 47th St    | Customer   | NA     |   NA |\n",
       "| 25223650 | 2019-10-01 00:05:30 | 2019-10-01 00:37:36 | 2564 | 1925 |  77 | Clinton St &amp; Madison St        | 506 | Spaulding Ave &amp; Armitage Ave   | Subscriber | Male   | 1977 |\n",
       "| 25223651 | 2019-10-01 00:07:25 | 2019-10-01 00:19:53 | 3601 |  748 | 198 | Green St &amp; Madison St          | 331 | Halsted St &amp; Clybourn Ave      | Subscriber | Female | 1980 |\n",
       "| 25223652 | 2019-10-01 00:08:40 | 2019-10-01 00:26:00 |  711 | 1039 |  66 | Clinton St &amp; Lake St           |  16 | Paulina Ave &amp; North Ave        | Customer   | Male   | 1994 |\n",
       "| 25223653 | 2019-10-01 00:08:52 | 2019-10-01 00:29:17 | 5005 | 1224 | 240 | Sheridan Rd &amp; Irving Park Rd   | 230 | Lincoln Ave &amp; Roscoe St        | Customer   | NA     |   NA |\n",
       "| 25223655 | 2019-10-01 00:10:03 | 2019-10-01 00:15:30 | 1730 |  326 |  66 | Clinton St &amp; Lake St           |  88 | Racine Ave &amp; Randolph St       | Subscriber | Male   | 1992 |\n",
       "| 25223656 | 2019-10-01 00:10:46 | 2019-10-01 00:16:04 | 4595 |  318 | 373 | Kedzie Ave &amp; Chicago Ave       | 377 | Kedzie Ave &amp; Lake St           | Customer   | NA     |   NA |\n",
       "| 25223657 | 2019-10-01 00:12:04 | 2019-10-01 01:13:36 | 2958 | 3692 |  74 | Kingsbury St &amp; Erie St         | 402 | Shields Ave &amp; 31st St          | Customer   | Female | 1962 |\n",
       "| 25223658 | 2019-10-01 00:12:47 | 2019-10-01 00:17:55 | 1489 |  308 | 289 | Wells St &amp; Concord Ln          | 176 | Clark St &amp; Elm St              | Subscriber | Male   | 1992 |\n",
       "| 25223659 | 2019-10-01 00:13:21 | 2019-10-01 00:34:12 | 3602 | 1251 | 106 | State St &amp; Pearson St          | 334 | Lake Shore Dr &amp; Belmont Ave    | Customer   | NA     |   NA |\n",
       "| 25223660 | 2019-10-01 00:15:07 | 2019-10-01 00:40:34 | 4228 | 1527 | 133 | Kingsbury St &amp; Kinzie St       | 673 | Lincoln Park Conservatory      | Customer   | Female | 1995 |\n",
       "| 25223661 | 2019-10-01 00:15:22 | 2019-10-01 00:40:42 |  447 | 1520 | 133 | Kingsbury St &amp; Kinzie St       | 673 | Lincoln Park Conservatory      | Customer   | NA     |   NA |\n",
       "| 25223662 | 2019-10-01 00:16:09 | 2019-10-01 00:41:05 | 1368 | 1496 |  29 | Noble St &amp; Milwaukee Ave       | 498 | California Ave &amp; Fletcher St   | Customer   | NA     |   NA |\n",
       "| 25223663 | 2019-10-01 00:17:09 | 2019-10-01 00:22:01 | 5232 |  292 |  13 | Wilton Ave &amp; Diversey Pkwy     | 117 | Wilton Ave &amp; Belmont Ave       | Subscriber | Male   | 1991 |\n",
       "| 25223664 | 2019-10-01 00:17:09 | 2019-10-01 00:29:51 | 2188 |  761 | 491 | Talman Ave &amp; Addison St        | 630 | Kildare Ave &amp; Montrose Ave     | Customer   | Male   | 1990 |\n",
       "| 25223665 | 2019-10-01 00:18:23 | 2019-10-01 00:25:17 | 6402 |  413 | 309 | Leavitt St &amp; Armitage Ave      | 123 | California Ave &amp; Milwaukee Ave | Subscriber | Male   | 1987 |\n",
       "| 25223666 | 2019-10-01 00:18:32 | 2019-10-01 00:45:33 | 2388 | 1621 | 103 | Clinton St &amp; Polk St           | 103 | Clinton St &amp; Polk St           | Customer   | NA     |   NA |\n",
       "| 25223667 | 2019-10-01 00:20:34 | 2019-10-01 00:25:03 | 5658 |  269 | 264 | Stetson Ave &amp; South Water St   |   7 | Field Blvd &amp; South Water St    | Subscriber | Male   | 1967 |\n",
       "| 25223668 | 2019-10-01 00:21:06 | 2019-10-01 00:27:18 | 5354 |  371 | 169 | Canal St &amp; Harrison St         |  66 | Clinton St &amp; Lake St           | Subscriber | Male   | 1964 |\n",
       "| 25223669 | 2019-10-01 00:21:19 | 2019-10-01 00:52:23 | 5479 | 1863 | 323 | Sheridan Rd &amp; Lawrence Ave     | 465 | Marine Dr &amp; Ainslie St         | Customer   | NA     |   NA |\n",
       "| 25223670 | 2019-10-01 00:21:32 | 2019-10-01 00:30:22 | 6321 |  530 | 291 | Wells St &amp; Evergreen Ave       | 161 | Rush St &amp; Superior St          | Subscriber | Female | 1991 |\n",
       "| ⋮ | ⋮ | ⋮ | ⋮ | ⋮ | ⋮ | ⋮ | ⋮ | ⋮ | ⋮ | ⋮ | ⋮ |\n",
       "| 25962873 | 2019-12-31 23:30:31 | 2019-12-31 23:34:49 | 2382 |  257 | 148 | State St &amp; 33rd St                  | 402 | Shields Ave &amp; 31st St              | Subscriber | Male   | 1995 |\n",
       "| 25962874 | 2019-12-31 23:31:35 | 2019-12-31 23:50:47 | 3388 | 1152 | 174 | Canal St &amp; Madison St               |  33 | State St &amp; Van Buren St            | Subscriber | Male   | 1985 |\n",
       "| 25962875 | 2019-12-31 23:31:59 | 2019-12-31 23:40:41 | 3213 |  522 | 277 | Ashland Ave &amp; Grand Ave             | 130 | Damen Ave &amp; Division St            | Subscriber | Male   | 1984 |\n",
       "| 25962876 | 2019-12-31 23:32:47 | 2019-12-31 23:45:47 | 4599 |  780 | 275 | Ashland Ave &amp; 13th St               | 205 | Paulina St &amp; 18th St               | Subscriber | Male   | 1987 |\n",
       "| 25962877 | 2019-12-31 23:35:20 | 2019-12-31 23:39:45 | 1914 |  265 | 417 | Cornell Ave &amp; Hyde Park Blvd        | 345 | Lake Park Ave &amp; 56th St            | Subscriber | Male   | 1993 |\n",
       "| 25962878 | 2019-12-31 23:35:28 | 2019-12-31 23:40:59 | 3775 |  330 | 160 | Campbell Ave &amp; North Ave            | 309 | Leavitt St &amp; Armitage Ave          | Subscriber | Male   | 1991 |\n",
       "| 25962879 | 2019-12-31 23:36:30 | 2019-12-31 23:56:19 | 4877 | 1189 |  90 | Millennium Park                     |  90 | Millennium Park                    | Subscriber | Male   | 1992 |\n",
       "| 25962880 | 2019-12-31 23:40:08 | 2019-12-31 23:48:46 | 6330 |  517 | 241 | Morgan St &amp; Polk St                 |  15 | Racine Ave &amp; 18th St               | Subscriber | Male   | 1994 |\n",
       "| 25962881 | 2019-12-31 23:41:31 | 2019-12-31 23:50:18 | 6025 |  527 | 159 | Claremont Ave &amp; Hirsch St           |  20 | Sheffield Ave &amp; Kingsbury St       | Subscriber | Male   | 1989 |\n",
       "| 25962882 | 2019-12-31 23:41:49 | 2020-01-01 00:28:39 |  269 | 2809 | 394 | Clark St &amp; 9th St (AMLI)            | 394 | Clark St &amp; 9th St (AMLI)           | Subscriber | Female | 1974 |\n",
       "| 25962885 | 2019-12-31 23:42:11 | 2020-01-01 00:24:21 |  389 | 2530 | 145 | Mies van der Rohe Way &amp; Chestnut St |  26 | McClurg Ct &amp; Illinois St           | Subscriber | Female | 1979 |\n",
       "| 25962886 | 2019-12-31 23:42:41 | 2020-01-01 00:39:20 | 3701 | 3398 | 232 | Pine Grove Ave &amp; Waveland Ave       | 232 | Pine Grove Ave &amp; Waveland Ave      | Subscriber | Male   | 1977 |\n",
       "| 25962887 | 2019-12-31 23:43:41 | 2020-01-01 00:56:43 |   73 | 4381 | 289 | Wells St &amp; Concord Ln               | 289 | Wells St &amp; Concord Ln              | Subscriber | Female | 1996 |\n",
       "| 25962888 | 2019-12-31 23:44:59 | 2019-12-31 23:50:34 | 6053 |  335 | 144 | Larrabee St &amp; Webster Ave           | 289 | Wells St &amp; Concord Ln              | Subscriber | Male   | 1989 |\n",
       "| 25962889 | 2019-12-31 23:45:35 | 2019-12-31 23:48:17 | 2076 |  161 | 140 | Dearborn Pkwy &amp; Delaware Pl         | 161 | Rush St &amp; Superior St              | Subscriber | Male   | 1994 |\n",
       "| 25962890 | 2019-12-31 23:46:19 | 2019-12-31 23:53:51 |   41 |  451 | 641 | Central Park Ave &amp; Bloomingdale Ave | 259 | California Ave &amp; Francis Pl (Temp) | Subscriber | Male   | 1966 |\n",
       "| 25962891 | 2019-12-31 23:49:38 | 2020-01-01 00:15:19 | 2936 | 1540 |  90 | Millennium Park                     |  76 | Lake Shore Dr &amp; Monroe St          | Customer   | NA     |   NA |\n",
       "| 25962892 | 2019-12-31 23:49:43 | 2020-01-01 00:21:51 | 1671 | 1927 |  90 | Millennium Park                     |  76 | Lake Shore Dr &amp; Monroe St          | Customer   | NA     |   NA |\n",
       "| 25962893 | 2019-12-31 23:49:51 | 2020-01-01 00:22:08 | 3925 | 1936 |  90 | Millennium Park                     |  76 | Lake Shore Dr &amp; Monroe St          | Customer   | NA     |   NA |\n",
       "| 25962894 | 2019-12-31 23:49:53 | 2020-01-01 00:22:30 | 2898 | 1956 |  90 | Millennium Park                     |  76 | Lake Shore Dr &amp; Monroe St          | Customer   | NA     |   NA |\n",
       "| 25962895 | 2019-12-31 23:50:05 | 2019-12-31 23:53:33 | 1720 |  208 | 624 | Dearborn St &amp; Van Buren St          |  81 | Daley Center Plaza                 | Subscriber | Female | 1990 |\n",
       "| 25962896 | 2019-12-31 23:50:19 | 2019-12-31 23:55:37 | 4561 |  318 | 255 | Indiana Ave &amp; Roosevelt Rd          |   3 | Shedd Aquarium                     | Subscriber | Male   | 1990 |\n",
       "| 25962897 | 2019-12-31 23:51:19 | 2019-12-31 23:55:33 | 5654 |  254 | 638 | Clinton St &amp; Jackson Blvd           | 134 | Peoria St &amp; Jackson Blvd           | Subscriber | Male   | 1997 |\n",
       "| 25962898 | 2019-12-31 23:54:38 | 2020-01-01 00:04:38 |  606 |  599 | 455 | Maplewood Ave &amp; Peterson Ave        | 467 | Western Ave &amp; Lunt Ave             | Subscriber | Male   | 1986 |\n",
       "| 25962899 | 2019-12-31 23:54:54 | 2020-01-01 00:22:02 | 5996 | 1628 | 145 | Mies van der Rohe Way &amp; Chestnut St |  25 | Michigan Ave &amp; Pearson St          | Subscriber | Male   | 1992 |\n",
       "| 25962900 | 2019-12-31 23:56:13 | 2020-01-01 00:15:45 | 2196 | 1172 | 112 | Green St &amp; Randolph St              | 225 | Halsted St &amp; Dickens Ave           | Subscriber | Male   | 1981 |\n",
       "| 25962901 | 2019-12-31 23:56:34 | 2020-01-01 00:22:08 | 4877 | 1533 |  90 | Millennium Park                     |  90 | Millennium Park                    | Subscriber | Male   | 1992 |\n",
       "| 25962902 | 2019-12-31 23:57:05 | 2020-01-01 00:05:46 |  863 |  520 | 623 | Michigan Ave &amp; 8th St               |  52 | Michigan Ave &amp; Lake St             | Subscriber | Male   | 1967 |\n",
       "| 25962903 | 2019-12-31 23:57:11 | 2020-01-01 00:05:45 | 2637 |  514 | 623 | Michigan Ave &amp; 8th St               |  52 | Michigan Ave &amp; Lake St             | Subscriber | Female | 1970 |\n",
       "| 25962904 | 2019-12-31 23:57:17 | 2019-12-31 23:59:18 | 5930 |  120 | 256 | Broadway &amp; Sheridan Rd              | 240 | Sheridan Rd &amp; Irving Park Rd       | Subscriber | Male   | 1982 |\n",
       "\n"
      ],
      "text/plain": [
       "       ride_id  started_at          ended_at            rideable_type\n",
       "1      25223640 2019-10-01 00:01:39 2019-10-01 00:17:20 2215         \n",
       "2      25223641 2019-10-01 00:02:16 2019-10-01 00:06:34 6328         \n",
       "3      25223642 2019-10-01 00:04:32 2019-10-01 00:18:43 3003         \n",
       "4      25223643 2019-10-01 00:04:32 2019-10-01 00:43:43 3275         \n",
       "5      25223644 2019-10-01 00:04:34 2019-10-01 00:35:42 5294         \n",
       "6      25223645 2019-10-01 00:04:38 2019-10-01 00:10:51 1891         \n",
       "7      25223646 2019-10-01 00:04:52 2019-10-01 00:22:45 1061         \n",
       "8      25223647 2019-10-01 00:04:57 2019-10-01 00:29:16 1274         \n",
       "9      25223648 2019-10-01 00:05:20 2019-10-01 00:29:18 6011         \n",
       "10     25223649 2019-10-01 00:05:20 2019-10-01 02:23:46 2957         \n",
       "11     25223650 2019-10-01 00:05:30 2019-10-01 00:37:36 2564         \n",
       "12     25223651 2019-10-01 00:07:25 2019-10-01 00:19:53 3601         \n",
       "13     25223652 2019-10-01 00:08:40 2019-10-01 00:26:00  711         \n",
       "14     25223653 2019-10-01 00:08:52 2019-10-01 00:29:17 5005         \n",
       "15     25223655 2019-10-01 00:10:03 2019-10-01 00:15:30 1730         \n",
       "16     25223656 2019-10-01 00:10:46 2019-10-01 00:16:04 4595         \n",
       "17     25223657 2019-10-01 00:12:04 2019-10-01 01:13:36 2958         \n",
       "18     25223658 2019-10-01 00:12:47 2019-10-01 00:17:55 1489         \n",
       "19     25223659 2019-10-01 00:13:21 2019-10-01 00:34:12 3602         \n",
       "20     25223660 2019-10-01 00:15:07 2019-10-01 00:40:34 4228         \n",
       "21     25223661 2019-10-01 00:15:22 2019-10-01 00:40:42  447         \n",
       "22     25223662 2019-10-01 00:16:09 2019-10-01 00:41:05 1368         \n",
       "23     25223663 2019-10-01 00:17:09 2019-10-01 00:22:01 5232         \n",
       "24     25223664 2019-10-01 00:17:09 2019-10-01 00:29:51 2188         \n",
       "25     25223665 2019-10-01 00:18:23 2019-10-01 00:25:17 6402         \n",
       "26     25223666 2019-10-01 00:18:32 2019-10-01 00:45:33 2388         \n",
       "27     25223667 2019-10-01 00:20:34 2019-10-01 00:25:03 5658         \n",
       "28     25223668 2019-10-01 00:21:06 2019-10-01 00:27:18 5354         \n",
       "29     25223669 2019-10-01 00:21:19 2019-10-01 00:52:23 5479         \n",
       "30     25223670 2019-10-01 00:21:32 2019-10-01 00:30:22 6321         \n",
       "⋮      ⋮        ⋮                   ⋮                   ⋮            \n",
       "704025 25962873 2019-12-31 23:30:31 2019-12-31 23:34:49 2382         \n",
       "704026 25962874 2019-12-31 23:31:35 2019-12-31 23:50:47 3388         \n",
       "704027 25962875 2019-12-31 23:31:59 2019-12-31 23:40:41 3213         \n",
       "704028 25962876 2019-12-31 23:32:47 2019-12-31 23:45:47 4599         \n",
       "704029 25962877 2019-12-31 23:35:20 2019-12-31 23:39:45 1914         \n",
       "704030 25962878 2019-12-31 23:35:28 2019-12-31 23:40:59 3775         \n",
       "704031 25962879 2019-12-31 23:36:30 2019-12-31 23:56:19 4877         \n",
       "704032 25962880 2019-12-31 23:40:08 2019-12-31 23:48:46 6330         \n",
       "704033 25962881 2019-12-31 23:41:31 2019-12-31 23:50:18 6025         \n",
       "704034 25962882 2019-12-31 23:41:49 2020-01-01 00:28:39  269         \n",
       "704035 25962885 2019-12-31 23:42:11 2020-01-01 00:24:21  389         \n",
       "704036 25962886 2019-12-31 23:42:41 2020-01-01 00:39:20 3701         \n",
       "704037 25962887 2019-12-31 23:43:41 2020-01-01 00:56:43   73         \n",
       "704038 25962888 2019-12-31 23:44:59 2019-12-31 23:50:34 6053         \n",
       "704039 25962889 2019-12-31 23:45:35 2019-12-31 23:48:17 2076         \n",
       "704040 25962890 2019-12-31 23:46:19 2019-12-31 23:53:51   41         \n",
       "704041 25962891 2019-12-31 23:49:38 2020-01-01 00:15:19 2936         \n",
       "704042 25962892 2019-12-31 23:49:43 2020-01-01 00:21:51 1671         \n",
       "704043 25962893 2019-12-31 23:49:51 2020-01-01 00:22:08 3925         \n",
       "704044 25962894 2019-12-31 23:49:53 2020-01-01 00:22:30 2898         \n",
       "704045 25962895 2019-12-31 23:50:05 2019-12-31 23:53:33 1720         \n",
       "704046 25962896 2019-12-31 23:50:19 2019-12-31 23:55:37 4561         \n",
       "704047 25962897 2019-12-31 23:51:19 2019-12-31 23:55:33 5654         \n",
       "704048 25962898 2019-12-31 23:54:38 2020-01-01 00:04:38  606         \n",
       "704049 25962899 2019-12-31 23:54:54 2020-01-01 00:22:02 5996         \n",
       "704050 25962900 2019-12-31 23:56:13 2020-01-01 00:15:45 2196         \n",
       "704051 25962901 2019-12-31 23:56:34 2020-01-01 00:22:08 4877         \n",
       "704052 25962902 2019-12-31 23:57:05 2020-01-01 00:05:46  863         \n",
       "704053 25962903 2019-12-31 23:57:11 2020-01-01 00:05:45 2637         \n",
       "704054 25962904 2019-12-31 23:57:17 2019-12-31 23:59:18 5930         \n",
       "       tripduration start_station_id start_station_name                 \n",
       "1       940          20              Sheffield Ave & Kingsbury St       \n",
       "2       258          19              Throop (Loomis) St & Taylor St     \n",
       "3       850          84              Milwaukee Ave & Grand Ave          \n",
       "4      2350         313              Lakeview Ave & Fullerton Pkwy      \n",
       "5      1867         210              Ashland Ave & Division St          \n",
       "6       373         156              Clark St & Wellington Ave          \n",
       "7      1072          84              Milwaukee Ave & Grand Ave          \n",
       "8      1458         156              Clark St & Wellington Ave          \n",
       "9      1437         156              Clark St & Wellington Ave          \n",
       "10     8306         336              Cottage Grove Ave & 47th St        \n",
       "11     1925          77              Clinton St & Madison St            \n",
       "12      748         198              Green St & Madison St              \n",
       "13     1039          66              Clinton St & Lake St               \n",
       "14     1224         240              Sheridan Rd & Irving Park Rd       \n",
       "15      326          66              Clinton St & Lake St               \n",
       "16      318         373              Kedzie Ave & Chicago Ave           \n",
       "17     3692          74              Kingsbury St & Erie St             \n",
       "18      308         289              Wells St & Concord Ln              \n",
       "19     1251         106              State St & Pearson St              \n",
       "20     1527         133              Kingsbury St & Kinzie St           \n",
       "21     1520         133              Kingsbury St & Kinzie St           \n",
       "22     1496          29              Noble St & Milwaukee Ave           \n",
       "23      292          13              Wilton Ave & Diversey Pkwy         \n",
       "24      761         491              Talman Ave & Addison St            \n",
       "25      413         309              Leavitt St & Armitage Ave          \n",
       "26     1621         103              Clinton St & Polk St               \n",
       "27      269         264              Stetson Ave & South Water St       \n",
       "28      371         169              Canal St & Harrison St             \n",
       "29     1863         323              Sheridan Rd & Lawrence Ave         \n",
       "30      530         291              Wells St & Evergreen Ave           \n",
       "⋮      ⋮            ⋮                ⋮                                  \n",
       "704025  257         148              State St & 33rd St                 \n",
       "704026 1152         174              Canal St & Madison St              \n",
       "704027  522         277              Ashland Ave & Grand Ave            \n",
       "704028  780         275              Ashland Ave & 13th St              \n",
       "704029  265         417              Cornell Ave & Hyde Park Blvd       \n",
       "704030  330         160              Campbell Ave & North Ave           \n",
       "704031 1189          90              Millennium Park                    \n",
       "704032  517         241              Morgan St & Polk St                \n",
       "704033  527         159              Claremont Ave & Hirsch St          \n",
       "704034 2809         394              Clark St & 9th St (AMLI)           \n",
       "704035 2530         145              Mies van der Rohe Way & Chestnut St\n",
       "704036 3398         232              Pine Grove Ave & Waveland Ave      \n",
       "704037 4381         289              Wells St & Concord Ln              \n",
       "704038  335         144              Larrabee St & Webster Ave          \n",
       "704039  161         140              Dearborn Pkwy & Delaware Pl        \n",
       "704040  451         641              Central Park Ave & Bloomingdale Ave\n",
       "704041 1540          90              Millennium Park                    \n",
       "704042 1927          90              Millennium Park                    \n",
       "704043 1936          90              Millennium Park                    \n",
       "704044 1956          90              Millennium Park                    \n",
       "704045  208         624              Dearborn St & Van Buren St         \n",
       "704046  318         255              Indiana Ave & Roosevelt Rd         \n",
       "704047  254         638              Clinton St & Jackson Blvd          \n",
       "704048  599         455              Maplewood Ave & Peterson Ave       \n",
       "704049 1628         145              Mies van der Rohe Way & Chestnut St\n",
       "704050 1172         112              Green St & Randolph St             \n",
       "704051 1533          90              Millennium Park                    \n",
       "704052  520         623              Michigan Ave & 8th St              \n",
       "704053  514         623              Michigan Ave & 8th St              \n",
       "704054  120         256              Broadway & Sheridan Rd             \n",
       "       end_station_id end_station_name                   member_casual gender\n",
       "1      309            Leavitt St & Armitage Ave          Subscriber    Male  \n",
       "2      241            Morgan St & Polk St                Subscriber    Male  \n",
       "3      199            Wabash Ave & Grand Ave             Subscriber    Female\n",
       "4      290            Kedzie Ave & Palmer Ct             Subscriber    Male  \n",
       "5      382            Western Ave & Congress Pkwy        Subscriber    Male  \n",
       "6      226            Racine Ave & Belmont Ave           Subscriber    Female\n",
       "7      142            McClurg Ct & Erie St               Subscriber    Female\n",
       "8      463            Clark St & Berwyn Ave              Subscriber    Male  \n",
       "9      463            Clark St & Berwyn Ave              Subscriber    Female\n",
       "10     336            Cottage Grove Ave & 47th St        Customer      NA    \n",
       "11     506            Spaulding Ave & Armitage Ave       Subscriber    Male  \n",
       "12     331            Halsted St & Clybourn Ave          Subscriber    Female\n",
       "13      16            Paulina Ave & North Ave            Customer      Male  \n",
       "14     230            Lincoln Ave & Roscoe St            Customer      NA    \n",
       "15      88            Racine Ave & Randolph St           Subscriber    Male  \n",
       "16     377            Kedzie Ave & Lake St               Customer      NA    \n",
       "17     402            Shields Ave & 31st St              Customer      Female\n",
       "18     176            Clark St & Elm St                  Subscriber    Male  \n",
       "19     334            Lake Shore Dr & Belmont Ave        Customer      NA    \n",
       "20     673            Lincoln Park Conservatory          Customer      Female\n",
       "21     673            Lincoln Park Conservatory          Customer      NA    \n",
       "22     498            California Ave & Fletcher St       Customer      NA    \n",
       "23     117            Wilton Ave & Belmont Ave           Subscriber    Male  \n",
       "24     630            Kildare Ave & Montrose Ave         Customer      Male  \n",
       "25     123            California Ave & Milwaukee Ave     Subscriber    Male  \n",
       "26     103            Clinton St & Polk St               Customer      NA    \n",
       "27       7            Field Blvd & South Water St        Subscriber    Male  \n",
       "28      66            Clinton St & Lake St               Subscriber    Male  \n",
       "29     465            Marine Dr & Ainslie St             Customer      NA    \n",
       "30     161            Rush St & Superior St              Subscriber    Female\n",
       "⋮      ⋮              ⋮                                  ⋮             ⋮     \n",
       "704025 402            Shields Ave & 31st St              Subscriber    Male  \n",
       "704026  33            State St & Van Buren St            Subscriber    Male  \n",
       "704027 130            Damen Ave & Division St            Subscriber    Male  \n",
       "704028 205            Paulina St & 18th St               Subscriber    Male  \n",
       "704029 345            Lake Park Ave & 56th St            Subscriber    Male  \n",
       "704030 309            Leavitt St & Armitage Ave          Subscriber    Male  \n",
       "704031  90            Millennium Park                    Subscriber    Male  \n",
       "704032  15            Racine Ave & 18th St               Subscriber    Male  \n",
       "704033  20            Sheffield Ave & Kingsbury St       Subscriber    Male  \n",
       "704034 394            Clark St & 9th St (AMLI)           Subscriber    Female\n",
       "704035  26            McClurg Ct & Illinois St           Subscriber    Female\n",
       "704036 232            Pine Grove Ave & Waveland Ave      Subscriber    Male  \n",
       "704037 289            Wells St & Concord Ln              Subscriber    Female\n",
       "704038 289            Wells St & Concord Ln              Subscriber    Male  \n",
       "704039 161            Rush St & Superior St              Subscriber    Male  \n",
       "704040 259            California Ave & Francis Pl (Temp) Subscriber    Male  \n",
       "704041  76            Lake Shore Dr & Monroe St          Customer      NA    \n",
       "704042  76            Lake Shore Dr & Monroe St          Customer      NA    \n",
       "704043  76            Lake Shore Dr & Monroe St          Customer      NA    \n",
       "704044  76            Lake Shore Dr & Monroe St          Customer      NA    \n",
       "704045  81            Daley Center Plaza                 Subscriber    Female\n",
       "704046   3            Shedd Aquarium                     Subscriber    Male  \n",
       "704047 134            Peoria St & Jackson Blvd           Subscriber    Male  \n",
       "704048 467            Western Ave & Lunt Ave             Subscriber    Male  \n",
       "704049  25            Michigan Ave & Pearson St          Subscriber    Male  \n",
       "704050 225            Halsted St & Dickens Ave           Subscriber    Male  \n",
       "704051  90            Millennium Park                    Subscriber    Male  \n",
       "704052  52            Michigan Ave & Lake St             Subscriber    Male  \n",
       "704053  52            Michigan Ave & Lake St             Subscriber    Female\n",
       "704054 240            Sheridan Rd & Irving Park Rd       Subscriber    Male  \n",
       "       birthyear\n",
       "1      1987     \n",
       "2      1998     \n",
       "3      1991     \n",
       "4      1990     \n",
       "5      1987     \n",
       "6      1994     \n",
       "7      1991     \n",
       "8      1995     \n",
       "9      1993     \n",
       "10       NA     \n",
       "11     1977     \n",
       "12     1980     \n",
       "13     1994     \n",
       "14       NA     \n",
       "15     1992     \n",
       "16       NA     \n",
       "17     1962     \n",
       "18     1992     \n",
       "19       NA     \n",
       "20     1995     \n",
       "21       NA     \n",
       "22       NA     \n",
       "23     1991     \n",
       "24     1990     \n",
       "25     1987     \n",
       "26       NA     \n",
       "27     1967     \n",
       "28     1964     \n",
       "29       NA     \n",
       "30     1991     \n",
       "⋮      ⋮        \n",
       "704025 1995     \n",
       "704026 1985     \n",
       "704027 1984     \n",
       "704028 1987     \n",
       "704029 1993     \n",
       "704030 1991     \n",
       "704031 1992     \n",
       "704032 1994     \n",
       "704033 1989     \n",
       "704034 1974     \n",
       "704035 1979     \n",
       "704036 1977     \n",
       "704037 1996     \n",
       "704038 1989     \n",
       "704039 1994     \n",
       "704040 1966     \n",
       "704041   NA     \n",
       "704042   NA     \n",
       "704043   NA     \n",
       "704044   NA     \n",
       "704045 1990     \n",
       "704046 1990     \n",
       "704047 1997     \n",
       "704048 1986     \n",
       "704049 1992     \n",
       "704050 1981     \n",
       "704051 1992     \n",
       "704052 1967     \n",
       "704053 1970     \n",
       "704054 1982     "
      ]
     },
     "metadata": {},
     "output_type": "display_data"
    },
    {
     "data": {
      "text/html": [
       "<table class=\"dataframe\">\n",
       "<caption>A spec_tbl_df: 1640718 × 12</caption>\n",
       "<thead>\n",
       "\t<tr><th scope=col>ride_id</th><th scope=col>started_at</th><th scope=col>ended_at</th><th scope=col>rideable_type</th><th scope=col>tripduration</th><th scope=col>start_station_id</th><th scope=col>start_station_name</th><th scope=col>end_station_id</th><th scope=col>end_station_name</th><th scope=col>member_casual</th><th scope=col>gender</th><th scope=col>birthyear</th></tr>\n",
       "\t<tr><th scope=col>&lt;dbl&gt;</th><th scope=col>&lt;dttm&gt;</th><th scope=col>&lt;dttm&gt;</th><th scope=col>&lt;dbl&gt;</th><th scope=col>&lt;dbl&gt;</th><th scope=col>&lt;dbl&gt;</th><th scope=col>&lt;chr&gt;</th><th scope=col>&lt;dbl&gt;</th><th scope=col>&lt;chr&gt;</th><th scope=col>&lt;chr&gt;</th><th scope=col>&lt;chr&gt;</th><th scope=col>&lt;dbl&gt;</th></tr>\n",
       "</thead>\n",
       "<tbody>\n",
       "\t<tr><td>23479388</td><td>2019-07-01 00:00:27</td><td>2019-07-01 00:20:41</td><td>3591</td><td><span style=white-space:pre-wrap>  1214</span></td><td>117</td><td><span style=white-space:pre-wrap>Wilton Ave &amp; Belmont Ave      </span></td><td>497</td><td><span style=white-space:pre-wrap>Kimball Ave &amp; Belmont Ave    </span></td><td>Subscriber</td><td>Male</td><td>1992</td></tr>\n",
       "\t<tr><td>23479389</td><td>2019-07-01 00:01:16</td><td>2019-07-01 00:18:44</td><td>5353</td><td><span style=white-space:pre-wrap>  1048</span></td><td>381</td><td><span style=white-space:pre-wrap>Western Ave &amp; Monroe St       </span></td><td>203</td><td><span style=white-space:pre-wrap>Western Ave &amp; 21st St        </span></td><td><span style=white-space:pre-wrap>Customer  </span></td><td><span style=white-space:pre-wrap>NA  </span></td><td><span style=white-space:pre-wrap>  NA</span></td></tr>\n",
       "\t<tr><td>23479390</td><td>2019-07-01 00:01:48</td><td>2019-07-01 00:27:42</td><td>6180</td><td><span style=white-space:pre-wrap>  1554</span></td><td>313</td><td>Lakeview Ave &amp; Fullerton Pkwy </td><td>144</td><td><span style=white-space:pre-wrap>Larrabee St &amp; Webster Ave    </span></td><td><span style=white-space:pre-wrap>Customer  </span></td><td><span style=white-space:pre-wrap>NA  </span></td><td><span style=white-space:pre-wrap>  NA</span></td></tr>\n",
       "\t<tr><td>23479391</td><td>2019-07-01 00:02:07</td><td>2019-07-01 00:27:10</td><td>5540</td><td><span style=white-space:pre-wrap>  1503</span></td><td>313</td><td>Lakeview Ave &amp; Fullerton Pkwy </td><td>144</td><td><span style=white-space:pre-wrap>Larrabee St &amp; Webster Ave    </span></td><td><span style=white-space:pre-wrap>Customer  </span></td><td><span style=white-space:pre-wrap>NA  </span></td><td><span style=white-space:pre-wrap>  NA</span></td></tr>\n",
       "\t<tr><td>23479392</td><td>2019-07-01 00:02:13</td><td>2019-07-01 00:22:26</td><td>6014</td><td><span style=white-space:pre-wrap>  1213</span></td><td>168</td><td><span style=white-space:pre-wrap>Michigan Ave &amp; 14th St        </span></td><td> 62</td><td><span style=white-space:pre-wrap>McCormick Place              </span></td><td><span style=white-space:pre-wrap>Customer  </span></td><td><span style=white-space:pre-wrap>NA  </span></td><td><span style=white-space:pre-wrap>  NA</span></td></tr>\n",
       "\t<tr><td>23479393</td><td>2019-07-01 00:02:21</td><td>2019-07-01 00:07:31</td><td>4941</td><td><span style=white-space:pre-wrap>   310</span></td><td>300</td><td><span style=white-space:pre-wrap>Broadway &amp; Barry Ave          </span></td><td>232</td><td>Pine Grove Ave &amp; Waveland Ave</td><td>Subscriber</td><td>Male</td><td>1990</td></tr>\n",
       "\t<tr><td>23479394</td><td>2019-07-01 00:02:24</td><td>2019-07-01 00:23:12</td><td>3770</td><td><span style=white-space:pre-wrap>  1248</span></td><td>168</td><td><span style=white-space:pre-wrap>Michigan Ave &amp; 14th St        </span></td><td> 62</td><td><span style=white-space:pre-wrap>McCormick Place              </span></td><td><span style=white-space:pre-wrap>Customer  </span></td><td><span style=white-space:pre-wrap>NA  </span></td><td><span style=white-space:pre-wrap>  NA</span></td></tr>\n",
       "\t<tr><td>23479395</td><td>2019-07-01 00:02:26</td><td>2019-07-01 00:28:16</td><td>5442</td><td><span style=white-space:pre-wrap>  1550</span></td><td>313</td><td>Lakeview Ave &amp; Fullerton Pkwy </td><td>144</td><td><span style=white-space:pre-wrap>Larrabee St &amp; Webster Ave    </span></td><td><span style=white-space:pre-wrap>Customer  </span></td><td><span style=white-space:pre-wrap>NA  </span></td><td><span style=white-space:pre-wrap>  NA</span></td></tr>\n",
       "\t<tr><td>23479396</td><td>2019-07-01 00:02:34</td><td>2019-07-01 00:28:57</td><td>2957</td><td><span style=white-space:pre-wrap>  1583</span></td><td> 43</td><td><span style=white-space:pre-wrap>Michigan Ave &amp; Washington St  </span></td><td>195</td><td><span style=white-space:pre-wrap>Columbus Dr &amp; Randolph St    </span></td><td><span style=white-space:pre-wrap>Customer  </span></td><td><span style=white-space:pre-wrap>NA  </span></td><td><span style=white-space:pre-wrap>  NA</span></td></tr>\n",
       "\t<tr><td>23479397</td><td>2019-07-01 00:02:45</td><td>2019-07-01 00:29:14</td><td>6091</td><td><span style=white-space:pre-wrap>  1589</span></td><td> 43</td><td><span style=white-space:pre-wrap>Michigan Ave &amp; Washington St  </span></td><td>195</td><td><span style=white-space:pre-wrap>Columbus Dr &amp; Randolph St    </span></td><td><span style=white-space:pre-wrap>Customer  </span></td><td><span style=white-space:pre-wrap>NA  </span></td><td><span style=white-space:pre-wrap>  NA</span></td></tr>\n",
       "\t<tr><td>23479398</td><td>2019-07-01 00:02:57</td><td>2019-07-01 00:29:05</td><td>4116</td><td><span style=white-space:pre-wrap>  1568</span></td><td>511</td><td>Albany Ave &amp; Bloomingdale Ave </td><td> 84</td><td><span style=white-space:pre-wrap>Milwaukee Ave &amp; Grand Ave    </span></td><td><span style=white-space:pre-wrap>Customer  </span></td><td><span style=white-space:pre-wrap>NA  </span></td><td><span style=white-space:pre-wrap>  NA</span></td></tr>\n",
       "\t<tr><td>23479399</td><td>2019-07-01 00:03:07</td><td>2019-07-01 00:28:50</td><td>4948</td><td><span style=white-space:pre-wrap>  1543</span></td><td> 43</td><td><span style=white-space:pre-wrap>Michigan Ave &amp; Washington St  </span></td><td>195</td><td><span style=white-space:pre-wrap>Columbus Dr &amp; Randolph St    </span></td><td><span style=white-space:pre-wrap>Customer  </span></td><td><span style=white-space:pre-wrap>NA  </span></td><td><span style=white-space:pre-wrap>  NA</span></td></tr>\n",
       "\t<tr><td>23479400</td><td>2019-07-01 00:04:09</td><td>2019-07-01 00:36:56</td><td> 307</td><td><span style=white-space:pre-wrap>  1967</span></td><td> 24</td><td><span style=white-space:pre-wrap>Fairbanks Ct &amp; Grand Ave      </span></td><td> 24</td><td><span style=white-space:pre-wrap>Fairbanks Ct &amp; Grand Ave     </span></td><td><span style=white-space:pre-wrap>Customer  </span></td><td><span style=white-space:pre-wrap>NA  </span></td><td><span style=white-space:pre-wrap>  NA</span></td></tr>\n",
       "\t<tr><td>23479401</td><td>2019-07-01 00:04:25</td><td>2019-07-01 00:36:56</td><td>2422</td><td><span style=white-space:pre-wrap>  1951</span></td><td> 24</td><td><span style=white-space:pre-wrap>Fairbanks Ct &amp; Grand Ave      </span></td><td> 24</td><td><span style=white-space:pre-wrap>Fairbanks Ct &amp; Grand Ave     </span></td><td><span style=white-space:pre-wrap>Customer  </span></td><td><span style=white-space:pre-wrap>NA  </span></td><td><span style=white-space:pre-wrap>  NA</span></td></tr>\n",
       "\t<tr><td>23479402</td><td>2019-07-01 00:04:41</td><td>2019-07-01 00:37:22</td><td>3369</td><td><span style=white-space:pre-wrap>  1961</span></td><td> 24</td><td><span style=white-space:pre-wrap>Fairbanks Ct &amp; Grand Ave      </span></td><td> 24</td><td><span style=white-space:pre-wrap>Fairbanks Ct &amp; Grand Ave     </span></td><td><span style=white-space:pre-wrap>Customer  </span></td><td><span style=white-space:pre-wrap>NA  </span></td><td><span style=white-space:pre-wrap>  NA</span></td></tr>\n",
       "\t<tr><td>23479403</td><td>2019-07-01 00:05:18</td><td>2019-07-01 00:37:08</td><td>4050</td><td><span style=white-space:pre-wrap>  1910</span></td><td> 24</td><td><span style=white-space:pre-wrap>Fairbanks Ct &amp; Grand Ave      </span></td><td> 24</td><td><span style=white-space:pre-wrap>Fairbanks Ct &amp; Grand Ave     </span></td><td><span style=white-space:pre-wrap>Customer  </span></td><td><span style=white-space:pre-wrap>NA  </span></td><td><span style=white-space:pre-wrap>  NA</span></td></tr>\n",
       "\t<tr><td>23479404</td><td>2019-07-01 00:06:06</td><td>2019-07-01 00:33:33</td><td>1535</td><td><span style=white-space:pre-wrap>  1647</span></td><td> 43</td><td><span style=white-space:pre-wrap>Michigan Ave &amp; Washington St  </span></td><td> 43</td><td>Michigan Ave &amp; Washington St </td><td><span style=white-space:pre-wrap>Customer  </span></td><td><span style=white-space:pre-wrap>NA  </span></td><td><span style=white-space:pre-wrap>  NA</span></td></tr>\n",
       "\t<tr><td>23479405</td><td>2019-07-01 00:06:10</td><td>2019-07-01 00:33:08</td><td>4722</td><td><span style=white-space:pre-wrap>  1618</span></td><td> 43</td><td><span style=white-space:pre-wrap>Michigan Ave &amp; Washington St  </span></td><td> 43</td><td>Michigan Ave &amp; Washington St </td><td><span style=white-space:pre-wrap>Customer  </span></td><td><span style=white-space:pre-wrap>NA  </span></td><td><span style=white-space:pre-wrap>  NA</span></td></tr>\n",
       "\t<tr><td>23479406</td><td>2019-07-01 00:06:51</td><td>2019-07-01 00:26:22</td><td>2758</td><td><span style=white-space:pre-wrap>  1171</span></td><td>624</td><td><span style=white-space:pre-wrap>Dearborn St &amp; Van Buren St    </span></td><td>237</td><td><span style=white-space:pre-wrap>MLK Jr Dr &amp; 29th St          </span></td><td>Subscriber</td><td>Male</td><td>1995</td></tr>\n",
       "\t<tr><td>23479407</td><td>2019-07-01 00:06:55</td><td>2019-07-01 00:33:28</td><td>1614</td><td><span style=white-space:pre-wrap>  1593</span></td><td> 43</td><td><span style=white-space:pre-wrap>Michigan Ave &amp; Washington St  </span></td><td> 43</td><td>Michigan Ave &amp; Washington St </td><td><span style=white-space:pre-wrap>Customer  </span></td><td><span style=white-space:pre-wrap>NA  </span></td><td><span style=white-space:pre-wrap>  NA</span></td></tr>\n",
       "\t<tr><td>23479408</td><td>2019-07-01 00:08:24</td><td>2019-07-01 00:20:07</td><td>2447</td><td><span style=white-space:pre-wrap>   703</span></td><td>239</td><td><span style=white-space:pre-wrap>Western Ave &amp; Leland Ave      </span></td><td>455</td><td>Maplewood Ave &amp; Peterson Ave </td><td>Subscriber</td><td>Male</td><td>1970</td></tr>\n",
       "\t<tr><td>23479409</td><td>2019-07-01 00:08:40</td><td>2019-07-01 00:27:50</td><td>6336</td><td><span style=white-space:pre-wrap>  1150</span></td><td>257</td><td><span style=white-space:pre-wrap>Lincoln Ave &amp; Waveland Ave    </span></td><td>295</td><td><span style=white-space:pre-wrap>Broadway &amp; Argyle St         </span></td><td>Subscriber</td><td>Male</td><td>1993</td></tr>\n",
       "\t<tr><td>23479410</td><td>2019-07-01 00:08:45</td><td>2019-07-01 00:19:24</td><td>3249</td><td><span style=white-space:pre-wrap>   639</span></td><td>309</td><td><span style=white-space:pre-wrap>Leavitt St &amp; Armitage Ave     </span></td><td>113</td><td><span style=white-space:pre-wrap>Bissell St &amp; Armitage Ave    </span></td><td><span style=white-space:pre-wrap>Customer  </span></td><td><span style=white-space:pre-wrap>NA  </span></td><td><span style=white-space:pre-wrap>  NA</span></td></tr>\n",
       "\t<tr><td>23479411</td><td>2019-07-01 00:10:20</td><td>2019-07-01 00:19:36</td><td>3632</td><td><span style=white-space:pre-wrap>   556</span></td><td> 76</td><td><span style=white-space:pre-wrap>Lake Shore Dr &amp; Monroe St     </span></td><td> 59</td><td><span style=white-space:pre-wrap>Wabash Ave &amp; Roosevelt Rd    </span></td><td><span style=white-space:pre-wrap>Customer  </span></td><td><span style=white-space:pre-wrap>NA  </span></td><td><span style=white-space:pre-wrap>  NA</span></td></tr>\n",
       "\t<tr><td>23479412</td><td>2019-07-01 00:10:47</td><td>2019-07-01 01:46:44</td><td>3154</td><td>  5757</td><td> 90</td><td>Millennium Park               </td><td> 90</td><td>Millennium Park              </td><td>Customer  </td><td>NA  </td><td>  NA</td></tr>\n",
       "\t<tr><td>23479414</td><td>2019-07-01 00:11:17</td><td>2019-07-01 00:25:36</td><td>2138</td><td><span style=white-space:pre-wrap>   859</span></td><td>313</td><td>Lakeview Ave &amp; Fullerton Pkwy </td><td> 58</td><td>Marshfield Ave &amp; Cortland St </td><td><span style=white-space:pre-wrap>Customer  </span></td><td><span style=white-space:pre-wrap>NA  </span></td><td><span style=white-space:pre-wrap>  NA</span></td></tr>\n",
       "\t<tr><td>23479415</td><td>2019-07-01 00:11:22</td><td>2019-07-01 01:46:44</td><td>1713</td><td>  5722</td><td> 90</td><td>Millennium Park               </td><td> 90</td><td>Millennium Park              </td><td>Customer  </td><td>NA  </td><td>  NA</td></tr>\n",
       "\t<tr><td>23479416</td><td>2019-07-01 00:14:40</td><td>2019-07-02 07:53:48</td><td>1122</td><td>113948</td><td>123</td><td>California Ave &amp; Milwaukee Ave</td><td>509</td><td><span style=white-space:pre-wrap>Troy St &amp; North Ave          </span></td><td><span style=white-space:pre-wrap>Customer  </span></td><td><span style=white-space:pre-wrap>NA  </span></td><td><span style=white-space:pre-wrap>  NA</span></td></tr>\n",
       "\t<tr><td>23479417</td><td>2019-07-01 00:14:58</td><td>2019-07-01 01:15:58</td><td> 356</td><td><span style=white-space:pre-wrap>  3660</span></td><td>123</td><td>California Ave &amp; Milwaukee Ave</td><td>222</td><td><span style=white-space:pre-wrap>Milwaukee Ave &amp; Rockwell St  </span></td><td><span style=white-space:pre-wrap>Customer  </span></td><td><span style=white-space:pre-wrap>NA  </span></td><td><span style=white-space:pre-wrap>  NA</span></td></tr>\n",
       "\t<tr><td>23479418</td><td>2019-07-01 00:15:06</td><td>2019-07-01 00:36:40</td><td>4525</td><td><span style=white-space:pre-wrap>  1294</span></td><td>240</td><td><span style=white-space:pre-wrap>Sheridan Rd &amp; Irving Park Rd  </span></td><td>326</td><td><span style=white-space:pre-wrap>Clark St &amp; Leland Ave        </span></td><td><span style=white-space:pre-wrap>Customer  </span></td><td>Male</td><td>1987</td></tr>\n",
       "\t<tr><td>⋮</td><td>⋮</td><td>⋮</td><td>⋮</td><td>⋮</td><td>⋮</td><td>⋮</td><td>⋮</td><td>⋮</td><td>⋮</td><td>⋮</td><td>⋮</td></tr>\n",
       "\t<tr><td>25223610</td><td>2019-09-30 23:44:28</td><td>2019-09-30 23:50:15</td><td>5387</td><td> 347</td><td> 22</td><td><span style=white-space:pre-wrap>May St &amp; Taylor St                     </span></td><td>282</td><td><span style=white-space:pre-wrap>Halsted St &amp; Maxwell St         </span></td><td>Subscriber</td><td><span style=white-space:pre-wrap>Male  </span></td><td>1995</td></tr>\n",
       "\t<tr><td>25223611</td><td>2019-09-30 23:45:47</td><td>2019-10-01 00:06:31</td><td>5747</td><td>1244</td><td>664</td><td><span style=white-space:pre-wrap>Leavitt St &amp; Belmont Ave (*)           </span></td><td>313</td><td><span style=white-space:pre-wrap>Lakeview Ave &amp; Fullerton Pkwy   </span></td><td>Subscriber</td><td>Female</td><td>1996</td></tr>\n",
       "\t<tr><td>25223612</td><td>2019-09-30 23:46:37</td><td>2019-10-01 00:10:19</td><td>4333</td><td>1421</td><td>591</td><td><span style=white-space:pre-wrap>Kilbourn Ave &amp; Milwaukee Ave           </span></td><td>123</td><td><span style=white-space:pre-wrap>California Ave &amp; Milwaukee Ave  </span></td><td><span style=white-space:pre-wrap>Customer  </span></td><td><span style=white-space:pre-wrap>NA    </span></td><td><span style=white-space:pre-wrap>  NA</span></td></tr>\n",
       "\t<tr><td>25223613</td><td>2019-09-30 23:47:11</td><td>2019-10-01 00:12:26</td><td>6228</td><td>1514</td><td>232</td><td><span style=white-space:pre-wrap>Pine Grove Ave &amp; Waveland Ave          </span></td><td>257</td><td><span style=white-space:pre-wrap>Lincoln Ave &amp; Waveland Ave      </span></td><td><span style=white-space:pre-wrap>Customer  </span></td><td><span style=white-space:pre-wrap>Male  </span></td><td>1999</td></tr>\n",
       "\t<tr><td>25223614</td><td>2019-09-30 23:47:31</td><td>2019-09-30 23:56:55</td><td> 488</td><td> 563</td><td>596</td><td><span style=white-space:pre-wrap>Benson Ave &amp; Church St                 </span></td><td>600</td><td><span style=white-space:pre-wrap>Dodge Ave &amp; Church St           </span></td><td><span style=white-space:pre-wrap>Customer  </span></td><td><span style=white-space:pre-wrap>Male  </span></td><td>1971</td></tr>\n",
       "\t<tr><td>25223615</td><td>2019-09-30 23:47:41</td><td>2019-10-01 00:28:15</td><td> 406</td><td>2433</td><td>302</td><td><span style=white-space:pre-wrap>Sheffield Ave &amp; Wrightwood Ave         </span></td><td> 85</td><td><span style=white-space:pre-wrap>Michigan Ave &amp; Oak St           </span></td><td><span style=white-space:pre-wrap>Customer  </span></td><td><span style=white-space:pre-wrap>NA    </span></td><td><span style=white-space:pre-wrap>  NA</span></td></tr>\n",
       "\t<tr><td>25223616</td><td>2019-09-30 23:47:57</td><td>2019-09-30 23:50:40</td><td>3584</td><td> 163</td><td>302</td><td><span style=white-space:pre-wrap>Sheffield Ave &amp; Wrightwood Ave         </span></td><td>349</td><td><span style=white-space:pre-wrap>Halsted St &amp; Wrightwood Ave     </span></td><td>Subscriber</td><td><span style=white-space:pre-wrap>Male  </span></td><td>1992</td></tr>\n",
       "\t<tr><td>25223617</td><td>2019-09-30 23:48:12</td><td>2019-09-30 23:53:16</td><td>4970</td><td> 304</td><td>654</td><td><span style=white-space:pre-wrap>Racine Ave &amp; Washington Blvd (*)       </span></td><td>186</td><td><span style=white-space:pre-wrap>Ogden Ave &amp; Race Ave            </span></td><td>Subscriber</td><td>Female</td><td>1989</td></tr>\n",
       "\t<tr><td>25223618</td><td>2019-09-30 23:48:29</td><td>2019-10-01 00:12:16</td><td>2370</td><td>1426</td><td>232</td><td><span style=white-space:pre-wrap>Pine Grove Ave &amp; Waveland Ave          </span></td><td>257</td><td><span style=white-space:pre-wrap>Lincoln Ave &amp; Waveland Ave      </span></td><td><span style=white-space:pre-wrap>Customer  </span></td><td><span style=white-space:pre-wrap>Male  </span></td><td>1989</td></tr>\n",
       "\t<tr><td>25223619</td><td>2019-09-30 23:48:39</td><td>2019-10-01 00:13:07</td><td>4737</td><td>1468</td><td>490</td><td><span style=white-space:pre-wrap>Troy St &amp; Elston Ave                   </span></td><td>296</td><td><span style=white-space:pre-wrap>Broadway &amp; Belmont Ave          </span></td><td>Subscriber</td><td><span style=white-space:pre-wrap>Male  </span></td><td>1994</td></tr>\n",
       "\t<tr><td>25223620</td><td>2019-09-30 23:49:24</td><td>2019-09-30 23:56:47</td><td>3182</td><td> 443</td><td>232</td><td><span style=white-space:pre-wrap>Pine Grove Ave &amp; Waveland Ave          </span></td><td>117</td><td><span style=white-space:pre-wrap>Wilton Ave &amp; Belmont Ave        </span></td><td><span style=white-space:pre-wrap>Customer  </span></td><td><span style=white-space:pre-wrap>NA    </span></td><td><span style=white-space:pre-wrap>  NA</span></td></tr>\n",
       "\t<tr><td>25223621</td><td>2019-09-30 23:49:26</td><td>2019-10-01 00:12:34</td><td>1867</td><td>1387</td><td>232</td><td><span style=white-space:pre-wrap>Pine Grove Ave &amp; Waveland Ave          </span></td><td>257</td><td><span style=white-space:pre-wrap>Lincoln Ave &amp; Waveland Ave      </span></td><td><span style=white-space:pre-wrap>Customer  </span></td><td><span style=white-space:pre-wrap>NA    </span></td><td><span style=white-space:pre-wrap>  NA</span></td></tr>\n",
       "\t<tr><td>25223622</td><td>2019-09-30 23:51:33</td><td>2019-10-01 00:15:18</td><td>3892</td><td>1425</td><td> 50</td><td><span style=white-space:pre-wrap>Clark St &amp; Ida B Wells Dr              </span></td><td>280</td><td><span style=white-space:pre-wrap>Morgan St &amp; 31st St             </span></td><td>Subscriber</td><td><span style=white-space:pre-wrap>Male  </span></td><td>1985</td></tr>\n",
       "\t<tr><td>25223623</td><td>2019-09-30 23:51:27</td><td>2019-10-01 00:10:39</td><td>3422</td><td>1151</td><td>331</td><td><span style=white-space:pre-wrap>Halsted St &amp; Clybourn Ave              </span></td><td>637</td><td><span style=white-space:pre-wrap>Wood St &amp; Chicago Ave (*)       </span></td><td>Subscriber</td><td><span style=white-space:pre-wrap>Male  </span></td><td>1993</td></tr>\n",
       "\t<tr><td>25223624</td><td>2019-09-30 23:51:38</td><td>2019-10-01 00:28:28</td><td>5507</td><td>2209</td><td>349</td><td><span style=white-space:pre-wrap>Halsted St &amp; Wrightwood Ave            </span></td><td> 85</td><td><span style=white-space:pre-wrap>Michigan Ave &amp; Oak St           </span></td><td>Subscriber</td><td><span style=white-space:pre-wrap>Male  </span></td><td>1992</td></tr>\n",
       "\t<tr><td>25223625</td><td>2019-09-30 23:51:45</td><td>2019-10-01 00:12:43</td><td>5387</td><td>1257</td><td>282</td><td><span style=white-space:pre-wrap>Halsted St &amp; Maxwell St                </span></td><td>148</td><td><span style=white-space:pre-wrap>State St &amp; 33rd St              </span></td><td><span style=white-space:pre-wrap>Customer  </span></td><td><span style=white-space:pre-wrap>NA    </span></td><td>1999</td></tr>\n",
       "\t<tr><td>25223626</td><td>2019-09-30 23:51:49</td><td>2019-10-01 00:01:12</td><td>1908</td><td> 563</td><td>195</td><td><span style=white-space:pre-wrap>Columbus Dr &amp; Randolph St              </span></td><td> 77</td><td><span style=white-space:pre-wrap>Clinton St &amp; Madison St         </span></td><td>Subscriber</td><td><span style=white-space:pre-wrap>Male  </span></td><td>1969</td></tr>\n",
       "\t<tr><td>25223627</td><td>2019-09-30 23:52:37</td><td>2019-10-01 00:03:15</td><td>5232</td><td> 638</td><td>331</td><td><span style=white-space:pre-wrap>Halsted St &amp; Clybourn Ave              </span></td><td> 13</td><td><span style=white-space:pre-wrap>Wilton Ave &amp; Diversey Pkwy      </span></td><td>Subscriber</td><td><span style=white-space:pre-wrap>Male  </span></td><td>1993</td></tr>\n",
       "\t<tr><td>25223628</td><td>2019-09-30 23:52:53</td><td>2019-10-01 00:19:53</td><td> 803</td><td>1620</td><td>225</td><td><span style=white-space:pre-wrap>Halsted St &amp; Dickens Ave               </span></td><td>260</td><td><span style=white-space:pre-wrap>Kedzie Ave &amp; Milwaukee Ave      </span></td><td><span style=white-space:pre-wrap>Customer  </span></td><td><span style=white-space:pre-wrap>NA    </span></td><td><span style=white-space:pre-wrap>  NA</span></td></tr>\n",
       "\t<tr><td>25223629</td><td>2019-09-30 23:53:05</td><td>2019-10-01 00:06:27</td><td>4600</td><td> 801</td><td>238</td><td>Wolcott (Ravenswood) Ave &amp; Montrose Ave</td><td>251</td><td><span style=white-space:pre-wrap>Clarendon Ave &amp; Leland Ave      </span></td><td>Subscriber</td><td><span style=white-space:pre-wrap>Male  </span></td><td>1980</td></tr>\n",
       "\t<tr><td>25223630</td><td>2019-09-30 23:54:03</td><td>2019-10-01 00:09:59</td><td>1788</td><td> 955</td><td>228</td><td><span style=white-space:pre-wrap>Damen Ave &amp; Melrose Ave                </span></td><td>240</td><td><span style=white-space:pre-wrap>Sheridan Rd &amp; Irving Park Rd    </span></td><td>Subscriber</td><td><span style=white-space:pre-wrap>Male  </span></td><td>1986</td></tr>\n",
       "\t<tr><td>25223631</td><td>2019-09-30 23:55:26</td><td>2019-10-01 00:06:47</td><td>4409</td><td> 680</td><td> 54</td><td><span style=white-space:pre-wrap>Ogden Ave &amp; Chicago Ave                </span></td><td>346</td><td><span style=white-space:pre-wrap>Ada St &amp; Washington Blvd        </span></td><td>Subscriber</td><td><span style=white-space:pre-wrap>Male  </span></td><td>1989</td></tr>\n",
       "\t<tr><td>25223632</td><td>2019-09-30 23:55:40</td><td>2019-10-01 00:29:01</td><td>5488</td><td>2001</td><td> 52</td><td><span style=white-space:pre-wrap>Michigan Ave &amp; Lake St                 </span></td><td>289</td><td><span style=white-space:pre-wrap>Wells St &amp; Concord Ln           </span></td><td>Subscriber</td><td>Female</td><td>1995</td></tr>\n",
       "\t<tr><td>25223633</td><td>2019-09-30 23:56:09</td><td>2019-10-01 00:30:33</td><td>5181</td><td>2063</td><td>264</td><td><span style=white-space:pre-wrap>Stetson Ave &amp; South Water St           </span></td><td>623</td><td><span style=white-space:pre-wrap>Michigan Ave &amp; 8th St           </span></td><td><span style=white-space:pre-wrap>Customer  </span></td><td><span style=white-space:pre-wrap>NA    </span></td><td><span style=white-space:pre-wrap>  NA</span></td></tr>\n",
       "\t<tr><td>25223634</td><td>2019-09-30 23:56:12</td><td>2019-10-01 00:30:21</td><td> 400</td><td>2049</td><td>264</td><td><span style=white-space:pre-wrap>Stetson Ave &amp; South Water St           </span></td><td>623</td><td><span style=white-space:pre-wrap>Michigan Ave &amp; 8th St           </span></td><td><span style=white-space:pre-wrap>Customer  </span></td><td><span style=white-space:pre-wrap>NA    </span></td><td><span style=white-space:pre-wrap>  NA</span></td></tr>\n",
       "\t<tr><td>25223635</td><td>2019-09-30 23:56:27</td><td>2019-10-01 00:06:20</td><td>5690</td><td> 593</td><td> 84</td><td><span style=white-space:pre-wrap>Milwaukee Ave &amp; Grand Ave              </span></td><td>134</td><td><span style=white-space:pre-wrap>Peoria St &amp; Jackson Blvd        </span></td><td>Subscriber</td><td><span style=white-space:pre-wrap>Male  </span></td><td>1993</td></tr>\n",
       "\t<tr><td>25223636</td><td>2019-09-30 23:57:02</td><td>2019-10-01 00:02:13</td><td>5079</td><td> 310</td><td>268</td><td><span style=white-space:pre-wrap>Lake Shore Dr &amp; North Blvd             </span></td><td> 85</td><td><span style=white-space:pre-wrap>Michigan Ave &amp; Oak St           </span></td><td>Subscriber</td><td><span style=white-space:pre-wrap>Male  </span></td><td>1992</td></tr>\n",
       "\t<tr><td>25223637</td><td>2019-09-30 23:57:45</td><td>2019-10-01 00:01:41</td><td>5535</td><td> 235</td><td>423</td><td><span style=white-space:pre-wrap>University Ave &amp; 57th St               </span></td><td>426</td><td><span style=white-space:pre-wrap>Ellis Ave &amp; 60th St             </span></td><td><span style=white-space:pre-wrap>Customer  </span></td><td><span style=white-space:pre-wrap>Male  </span></td><td>2000</td></tr>\n",
       "\t<tr><td>25223638</td><td>2019-09-30 23:57:47</td><td>2019-10-01 00:04:41</td><td>6120</td><td> 414</td><td>110</td><td><span style=white-space:pre-wrap>Dearborn St &amp; Erie St                  </span></td><td> 31</td><td>Franklin St &amp; Chicago Ave (Temp)</td><td>Subscriber</td><td><span style=white-space:pre-wrap>Male  </span></td><td>1986</td></tr>\n",
       "\t<tr><td>25223639</td><td>2019-09-30 23:59:37</td><td>2019-10-01 00:05:17</td><td><span style=white-space:pre-wrap>  60</span></td><td> 339</td><td>265</td><td><span style=white-space:pre-wrap>Cottage Grove Ave &amp; Oakwood Blvd       </span></td><td>179</td><td><span style=white-space:pre-wrap>MLK Jr Dr &amp; Pershing Rd         </span></td><td>Subscriber</td><td>Female</td><td>1996</td></tr>\n",
       "</tbody>\n",
       "</table>\n"
      ],
      "text/latex": [
       "A spec\\_tbl\\_df: 1640718 × 12\n",
       "\\begin{tabular}{llllllllllll}\n",
       " ride\\_id & started\\_at & ended\\_at & rideable\\_type & tripduration & start\\_station\\_id & start\\_station\\_name & end\\_station\\_id & end\\_station\\_name & member\\_casual & gender & birthyear\\\\\n",
       " <dbl> & <dttm> & <dttm> & <dbl> & <dbl> & <dbl> & <chr> & <dbl> & <chr> & <chr> & <chr> & <dbl>\\\\\n",
       "\\hline\n",
       "\t 23479388 & 2019-07-01 00:00:27 & 2019-07-01 00:20:41 & 3591 &   1214 & 117 & Wilton Ave \\& Belmont Ave       & 497 & Kimball Ave \\& Belmont Ave     & Subscriber & Male & 1992\\\\\n",
       "\t 23479389 & 2019-07-01 00:01:16 & 2019-07-01 00:18:44 & 5353 &   1048 & 381 & Western Ave \\& Monroe St        & 203 & Western Ave \\& 21st St         & Customer   & NA   &   NA\\\\\n",
       "\t 23479390 & 2019-07-01 00:01:48 & 2019-07-01 00:27:42 & 6180 &   1554 & 313 & Lakeview Ave \\& Fullerton Pkwy  & 144 & Larrabee St \\& Webster Ave     & Customer   & NA   &   NA\\\\\n",
       "\t 23479391 & 2019-07-01 00:02:07 & 2019-07-01 00:27:10 & 5540 &   1503 & 313 & Lakeview Ave \\& Fullerton Pkwy  & 144 & Larrabee St \\& Webster Ave     & Customer   & NA   &   NA\\\\\n",
       "\t 23479392 & 2019-07-01 00:02:13 & 2019-07-01 00:22:26 & 6014 &   1213 & 168 & Michigan Ave \\& 14th St         &  62 & McCormick Place               & Customer   & NA   &   NA\\\\\n",
       "\t 23479393 & 2019-07-01 00:02:21 & 2019-07-01 00:07:31 & 4941 &    310 & 300 & Broadway \\& Barry Ave           & 232 & Pine Grove Ave \\& Waveland Ave & Subscriber & Male & 1990\\\\\n",
       "\t 23479394 & 2019-07-01 00:02:24 & 2019-07-01 00:23:12 & 3770 &   1248 & 168 & Michigan Ave \\& 14th St         &  62 & McCormick Place               & Customer   & NA   &   NA\\\\\n",
       "\t 23479395 & 2019-07-01 00:02:26 & 2019-07-01 00:28:16 & 5442 &   1550 & 313 & Lakeview Ave \\& Fullerton Pkwy  & 144 & Larrabee St \\& Webster Ave     & Customer   & NA   &   NA\\\\\n",
       "\t 23479396 & 2019-07-01 00:02:34 & 2019-07-01 00:28:57 & 2957 &   1583 &  43 & Michigan Ave \\& Washington St   & 195 & Columbus Dr \\& Randolph St     & Customer   & NA   &   NA\\\\\n",
       "\t 23479397 & 2019-07-01 00:02:45 & 2019-07-01 00:29:14 & 6091 &   1589 &  43 & Michigan Ave \\& Washington St   & 195 & Columbus Dr \\& Randolph St     & Customer   & NA   &   NA\\\\\n",
       "\t 23479398 & 2019-07-01 00:02:57 & 2019-07-01 00:29:05 & 4116 &   1568 & 511 & Albany Ave \\& Bloomingdale Ave  &  84 & Milwaukee Ave \\& Grand Ave     & Customer   & NA   &   NA\\\\\n",
       "\t 23479399 & 2019-07-01 00:03:07 & 2019-07-01 00:28:50 & 4948 &   1543 &  43 & Michigan Ave \\& Washington St   & 195 & Columbus Dr \\& Randolph St     & Customer   & NA   &   NA\\\\\n",
       "\t 23479400 & 2019-07-01 00:04:09 & 2019-07-01 00:36:56 &  307 &   1967 &  24 & Fairbanks Ct \\& Grand Ave       &  24 & Fairbanks Ct \\& Grand Ave      & Customer   & NA   &   NA\\\\\n",
       "\t 23479401 & 2019-07-01 00:04:25 & 2019-07-01 00:36:56 & 2422 &   1951 &  24 & Fairbanks Ct \\& Grand Ave       &  24 & Fairbanks Ct \\& Grand Ave      & Customer   & NA   &   NA\\\\\n",
       "\t 23479402 & 2019-07-01 00:04:41 & 2019-07-01 00:37:22 & 3369 &   1961 &  24 & Fairbanks Ct \\& Grand Ave       &  24 & Fairbanks Ct \\& Grand Ave      & Customer   & NA   &   NA\\\\\n",
       "\t 23479403 & 2019-07-01 00:05:18 & 2019-07-01 00:37:08 & 4050 &   1910 &  24 & Fairbanks Ct \\& Grand Ave       &  24 & Fairbanks Ct \\& Grand Ave      & Customer   & NA   &   NA\\\\\n",
       "\t 23479404 & 2019-07-01 00:06:06 & 2019-07-01 00:33:33 & 1535 &   1647 &  43 & Michigan Ave \\& Washington St   &  43 & Michigan Ave \\& Washington St  & Customer   & NA   &   NA\\\\\n",
       "\t 23479405 & 2019-07-01 00:06:10 & 2019-07-01 00:33:08 & 4722 &   1618 &  43 & Michigan Ave \\& Washington St   &  43 & Michigan Ave \\& Washington St  & Customer   & NA   &   NA\\\\\n",
       "\t 23479406 & 2019-07-01 00:06:51 & 2019-07-01 00:26:22 & 2758 &   1171 & 624 & Dearborn St \\& Van Buren St     & 237 & MLK Jr Dr \\& 29th St           & Subscriber & Male & 1995\\\\\n",
       "\t 23479407 & 2019-07-01 00:06:55 & 2019-07-01 00:33:28 & 1614 &   1593 &  43 & Michigan Ave \\& Washington St   &  43 & Michigan Ave \\& Washington St  & Customer   & NA   &   NA\\\\\n",
       "\t 23479408 & 2019-07-01 00:08:24 & 2019-07-01 00:20:07 & 2447 &    703 & 239 & Western Ave \\& Leland Ave       & 455 & Maplewood Ave \\& Peterson Ave  & Subscriber & Male & 1970\\\\\n",
       "\t 23479409 & 2019-07-01 00:08:40 & 2019-07-01 00:27:50 & 6336 &   1150 & 257 & Lincoln Ave \\& Waveland Ave     & 295 & Broadway \\& Argyle St          & Subscriber & Male & 1993\\\\\n",
       "\t 23479410 & 2019-07-01 00:08:45 & 2019-07-01 00:19:24 & 3249 &    639 & 309 & Leavitt St \\& Armitage Ave      & 113 & Bissell St \\& Armitage Ave     & Customer   & NA   &   NA\\\\\n",
       "\t 23479411 & 2019-07-01 00:10:20 & 2019-07-01 00:19:36 & 3632 &    556 &  76 & Lake Shore Dr \\& Monroe St      &  59 & Wabash Ave \\& Roosevelt Rd     & Customer   & NA   &   NA\\\\\n",
       "\t 23479412 & 2019-07-01 00:10:47 & 2019-07-01 01:46:44 & 3154 &   5757 &  90 & Millennium Park                &  90 & Millennium Park               & Customer   & NA   &   NA\\\\\n",
       "\t 23479414 & 2019-07-01 00:11:17 & 2019-07-01 00:25:36 & 2138 &    859 & 313 & Lakeview Ave \\& Fullerton Pkwy  &  58 & Marshfield Ave \\& Cortland St  & Customer   & NA   &   NA\\\\\n",
       "\t 23479415 & 2019-07-01 00:11:22 & 2019-07-01 01:46:44 & 1713 &   5722 &  90 & Millennium Park                &  90 & Millennium Park               & Customer   & NA   &   NA\\\\\n",
       "\t 23479416 & 2019-07-01 00:14:40 & 2019-07-02 07:53:48 & 1122 & 113948 & 123 & California Ave \\& Milwaukee Ave & 509 & Troy St \\& North Ave           & Customer   & NA   &   NA\\\\\n",
       "\t 23479417 & 2019-07-01 00:14:58 & 2019-07-01 01:15:58 &  356 &   3660 & 123 & California Ave \\& Milwaukee Ave & 222 & Milwaukee Ave \\& Rockwell St   & Customer   & NA   &   NA\\\\\n",
       "\t 23479418 & 2019-07-01 00:15:06 & 2019-07-01 00:36:40 & 4525 &   1294 & 240 & Sheridan Rd \\& Irving Park Rd   & 326 & Clark St \\& Leland Ave         & Customer   & Male & 1987\\\\\n",
       "\t ⋮ & ⋮ & ⋮ & ⋮ & ⋮ & ⋮ & ⋮ & ⋮ & ⋮ & ⋮ & ⋮ & ⋮\\\\\n",
       "\t 25223610 & 2019-09-30 23:44:28 & 2019-09-30 23:50:15 & 5387 &  347 &  22 & May St \\& Taylor St                      & 282 & Halsted St \\& Maxwell St          & Subscriber & Male   & 1995\\\\\n",
       "\t 25223611 & 2019-09-30 23:45:47 & 2019-10-01 00:06:31 & 5747 & 1244 & 664 & Leavitt St \\& Belmont Ave (*)            & 313 & Lakeview Ave \\& Fullerton Pkwy    & Subscriber & Female & 1996\\\\\n",
       "\t 25223612 & 2019-09-30 23:46:37 & 2019-10-01 00:10:19 & 4333 & 1421 & 591 & Kilbourn Ave \\& Milwaukee Ave            & 123 & California Ave \\& Milwaukee Ave   & Customer   & NA     &   NA\\\\\n",
       "\t 25223613 & 2019-09-30 23:47:11 & 2019-10-01 00:12:26 & 6228 & 1514 & 232 & Pine Grove Ave \\& Waveland Ave           & 257 & Lincoln Ave \\& Waveland Ave       & Customer   & Male   & 1999\\\\\n",
       "\t 25223614 & 2019-09-30 23:47:31 & 2019-09-30 23:56:55 &  488 &  563 & 596 & Benson Ave \\& Church St                  & 600 & Dodge Ave \\& Church St            & Customer   & Male   & 1971\\\\\n",
       "\t 25223615 & 2019-09-30 23:47:41 & 2019-10-01 00:28:15 &  406 & 2433 & 302 & Sheffield Ave \\& Wrightwood Ave          &  85 & Michigan Ave \\& Oak St            & Customer   & NA     &   NA\\\\\n",
       "\t 25223616 & 2019-09-30 23:47:57 & 2019-09-30 23:50:40 & 3584 &  163 & 302 & Sheffield Ave \\& Wrightwood Ave          & 349 & Halsted St \\& Wrightwood Ave      & Subscriber & Male   & 1992\\\\\n",
       "\t 25223617 & 2019-09-30 23:48:12 & 2019-09-30 23:53:16 & 4970 &  304 & 654 & Racine Ave \\& Washington Blvd (*)        & 186 & Ogden Ave \\& Race Ave             & Subscriber & Female & 1989\\\\\n",
       "\t 25223618 & 2019-09-30 23:48:29 & 2019-10-01 00:12:16 & 2370 & 1426 & 232 & Pine Grove Ave \\& Waveland Ave           & 257 & Lincoln Ave \\& Waveland Ave       & Customer   & Male   & 1989\\\\\n",
       "\t 25223619 & 2019-09-30 23:48:39 & 2019-10-01 00:13:07 & 4737 & 1468 & 490 & Troy St \\& Elston Ave                    & 296 & Broadway \\& Belmont Ave           & Subscriber & Male   & 1994\\\\\n",
       "\t 25223620 & 2019-09-30 23:49:24 & 2019-09-30 23:56:47 & 3182 &  443 & 232 & Pine Grove Ave \\& Waveland Ave           & 117 & Wilton Ave \\& Belmont Ave         & Customer   & NA     &   NA\\\\\n",
       "\t 25223621 & 2019-09-30 23:49:26 & 2019-10-01 00:12:34 & 1867 & 1387 & 232 & Pine Grove Ave \\& Waveland Ave           & 257 & Lincoln Ave \\& Waveland Ave       & Customer   & NA     &   NA\\\\\n",
       "\t 25223622 & 2019-09-30 23:51:33 & 2019-10-01 00:15:18 & 3892 & 1425 &  50 & Clark St \\& Ida B Wells Dr               & 280 & Morgan St \\& 31st St              & Subscriber & Male   & 1985\\\\\n",
       "\t 25223623 & 2019-09-30 23:51:27 & 2019-10-01 00:10:39 & 3422 & 1151 & 331 & Halsted St \\& Clybourn Ave               & 637 & Wood St \\& Chicago Ave (*)        & Subscriber & Male   & 1993\\\\\n",
       "\t 25223624 & 2019-09-30 23:51:38 & 2019-10-01 00:28:28 & 5507 & 2209 & 349 & Halsted St \\& Wrightwood Ave             &  85 & Michigan Ave \\& Oak St            & Subscriber & Male   & 1992\\\\\n",
       "\t 25223625 & 2019-09-30 23:51:45 & 2019-10-01 00:12:43 & 5387 & 1257 & 282 & Halsted St \\& Maxwell St                 & 148 & State St \\& 33rd St               & Customer   & NA     & 1999\\\\\n",
       "\t 25223626 & 2019-09-30 23:51:49 & 2019-10-01 00:01:12 & 1908 &  563 & 195 & Columbus Dr \\& Randolph St               &  77 & Clinton St \\& Madison St          & Subscriber & Male   & 1969\\\\\n",
       "\t 25223627 & 2019-09-30 23:52:37 & 2019-10-01 00:03:15 & 5232 &  638 & 331 & Halsted St \\& Clybourn Ave               &  13 & Wilton Ave \\& Diversey Pkwy       & Subscriber & Male   & 1993\\\\\n",
       "\t 25223628 & 2019-09-30 23:52:53 & 2019-10-01 00:19:53 &  803 & 1620 & 225 & Halsted St \\& Dickens Ave                & 260 & Kedzie Ave \\& Milwaukee Ave       & Customer   & NA     &   NA\\\\\n",
       "\t 25223629 & 2019-09-30 23:53:05 & 2019-10-01 00:06:27 & 4600 &  801 & 238 & Wolcott (Ravenswood) Ave \\& Montrose Ave & 251 & Clarendon Ave \\& Leland Ave       & Subscriber & Male   & 1980\\\\\n",
       "\t 25223630 & 2019-09-30 23:54:03 & 2019-10-01 00:09:59 & 1788 &  955 & 228 & Damen Ave \\& Melrose Ave                 & 240 & Sheridan Rd \\& Irving Park Rd     & Subscriber & Male   & 1986\\\\\n",
       "\t 25223631 & 2019-09-30 23:55:26 & 2019-10-01 00:06:47 & 4409 &  680 &  54 & Ogden Ave \\& Chicago Ave                 & 346 & Ada St \\& Washington Blvd         & Subscriber & Male   & 1989\\\\\n",
       "\t 25223632 & 2019-09-30 23:55:40 & 2019-10-01 00:29:01 & 5488 & 2001 &  52 & Michigan Ave \\& Lake St                  & 289 & Wells St \\& Concord Ln            & Subscriber & Female & 1995\\\\\n",
       "\t 25223633 & 2019-09-30 23:56:09 & 2019-10-01 00:30:33 & 5181 & 2063 & 264 & Stetson Ave \\& South Water St            & 623 & Michigan Ave \\& 8th St            & Customer   & NA     &   NA\\\\\n",
       "\t 25223634 & 2019-09-30 23:56:12 & 2019-10-01 00:30:21 &  400 & 2049 & 264 & Stetson Ave \\& South Water St            & 623 & Michigan Ave \\& 8th St            & Customer   & NA     &   NA\\\\\n",
       "\t 25223635 & 2019-09-30 23:56:27 & 2019-10-01 00:06:20 & 5690 &  593 &  84 & Milwaukee Ave \\& Grand Ave               & 134 & Peoria St \\& Jackson Blvd         & Subscriber & Male   & 1993\\\\\n",
       "\t 25223636 & 2019-09-30 23:57:02 & 2019-10-01 00:02:13 & 5079 &  310 & 268 & Lake Shore Dr \\& North Blvd              &  85 & Michigan Ave \\& Oak St            & Subscriber & Male   & 1992\\\\\n",
       "\t 25223637 & 2019-09-30 23:57:45 & 2019-10-01 00:01:41 & 5535 &  235 & 423 & University Ave \\& 57th St                & 426 & Ellis Ave \\& 60th St              & Customer   & Male   & 2000\\\\\n",
       "\t 25223638 & 2019-09-30 23:57:47 & 2019-10-01 00:04:41 & 6120 &  414 & 110 & Dearborn St \\& Erie St                   &  31 & Franklin St \\& Chicago Ave (Temp) & Subscriber & Male   & 1986\\\\\n",
       "\t 25223639 & 2019-09-30 23:59:37 & 2019-10-01 00:05:17 &   60 &  339 & 265 & Cottage Grove Ave \\& Oakwood Blvd        & 179 & MLK Jr Dr \\& Pershing Rd          & Subscriber & Female & 1996\\\\\n",
       "\\end{tabular}\n"
      ],
      "text/markdown": [
       "\n",
       "A spec_tbl_df: 1640718 × 12\n",
       "\n",
       "| ride_id &lt;dbl&gt; | started_at &lt;dttm&gt; | ended_at &lt;dttm&gt; | rideable_type &lt;dbl&gt; | tripduration &lt;dbl&gt; | start_station_id &lt;dbl&gt; | start_station_name &lt;chr&gt; | end_station_id &lt;dbl&gt; | end_station_name &lt;chr&gt; | member_casual &lt;chr&gt; | gender &lt;chr&gt; | birthyear &lt;dbl&gt; |\n",
       "|---|---|---|---|---|---|---|---|---|---|---|---|\n",
       "| 23479388 | 2019-07-01 00:00:27 | 2019-07-01 00:20:41 | 3591 |   1214 | 117 | Wilton Ave &amp; Belmont Ave       | 497 | Kimball Ave &amp; Belmont Ave     | Subscriber | Male | 1992 |\n",
       "| 23479389 | 2019-07-01 00:01:16 | 2019-07-01 00:18:44 | 5353 |   1048 | 381 | Western Ave &amp; Monroe St        | 203 | Western Ave &amp; 21st St         | Customer   | NA   |   NA |\n",
       "| 23479390 | 2019-07-01 00:01:48 | 2019-07-01 00:27:42 | 6180 |   1554 | 313 | Lakeview Ave &amp; Fullerton Pkwy  | 144 | Larrabee St &amp; Webster Ave     | Customer   | NA   |   NA |\n",
       "| 23479391 | 2019-07-01 00:02:07 | 2019-07-01 00:27:10 | 5540 |   1503 | 313 | Lakeview Ave &amp; Fullerton Pkwy  | 144 | Larrabee St &amp; Webster Ave     | Customer   | NA   |   NA |\n",
       "| 23479392 | 2019-07-01 00:02:13 | 2019-07-01 00:22:26 | 6014 |   1213 | 168 | Michigan Ave &amp; 14th St         |  62 | McCormick Place               | Customer   | NA   |   NA |\n",
       "| 23479393 | 2019-07-01 00:02:21 | 2019-07-01 00:07:31 | 4941 |    310 | 300 | Broadway &amp; Barry Ave           | 232 | Pine Grove Ave &amp; Waveland Ave | Subscriber | Male | 1990 |\n",
       "| 23479394 | 2019-07-01 00:02:24 | 2019-07-01 00:23:12 | 3770 |   1248 | 168 | Michigan Ave &amp; 14th St         |  62 | McCormick Place               | Customer   | NA   |   NA |\n",
       "| 23479395 | 2019-07-01 00:02:26 | 2019-07-01 00:28:16 | 5442 |   1550 | 313 | Lakeview Ave &amp; Fullerton Pkwy  | 144 | Larrabee St &amp; Webster Ave     | Customer   | NA   |   NA |\n",
       "| 23479396 | 2019-07-01 00:02:34 | 2019-07-01 00:28:57 | 2957 |   1583 |  43 | Michigan Ave &amp; Washington St   | 195 | Columbus Dr &amp; Randolph St     | Customer   | NA   |   NA |\n",
       "| 23479397 | 2019-07-01 00:02:45 | 2019-07-01 00:29:14 | 6091 |   1589 |  43 | Michigan Ave &amp; Washington St   | 195 | Columbus Dr &amp; Randolph St     | Customer   | NA   |   NA |\n",
       "| 23479398 | 2019-07-01 00:02:57 | 2019-07-01 00:29:05 | 4116 |   1568 | 511 | Albany Ave &amp; Bloomingdale Ave  |  84 | Milwaukee Ave &amp; Grand Ave     | Customer   | NA   |   NA |\n",
       "| 23479399 | 2019-07-01 00:03:07 | 2019-07-01 00:28:50 | 4948 |   1543 |  43 | Michigan Ave &amp; Washington St   | 195 | Columbus Dr &amp; Randolph St     | Customer   | NA   |   NA |\n",
       "| 23479400 | 2019-07-01 00:04:09 | 2019-07-01 00:36:56 |  307 |   1967 |  24 | Fairbanks Ct &amp; Grand Ave       |  24 | Fairbanks Ct &amp; Grand Ave      | Customer   | NA   |   NA |\n",
       "| 23479401 | 2019-07-01 00:04:25 | 2019-07-01 00:36:56 | 2422 |   1951 |  24 | Fairbanks Ct &amp; Grand Ave       |  24 | Fairbanks Ct &amp; Grand Ave      | Customer   | NA   |   NA |\n",
       "| 23479402 | 2019-07-01 00:04:41 | 2019-07-01 00:37:22 | 3369 |   1961 |  24 | Fairbanks Ct &amp; Grand Ave       |  24 | Fairbanks Ct &amp; Grand Ave      | Customer   | NA   |   NA |\n",
       "| 23479403 | 2019-07-01 00:05:18 | 2019-07-01 00:37:08 | 4050 |   1910 |  24 | Fairbanks Ct &amp; Grand Ave       |  24 | Fairbanks Ct &amp; Grand Ave      | Customer   | NA   |   NA |\n",
       "| 23479404 | 2019-07-01 00:06:06 | 2019-07-01 00:33:33 | 1535 |   1647 |  43 | Michigan Ave &amp; Washington St   |  43 | Michigan Ave &amp; Washington St  | Customer   | NA   |   NA |\n",
       "| 23479405 | 2019-07-01 00:06:10 | 2019-07-01 00:33:08 | 4722 |   1618 |  43 | Michigan Ave &amp; Washington St   |  43 | Michigan Ave &amp; Washington St  | Customer   | NA   |   NA |\n",
       "| 23479406 | 2019-07-01 00:06:51 | 2019-07-01 00:26:22 | 2758 |   1171 | 624 | Dearborn St &amp; Van Buren St     | 237 | MLK Jr Dr &amp; 29th St           | Subscriber | Male | 1995 |\n",
       "| 23479407 | 2019-07-01 00:06:55 | 2019-07-01 00:33:28 | 1614 |   1593 |  43 | Michigan Ave &amp; Washington St   |  43 | Michigan Ave &amp; Washington St  | Customer   | NA   |   NA |\n",
       "| 23479408 | 2019-07-01 00:08:24 | 2019-07-01 00:20:07 | 2447 |    703 | 239 | Western Ave &amp; Leland Ave       | 455 | Maplewood Ave &amp; Peterson Ave  | Subscriber | Male | 1970 |\n",
       "| 23479409 | 2019-07-01 00:08:40 | 2019-07-01 00:27:50 | 6336 |   1150 | 257 | Lincoln Ave &amp; Waveland Ave     | 295 | Broadway &amp; Argyle St          | Subscriber | Male | 1993 |\n",
       "| 23479410 | 2019-07-01 00:08:45 | 2019-07-01 00:19:24 | 3249 |    639 | 309 | Leavitt St &amp; Armitage Ave      | 113 | Bissell St &amp; Armitage Ave     | Customer   | NA   |   NA |\n",
       "| 23479411 | 2019-07-01 00:10:20 | 2019-07-01 00:19:36 | 3632 |    556 |  76 | Lake Shore Dr &amp; Monroe St      |  59 | Wabash Ave &amp; Roosevelt Rd     | Customer   | NA   |   NA |\n",
       "| 23479412 | 2019-07-01 00:10:47 | 2019-07-01 01:46:44 | 3154 |   5757 |  90 | Millennium Park                |  90 | Millennium Park               | Customer   | NA   |   NA |\n",
       "| 23479414 | 2019-07-01 00:11:17 | 2019-07-01 00:25:36 | 2138 |    859 | 313 | Lakeview Ave &amp; Fullerton Pkwy  |  58 | Marshfield Ave &amp; Cortland St  | Customer   | NA   |   NA |\n",
       "| 23479415 | 2019-07-01 00:11:22 | 2019-07-01 01:46:44 | 1713 |   5722 |  90 | Millennium Park                |  90 | Millennium Park               | Customer   | NA   |   NA |\n",
       "| 23479416 | 2019-07-01 00:14:40 | 2019-07-02 07:53:48 | 1122 | 113948 | 123 | California Ave &amp; Milwaukee Ave | 509 | Troy St &amp; North Ave           | Customer   | NA   |   NA |\n",
       "| 23479417 | 2019-07-01 00:14:58 | 2019-07-01 01:15:58 |  356 |   3660 | 123 | California Ave &amp; Milwaukee Ave | 222 | Milwaukee Ave &amp; Rockwell St   | Customer   | NA   |   NA |\n",
       "| 23479418 | 2019-07-01 00:15:06 | 2019-07-01 00:36:40 | 4525 |   1294 | 240 | Sheridan Rd &amp; Irving Park Rd   | 326 | Clark St &amp; Leland Ave         | Customer   | Male | 1987 |\n",
       "| ⋮ | ⋮ | ⋮ | ⋮ | ⋮ | ⋮ | ⋮ | ⋮ | ⋮ | ⋮ | ⋮ | ⋮ |\n",
       "| 25223610 | 2019-09-30 23:44:28 | 2019-09-30 23:50:15 | 5387 |  347 |  22 | May St &amp; Taylor St                      | 282 | Halsted St &amp; Maxwell St          | Subscriber | Male   | 1995 |\n",
       "| 25223611 | 2019-09-30 23:45:47 | 2019-10-01 00:06:31 | 5747 | 1244 | 664 | Leavitt St &amp; Belmont Ave (*)            | 313 | Lakeview Ave &amp; Fullerton Pkwy    | Subscriber | Female | 1996 |\n",
       "| 25223612 | 2019-09-30 23:46:37 | 2019-10-01 00:10:19 | 4333 | 1421 | 591 | Kilbourn Ave &amp; Milwaukee Ave            | 123 | California Ave &amp; Milwaukee Ave   | Customer   | NA     |   NA |\n",
       "| 25223613 | 2019-09-30 23:47:11 | 2019-10-01 00:12:26 | 6228 | 1514 | 232 | Pine Grove Ave &amp; Waveland Ave           | 257 | Lincoln Ave &amp; Waveland Ave       | Customer   | Male   | 1999 |\n",
       "| 25223614 | 2019-09-30 23:47:31 | 2019-09-30 23:56:55 |  488 |  563 | 596 | Benson Ave &amp; Church St                  | 600 | Dodge Ave &amp; Church St            | Customer   | Male   | 1971 |\n",
       "| 25223615 | 2019-09-30 23:47:41 | 2019-10-01 00:28:15 |  406 | 2433 | 302 | Sheffield Ave &amp; Wrightwood Ave          |  85 | Michigan Ave &amp; Oak St            | Customer   | NA     |   NA |\n",
       "| 25223616 | 2019-09-30 23:47:57 | 2019-09-30 23:50:40 | 3584 |  163 | 302 | Sheffield Ave &amp; Wrightwood Ave          | 349 | Halsted St &amp; Wrightwood Ave      | Subscriber | Male   | 1992 |\n",
       "| 25223617 | 2019-09-30 23:48:12 | 2019-09-30 23:53:16 | 4970 |  304 | 654 | Racine Ave &amp; Washington Blvd (*)        | 186 | Ogden Ave &amp; Race Ave             | Subscriber | Female | 1989 |\n",
       "| 25223618 | 2019-09-30 23:48:29 | 2019-10-01 00:12:16 | 2370 | 1426 | 232 | Pine Grove Ave &amp; Waveland Ave           | 257 | Lincoln Ave &amp; Waveland Ave       | Customer   | Male   | 1989 |\n",
       "| 25223619 | 2019-09-30 23:48:39 | 2019-10-01 00:13:07 | 4737 | 1468 | 490 | Troy St &amp; Elston Ave                    | 296 | Broadway &amp; Belmont Ave           | Subscriber | Male   | 1994 |\n",
       "| 25223620 | 2019-09-30 23:49:24 | 2019-09-30 23:56:47 | 3182 |  443 | 232 | Pine Grove Ave &amp; Waveland Ave           | 117 | Wilton Ave &amp; Belmont Ave         | Customer   | NA     |   NA |\n",
       "| 25223621 | 2019-09-30 23:49:26 | 2019-10-01 00:12:34 | 1867 | 1387 | 232 | Pine Grove Ave &amp; Waveland Ave           | 257 | Lincoln Ave &amp; Waveland Ave       | Customer   | NA     |   NA |\n",
       "| 25223622 | 2019-09-30 23:51:33 | 2019-10-01 00:15:18 | 3892 | 1425 |  50 | Clark St &amp; Ida B Wells Dr               | 280 | Morgan St &amp; 31st St              | Subscriber | Male   | 1985 |\n",
       "| 25223623 | 2019-09-30 23:51:27 | 2019-10-01 00:10:39 | 3422 | 1151 | 331 | Halsted St &amp; Clybourn Ave               | 637 | Wood St &amp; Chicago Ave (*)        | Subscriber | Male   | 1993 |\n",
       "| 25223624 | 2019-09-30 23:51:38 | 2019-10-01 00:28:28 | 5507 | 2209 | 349 | Halsted St &amp; Wrightwood Ave             |  85 | Michigan Ave &amp; Oak St            | Subscriber | Male   | 1992 |\n",
       "| 25223625 | 2019-09-30 23:51:45 | 2019-10-01 00:12:43 | 5387 | 1257 | 282 | Halsted St &amp; Maxwell St                 | 148 | State St &amp; 33rd St               | Customer   | NA     | 1999 |\n",
       "| 25223626 | 2019-09-30 23:51:49 | 2019-10-01 00:01:12 | 1908 |  563 | 195 | Columbus Dr &amp; Randolph St               |  77 | Clinton St &amp; Madison St          | Subscriber | Male   | 1969 |\n",
       "| 25223627 | 2019-09-30 23:52:37 | 2019-10-01 00:03:15 | 5232 |  638 | 331 | Halsted St &amp; Clybourn Ave               |  13 | Wilton Ave &amp; Diversey Pkwy       | Subscriber | Male   | 1993 |\n",
       "| 25223628 | 2019-09-30 23:52:53 | 2019-10-01 00:19:53 |  803 | 1620 | 225 | Halsted St &amp; Dickens Ave                | 260 | Kedzie Ave &amp; Milwaukee Ave       | Customer   | NA     |   NA |\n",
       "| 25223629 | 2019-09-30 23:53:05 | 2019-10-01 00:06:27 | 4600 |  801 | 238 | Wolcott (Ravenswood) Ave &amp; Montrose Ave | 251 | Clarendon Ave &amp; Leland Ave       | Subscriber | Male   | 1980 |\n",
       "| 25223630 | 2019-09-30 23:54:03 | 2019-10-01 00:09:59 | 1788 |  955 | 228 | Damen Ave &amp; Melrose Ave                 | 240 | Sheridan Rd &amp; Irving Park Rd     | Subscriber | Male   | 1986 |\n",
       "| 25223631 | 2019-09-30 23:55:26 | 2019-10-01 00:06:47 | 4409 |  680 |  54 | Ogden Ave &amp; Chicago Ave                 | 346 | Ada St &amp; Washington Blvd         | Subscriber | Male   | 1989 |\n",
       "| 25223632 | 2019-09-30 23:55:40 | 2019-10-01 00:29:01 | 5488 | 2001 |  52 | Michigan Ave &amp; Lake St                  | 289 | Wells St &amp; Concord Ln            | Subscriber | Female | 1995 |\n",
       "| 25223633 | 2019-09-30 23:56:09 | 2019-10-01 00:30:33 | 5181 | 2063 | 264 | Stetson Ave &amp; South Water St            | 623 | Michigan Ave &amp; 8th St            | Customer   | NA     |   NA |\n",
       "| 25223634 | 2019-09-30 23:56:12 | 2019-10-01 00:30:21 |  400 | 2049 | 264 | Stetson Ave &amp; South Water St            | 623 | Michigan Ave &amp; 8th St            | Customer   | NA     |   NA |\n",
       "| 25223635 | 2019-09-30 23:56:27 | 2019-10-01 00:06:20 | 5690 |  593 |  84 | Milwaukee Ave &amp; Grand Ave               | 134 | Peoria St &amp; Jackson Blvd         | Subscriber | Male   | 1993 |\n",
       "| 25223636 | 2019-09-30 23:57:02 | 2019-10-01 00:02:13 | 5079 |  310 | 268 | Lake Shore Dr &amp; North Blvd              |  85 | Michigan Ave &amp; Oak St            | Subscriber | Male   | 1992 |\n",
       "| 25223637 | 2019-09-30 23:57:45 | 2019-10-01 00:01:41 | 5535 |  235 | 423 | University Ave &amp; 57th St                | 426 | Ellis Ave &amp; 60th St              | Customer   | Male   | 2000 |\n",
       "| 25223638 | 2019-09-30 23:57:47 | 2019-10-01 00:04:41 | 6120 |  414 | 110 | Dearborn St &amp; Erie St                   |  31 | Franklin St &amp; Chicago Ave (Temp) | Subscriber | Male   | 1986 |\n",
       "| 25223639 | 2019-09-30 23:59:37 | 2019-10-01 00:05:17 |   60 |  339 | 265 | Cottage Grove Ave &amp; Oakwood Blvd        | 179 | MLK Jr Dr &amp; Pershing Rd          | Subscriber | Female | 1996 |\n",
       "\n"
      ],
      "text/plain": [
       "        ride_id  started_at          ended_at            rideable_type\n",
       "1       23479388 2019-07-01 00:00:27 2019-07-01 00:20:41 3591         \n",
       "2       23479389 2019-07-01 00:01:16 2019-07-01 00:18:44 5353         \n",
       "3       23479390 2019-07-01 00:01:48 2019-07-01 00:27:42 6180         \n",
       "4       23479391 2019-07-01 00:02:07 2019-07-01 00:27:10 5540         \n",
       "5       23479392 2019-07-01 00:02:13 2019-07-01 00:22:26 6014         \n",
       "6       23479393 2019-07-01 00:02:21 2019-07-01 00:07:31 4941         \n",
       "7       23479394 2019-07-01 00:02:24 2019-07-01 00:23:12 3770         \n",
       "8       23479395 2019-07-01 00:02:26 2019-07-01 00:28:16 5442         \n",
       "9       23479396 2019-07-01 00:02:34 2019-07-01 00:28:57 2957         \n",
       "10      23479397 2019-07-01 00:02:45 2019-07-01 00:29:14 6091         \n",
       "11      23479398 2019-07-01 00:02:57 2019-07-01 00:29:05 4116         \n",
       "12      23479399 2019-07-01 00:03:07 2019-07-01 00:28:50 4948         \n",
       "13      23479400 2019-07-01 00:04:09 2019-07-01 00:36:56  307         \n",
       "14      23479401 2019-07-01 00:04:25 2019-07-01 00:36:56 2422         \n",
       "15      23479402 2019-07-01 00:04:41 2019-07-01 00:37:22 3369         \n",
       "16      23479403 2019-07-01 00:05:18 2019-07-01 00:37:08 4050         \n",
       "17      23479404 2019-07-01 00:06:06 2019-07-01 00:33:33 1535         \n",
       "18      23479405 2019-07-01 00:06:10 2019-07-01 00:33:08 4722         \n",
       "19      23479406 2019-07-01 00:06:51 2019-07-01 00:26:22 2758         \n",
       "20      23479407 2019-07-01 00:06:55 2019-07-01 00:33:28 1614         \n",
       "21      23479408 2019-07-01 00:08:24 2019-07-01 00:20:07 2447         \n",
       "22      23479409 2019-07-01 00:08:40 2019-07-01 00:27:50 6336         \n",
       "23      23479410 2019-07-01 00:08:45 2019-07-01 00:19:24 3249         \n",
       "24      23479411 2019-07-01 00:10:20 2019-07-01 00:19:36 3632         \n",
       "25      23479412 2019-07-01 00:10:47 2019-07-01 01:46:44 3154         \n",
       "26      23479414 2019-07-01 00:11:17 2019-07-01 00:25:36 2138         \n",
       "27      23479415 2019-07-01 00:11:22 2019-07-01 01:46:44 1713         \n",
       "28      23479416 2019-07-01 00:14:40 2019-07-02 07:53:48 1122         \n",
       "29      23479417 2019-07-01 00:14:58 2019-07-01 01:15:58  356         \n",
       "30      23479418 2019-07-01 00:15:06 2019-07-01 00:36:40 4525         \n",
       "⋮       ⋮        ⋮                   ⋮                   ⋮            \n",
       "1640689 25223610 2019-09-30 23:44:28 2019-09-30 23:50:15 5387         \n",
       "1640690 25223611 2019-09-30 23:45:47 2019-10-01 00:06:31 5747         \n",
       "1640691 25223612 2019-09-30 23:46:37 2019-10-01 00:10:19 4333         \n",
       "1640692 25223613 2019-09-30 23:47:11 2019-10-01 00:12:26 6228         \n",
       "1640693 25223614 2019-09-30 23:47:31 2019-09-30 23:56:55  488         \n",
       "1640694 25223615 2019-09-30 23:47:41 2019-10-01 00:28:15  406         \n",
       "1640695 25223616 2019-09-30 23:47:57 2019-09-30 23:50:40 3584         \n",
       "1640696 25223617 2019-09-30 23:48:12 2019-09-30 23:53:16 4970         \n",
       "1640697 25223618 2019-09-30 23:48:29 2019-10-01 00:12:16 2370         \n",
       "1640698 25223619 2019-09-30 23:48:39 2019-10-01 00:13:07 4737         \n",
       "1640699 25223620 2019-09-30 23:49:24 2019-09-30 23:56:47 3182         \n",
       "1640700 25223621 2019-09-30 23:49:26 2019-10-01 00:12:34 1867         \n",
       "1640701 25223622 2019-09-30 23:51:33 2019-10-01 00:15:18 3892         \n",
       "1640702 25223623 2019-09-30 23:51:27 2019-10-01 00:10:39 3422         \n",
       "1640703 25223624 2019-09-30 23:51:38 2019-10-01 00:28:28 5507         \n",
       "1640704 25223625 2019-09-30 23:51:45 2019-10-01 00:12:43 5387         \n",
       "1640705 25223626 2019-09-30 23:51:49 2019-10-01 00:01:12 1908         \n",
       "1640706 25223627 2019-09-30 23:52:37 2019-10-01 00:03:15 5232         \n",
       "1640707 25223628 2019-09-30 23:52:53 2019-10-01 00:19:53  803         \n",
       "1640708 25223629 2019-09-30 23:53:05 2019-10-01 00:06:27 4600         \n",
       "1640709 25223630 2019-09-30 23:54:03 2019-10-01 00:09:59 1788         \n",
       "1640710 25223631 2019-09-30 23:55:26 2019-10-01 00:06:47 4409         \n",
       "1640711 25223632 2019-09-30 23:55:40 2019-10-01 00:29:01 5488         \n",
       "1640712 25223633 2019-09-30 23:56:09 2019-10-01 00:30:33 5181         \n",
       "1640713 25223634 2019-09-30 23:56:12 2019-10-01 00:30:21  400         \n",
       "1640714 25223635 2019-09-30 23:56:27 2019-10-01 00:06:20 5690         \n",
       "1640715 25223636 2019-09-30 23:57:02 2019-10-01 00:02:13 5079         \n",
       "1640716 25223637 2019-09-30 23:57:45 2019-10-01 00:01:41 5535         \n",
       "1640717 25223638 2019-09-30 23:57:47 2019-10-01 00:04:41 6120         \n",
       "1640718 25223639 2019-09-30 23:59:37 2019-10-01 00:05:17   60         \n",
       "        tripduration start_station_id start_station_name                     \n",
       "1         1214       117              Wilton Ave & Belmont Ave               \n",
       "2         1048       381              Western Ave & Monroe St                \n",
       "3         1554       313              Lakeview Ave & Fullerton Pkwy          \n",
       "4         1503       313              Lakeview Ave & Fullerton Pkwy          \n",
       "5         1213       168              Michigan Ave & 14th St                 \n",
       "6          310       300              Broadway & Barry Ave                   \n",
       "7         1248       168              Michigan Ave & 14th St                 \n",
       "8         1550       313              Lakeview Ave & Fullerton Pkwy          \n",
       "9         1583        43              Michigan Ave & Washington St           \n",
       "10        1589        43              Michigan Ave & Washington St           \n",
       "11        1568       511              Albany Ave & Bloomingdale Ave          \n",
       "12        1543        43              Michigan Ave & Washington St           \n",
       "13        1967        24              Fairbanks Ct & Grand Ave               \n",
       "14        1951        24              Fairbanks Ct & Grand Ave               \n",
       "15        1961        24              Fairbanks Ct & Grand Ave               \n",
       "16        1910        24              Fairbanks Ct & Grand Ave               \n",
       "17        1647        43              Michigan Ave & Washington St           \n",
       "18        1618        43              Michigan Ave & Washington St           \n",
       "19        1171       624              Dearborn St & Van Buren St             \n",
       "20        1593        43              Michigan Ave & Washington St           \n",
       "21         703       239              Western Ave & Leland Ave               \n",
       "22        1150       257              Lincoln Ave & Waveland Ave             \n",
       "23         639       309              Leavitt St & Armitage Ave              \n",
       "24         556        76              Lake Shore Dr & Monroe St              \n",
       "25        5757        90              Millennium Park                        \n",
       "26         859       313              Lakeview Ave & Fullerton Pkwy          \n",
       "27        5722        90              Millennium Park                        \n",
       "28      113948       123              California Ave & Milwaukee Ave         \n",
       "29        3660       123              California Ave & Milwaukee Ave         \n",
       "30        1294       240              Sheridan Rd & Irving Park Rd           \n",
       "⋮       ⋮            ⋮                ⋮                                      \n",
       "1640689  347          22              May St & Taylor St                     \n",
       "1640690 1244         664              Leavitt St & Belmont Ave (*)           \n",
       "1640691 1421         591              Kilbourn Ave & Milwaukee Ave           \n",
       "1640692 1514         232              Pine Grove Ave & Waveland Ave          \n",
       "1640693  563         596              Benson Ave & Church St                 \n",
       "1640694 2433         302              Sheffield Ave & Wrightwood Ave         \n",
       "1640695  163         302              Sheffield Ave & Wrightwood Ave         \n",
       "1640696  304         654              Racine Ave & Washington Blvd (*)       \n",
       "1640697 1426         232              Pine Grove Ave & Waveland Ave          \n",
       "1640698 1468         490              Troy St & Elston Ave                   \n",
       "1640699  443         232              Pine Grove Ave & Waveland Ave          \n",
       "1640700 1387         232              Pine Grove Ave & Waveland Ave          \n",
       "1640701 1425          50              Clark St & Ida B Wells Dr              \n",
       "1640702 1151         331              Halsted St & Clybourn Ave              \n",
       "1640703 2209         349              Halsted St & Wrightwood Ave            \n",
       "1640704 1257         282              Halsted St & Maxwell St                \n",
       "1640705  563         195              Columbus Dr & Randolph St              \n",
       "1640706  638         331              Halsted St & Clybourn Ave              \n",
       "1640707 1620         225              Halsted St & Dickens Ave               \n",
       "1640708  801         238              Wolcott (Ravenswood) Ave & Montrose Ave\n",
       "1640709  955         228              Damen Ave & Melrose Ave                \n",
       "1640710  680          54              Ogden Ave & Chicago Ave                \n",
       "1640711 2001          52              Michigan Ave & Lake St                 \n",
       "1640712 2063         264              Stetson Ave & South Water St           \n",
       "1640713 2049         264              Stetson Ave & South Water St           \n",
       "1640714  593          84              Milwaukee Ave & Grand Ave              \n",
       "1640715  310         268              Lake Shore Dr & North Blvd             \n",
       "1640716  235         423              University Ave & 57th St               \n",
       "1640717  414         110              Dearborn St & Erie St                  \n",
       "1640718  339         265              Cottage Grove Ave & Oakwood Blvd       \n",
       "        end_station_id end_station_name                 member_casual gender\n",
       "1       497            Kimball Ave & Belmont Ave        Subscriber    Male  \n",
       "2       203            Western Ave & 21st St            Customer      NA    \n",
       "3       144            Larrabee St & Webster Ave        Customer      NA    \n",
       "4       144            Larrabee St & Webster Ave        Customer      NA    \n",
       "5        62            McCormick Place                  Customer      NA    \n",
       "6       232            Pine Grove Ave & Waveland Ave    Subscriber    Male  \n",
       "7        62            McCormick Place                  Customer      NA    \n",
       "8       144            Larrabee St & Webster Ave        Customer      NA    \n",
       "9       195            Columbus Dr & Randolph St        Customer      NA    \n",
       "10      195            Columbus Dr & Randolph St        Customer      NA    \n",
       "11       84            Milwaukee Ave & Grand Ave        Customer      NA    \n",
       "12      195            Columbus Dr & Randolph St        Customer      NA    \n",
       "13       24            Fairbanks Ct & Grand Ave         Customer      NA    \n",
       "14       24            Fairbanks Ct & Grand Ave         Customer      NA    \n",
       "15       24            Fairbanks Ct & Grand Ave         Customer      NA    \n",
       "16       24            Fairbanks Ct & Grand Ave         Customer      NA    \n",
       "17       43            Michigan Ave & Washington St     Customer      NA    \n",
       "18       43            Michigan Ave & Washington St     Customer      NA    \n",
       "19      237            MLK Jr Dr & 29th St              Subscriber    Male  \n",
       "20       43            Michigan Ave & Washington St     Customer      NA    \n",
       "21      455            Maplewood Ave & Peterson Ave     Subscriber    Male  \n",
       "22      295            Broadway & Argyle St             Subscriber    Male  \n",
       "23      113            Bissell St & Armitage Ave        Customer      NA    \n",
       "24       59            Wabash Ave & Roosevelt Rd        Customer      NA    \n",
       "25       90            Millennium Park                  Customer      NA    \n",
       "26       58            Marshfield Ave & Cortland St     Customer      NA    \n",
       "27       90            Millennium Park                  Customer      NA    \n",
       "28      509            Troy St & North Ave              Customer      NA    \n",
       "29      222            Milwaukee Ave & Rockwell St      Customer      NA    \n",
       "30      326            Clark St & Leland Ave            Customer      Male  \n",
       "⋮       ⋮              ⋮                                ⋮             ⋮     \n",
       "1640689 282            Halsted St & Maxwell St          Subscriber    Male  \n",
       "1640690 313            Lakeview Ave & Fullerton Pkwy    Subscriber    Female\n",
       "1640691 123            California Ave & Milwaukee Ave   Customer      NA    \n",
       "1640692 257            Lincoln Ave & Waveland Ave       Customer      Male  \n",
       "1640693 600            Dodge Ave & Church St            Customer      Male  \n",
       "1640694  85            Michigan Ave & Oak St            Customer      NA    \n",
       "1640695 349            Halsted St & Wrightwood Ave      Subscriber    Male  \n",
       "1640696 186            Ogden Ave & Race Ave             Subscriber    Female\n",
       "1640697 257            Lincoln Ave & Waveland Ave       Customer      Male  \n",
       "1640698 296            Broadway & Belmont Ave           Subscriber    Male  \n",
       "1640699 117            Wilton Ave & Belmont Ave         Customer      NA    \n",
       "1640700 257            Lincoln Ave & Waveland Ave       Customer      NA    \n",
       "1640701 280            Morgan St & 31st St              Subscriber    Male  \n",
       "1640702 637            Wood St & Chicago Ave (*)        Subscriber    Male  \n",
       "1640703  85            Michigan Ave & Oak St            Subscriber    Male  \n",
       "1640704 148            State St & 33rd St               Customer      NA    \n",
       "1640705  77            Clinton St & Madison St          Subscriber    Male  \n",
       "1640706  13            Wilton Ave & Diversey Pkwy       Subscriber    Male  \n",
       "1640707 260            Kedzie Ave & Milwaukee Ave       Customer      NA    \n",
       "1640708 251            Clarendon Ave & Leland Ave       Subscriber    Male  \n",
       "1640709 240            Sheridan Rd & Irving Park Rd     Subscriber    Male  \n",
       "1640710 346            Ada St & Washington Blvd         Subscriber    Male  \n",
       "1640711 289            Wells St & Concord Ln            Subscriber    Female\n",
       "1640712 623            Michigan Ave & 8th St            Customer      NA    \n",
       "1640713 623            Michigan Ave & 8th St            Customer      NA    \n",
       "1640714 134            Peoria St & Jackson Blvd         Subscriber    Male  \n",
       "1640715  85            Michigan Ave & Oak St            Subscriber    Male  \n",
       "1640716 426            Ellis Ave & 60th St              Customer      Male  \n",
       "1640717  31            Franklin St & Chicago Ave (Temp) Subscriber    Male  \n",
       "1640718 179            MLK Jr Dr & Pershing Rd          Subscriber    Female\n",
       "        birthyear\n",
       "1       1992     \n",
       "2         NA     \n",
       "3         NA     \n",
       "4         NA     \n",
       "5         NA     \n",
       "6       1990     \n",
       "7         NA     \n",
       "8         NA     \n",
       "9         NA     \n",
       "10        NA     \n",
       "11        NA     \n",
       "12        NA     \n",
       "13        NA     \n",
       "14        NA     \n",
       "15        NA     \n",
       "16        NA     \n",
       "17        NA     \n",
       "18        NA     \n",
       "19      1995     \n",
       "20        NA     \n",
       "21      1970     \n",
       "22      1993     \n",
       "23        NA     \n",
       "24        NA     \n",
       "25        NA     \n",
       "26        NA     \n",
       "27        NA     \n",
       "28        NA     \n",
       "29        NA     \n",
       "30      1987     \n",
       "⋮       ⋮        \n",
       "1640689 1995     \n",
       "1640690 1996     \n",
       "1640691   NA     \n",
       "1640692 1999     \n",
       "1640693 1971     \n",
       "1640694   NA     \n",
       "1640695 1992     \n",
       "1640696 1989     \n",
       "1640697 1989     \n",
       "1640698 1994     \n",
       "1640699   NA     \n",
       "1640700   NA     \n",
       "1640701 1985     \n",
       "1640702 1993     \n",
       "1640703 1992     \n",
       "1640704 1999     \n",
       "1640705 1969     \n",
       "1640706 1993     \n",
       "1640707   NA     \n",
       "1640708 1980     \n",
       "1640709 1986     \n",
       "1640710 1989     \n",
       "1640711 1995     \n",
       "1640712   NA     \n",
       "1640713   NA     \n",
       "1640714 1993     \n",
       "1640715 1992     \n",
       "1640716 2000     \n",
       "1640717 1986     \n",
       "1640718 1996     "
      ]
     },
     "metadata": {},
     "output_type": "display_data"
    },
    {
     "data": {
      "text/html": [
       "<table class=\"dataframe\">\n",
       "<caption>A spec_tbl_df: 1108163 × 12</caption>\n",
       "<thead>\n",
       "\t<tr><th scope=col>ride_id</th><th scope=col>started_at</th><th scope=col>ended_at</th><th scope=col>rideable_type</th><th scope=col>01 - Rental Details Duration In Seconds Uncapped</th><th scope=col>start_station_id</th><th scope=col>start_station_name</th><th scope=col>end_station_id</th><th scope=col>end_station_name</th><th scope=col>member_casual</th><th scope=col>Member Gender</th><th scope=col>05 - Member Details Member Birthday Year</th></tr>\n",
       "\t<tr><th scope=col>&lt;dbl&gt;</th><th scope=col>&lt;dttm&gt;</th><th scope=col>&lt;dttm&gt;</th><th scope=col>&lt;dbl&gt;</th><th scope=col>&lt;dbl&gt;</th><th scope=col>&lt;dbl&gt;</th><th scope=col>&lt;chr&gt;</th><th scope=col>&lt;dbl&gt;</th><th scope=col>&lt;chr&gt;</th><th scope=col>&lt;chr&gt;</th><th scope=col>&lt;chr&gt;</th><th scope=col>&lt;dbl&gt;</th></tr>\n",
       "</thead>\n",
       "<tbody>\n",
       "\t<tr><td>22178529</td><td>2019-04-01 00:02:22</td><td>2019-04-01 00:09:48</td><td>6251</td><td> 446</td><td> 81</td><td><span style=white-space:pre-wrap>Daley Center Plaza             </span></td><td> 56</td><td><span style=white-space:pre-wrap>Desplaines St &amp; Kinzie St           </span></td><td>Subscriber</td><td><span style=white-space:pre-wrap>Male  </span></td><td>1975</td></tr>\n",
       "\t<tr><td>22178530</td><td>2019-04-01 00:03:02</td><td>2019-04-01 00:20:30</td><td>6226</td><td>1048</td><td>317</td><td><span style=white-space:pre-wrap>Wood St &amp; Taylor St            </span></td><td> 59</td><td><span style=white-space:pre-wrap>Wabash Ave &amp; Roosevelt Rd           </span></td><td>Subscriber</td><td>Female</td><td>1984</td></tr>\n",
       "\t<tr><td>22178531</td><td>2019-04-01 00:11:07</td><td>2019-04-01 00:15:19</td><td>5649</td><td> 252</td><td>283</td><td><span style=white-space:pre-wrap>LaSalle St &amp; Jackson Blvd      </span></td><td>174</td><td><span style=white-space:pre-wrap>Canal St &amp; Madison St               </span></td><td>Subscriber</td><td><span style=white-space:pre-wrap>Male  </span></td><td>1990</td></tr>\n",
       "\t<tr><td>22178532</td><td>2019-04-01 00:13:01</td><td>2019-04-01 00:18:58</td><td>4151</td><td> 357</td><td> 26</td><td><span style=white-space:pre-wrap>McClurg Ct &amp; Illinois St       </span></td><td>133</td><td><span style=white-space:pre-wrap>Kingsbury St &amp; Kinzie St            </span></td><td>Subscriber</td><td><span style=white-space:pre-wrap>Male  </span></td><td>1993</td></tr>\n",
       "\t<tr><td>22178533</td><td>2019-04-01 00:19:26</td><td>2019-04-01 00:36:13</td><td>3270</td><td>1007</td><td>202</td><td><span style=white-space:pre-wrap>Halsted St &amp; 18th St           </span></td><td>129</td><td><span style=white-space:pre-wrap>Blue Island Ave &amp; 18th St           </span></td><td>Subscriber</td><td><span style=white-space:pre-wrap>Male  </span></td><td>1992</td></tr>\n",
       "\t<tr><td>22178534</td><td>2019-04-01 00:19:39</td><td>2019-04-01 00:23:56</td><td>3123</td><td> 257</td><td>420</td><td><span style=white-space:pre-wrap>Ellis Ave &amp; 55th St            </span></td><td>426</td><td><span style=white-space:pre-wrap>Ellis Ave &amp; 60th St                 </span></td><td>Subscriber</td><td><span style=white-space:pre-wrap>Male  </span></td><td>1999</td></tr>\n",
       "\t<tr><td>22178535</td><td>2019-04-01 00:26:33</td><td>2019-04-01 00:35:41</td><td>6418</td><td> 548</td><td>503</td><td><span style=white-space:pre-wrap>Drake Ave &amp; Fullerton Ave      </span></td><td>500</td><td><span style=white-space:pre-wrap>Central Park Ave &amp; Elbridge Ave     </span></td><td>Subscriber</td><td><span style=white-space:pre-wrap>Male  </span></td><td>1969</td></tr>\n",
       "\t<tr><td>22178536</td><td>2019-04-01 00:29:48</td><td>2019-04-01 00:36:11</td><td>4513</td><td> 383</td><td>260</td><td><span style=white-space:pre-wrap>Kedzie Ave &amp; Milwaukee Ave     </span></td><td>499</td><td><span style=white-space:pre-wrap>Kosciuszko Park                     </span></td><td>Subscriber</td><td><span style=white-space:pre-wrap>Male  </span></td><td>1991</td></tr>\n",
       "\t<tr><td>22178537</td><td>2019-04-01 00:32:07</td><td>2019-04-01 01:07:44</td><td>3280</td><td>2137</td><td>211</td><td><span style=white-space:pre-wrap>St. Clair St &amp; Erie St         </span></td><td>211</td><td><span style=white-space:pre-wrap>St. Clair St &amp; Erie St              </span></td><td><span style=white-space:pre-wrap>Customer  </span></td><td><span style=white-space:pre-wrap>NA    </span></td><td><span style=white-space:pre-wrap>  NA</span></td></tr>\n",
       "\t<tr><td>22178538</td><td>2019-04-01 00:32:19</td><td>2019-04-01 01:07:39</td><td>5534</td><td>2120</td><td>211</td><td><span style=white-space:pre-wrap>St. Clair St &amp; Erie St         </span></td><td>211</td><td><span style=white-space:pre-wrap>St. Clair St &amp; Erie St              </span></td><td><span style=white-space:pre-wrap>Customer  </span></td><td><span style=white-space:pre-wrap>NA    </span></td><td><span style=white-space:pre-wrap>  NA</span></td></tr>\n",
       "\t<tr><td>22178539</td><td>2019-04-01 00:36:20</td><td>2019-04-01 00:41:17</td><td>4666</td><td> 297</td><td>304</td><td><span style=white-space:pre-wrap>Broadway &amp; Waveland Ave        </span></td><td>232</td><td><span style=white-space:pre-wrap>Pine Grove Ave &amp; Waveland Ave       </span></td><td>Subscriber</td><td><span style=white-space:pre-wrap>Male  </span></td><td>1975</td></tr>\n",
       "\t<tr><td>22178540</td><td>2019-04-01 00:58:38</td><td>2019-04-01 01:04:43</td><td>3735</td><td> 365</td><td> 37</td><td><span style=white-space:pre-wrap>Dearborn St &amp; Adams St         </span></td><td>337</td><td><span style=white-space:pre-wrap>Clark St &amp; Chicago Ave              </span></td><td>Subscriber</td><td><span style=white-space:pre-wrap>Male  </span></td><td>1991</td></tr>\n",
       "\t<tr><td>22178541</td><td>2019-04-01 01:09:41</td><td>2019-04-01 01:12:26</td><td>6108</td><td> 165</td><td> 75</td><td><span style=white-space:pre-wrap>Canal St &amp; Jackson Blvd        </span></td><td> 36</td><td><span style=white-space:pre-wrap>Franklin St &amp; Jackson Blvd          </span></td><td>Subscriber</td><td><span style=white-space:pre-wrap>Male  </span></td><td>1990</td></tr>\n",
       "\t<tr><td>22178542</td><td>2019-04-01 01:13:15</td><td>2019-04-01 01:20:38</td><td>6157</td><td> 443</td><td>334</td><td><span style=white-space:pre-wrap>Lake Shore Dr &amp; Belmont Ave    </span></td><td>256</td><td><span style=white-space:pre-wrap>Broadway &amp; Sheridan Rd              </span></td><td>Subscriber</td><td><span style=white-space:pre-wrap>Male  </span></td><td>1989</td></tr>\n",
       "\t<tr><td>22178543</td><td>2019-04-01 01:18:09</td><td>2019-04-01 01:23:02</td><td>4384</td><td> 293</td><td> 39</td><td><span style=white-space:pre-wrap>Wabash Ave &amp; Adams St          </span></td><td>255</td><td><span style=white-space:pre-wrap>Indiana Ave &amp; Roosevelt Rd          </span></td><td>Subscriber</td><td><span style=white-space:pre-wrap>Male  </span></td><td>1969</td></tr>\n",
       "\t<tr><td>22178544</td><td>2019-04-01 01:28:21</td><td>2019-04-01 01:31:45</td><td>4022</td><td> 204</td><td>287</td><td><span style=white-space:pre-wrap>Franklin St &amp; Monroe St        </span></td><td> 89</td><td>Financial Pl &amp; Ida B Wells Dr (Temp)</td><td>Subscriber</td><td><span style=white-space:pre-wrap>Male  </span></td><td>1994</td></tr>\n",
       "\t<tr><td>22178545</td><td>2019-04-01 01:31:35</td><td>2019-04-01 01:35:28</td><td>2748</td><td> 233</td><td>148</td><td><span style=white-space:pre-wrap>State St &amp; 33rd St             </span></td><td>272</td><td><span style=white-space:pre-wrap>Indiana Ave &amp; 31st St               </span></td><td>Subscriber</td><td>Female</td><td>1989</td></tr>\n",
       "\t<tr><td>22178546</td><td>2019-04-01 01:53:56</td><td>2019-04-01 02:03:02</td><td>5351</td><td> 546</td><td> 59</td><td><span style=white-space:pre-wrap>Wabash Ave &amp; Roosevelt Rd      </span></td><td> 36</td><td><span style=white-space:pre-wrap>Franklin St &amp; Jackson Blvd          </span></td><td>Subscriber</td><td><span style=white-space:pre-wrap>Male  </span></td><td>1958</td></tr>\n",
       "\t<tr><td>22178547</td><td>2019-04-01 02:10:56</td><td>2019-04-01 02:31:45</td><td>1406</td><td>1249</td><td>240</td><td><span style=white-space:pre-wrap>Sheridan Rd &amp; Irving Park Rd   </span></td><td>325</td><td><span style=white-space:pre-wrap>Clark St &amp; Winnemac Ave             </span></td><td><span style=white-space:pre-wrap>Customer  </span></td><td><span style=white-space:pre-wrap>NA    </span></td><td><span style=white-space:pre-wrap>  NA</span></td></tr>\n",
       "\t<tr><td>22178548</td><td>2019-04-01 02:12:53</td><td>2019-04-01 02:16:56</td><td>3325</td><td> 243</td><td>430</td><td><span style=white-space:pre-wrap>MLK Jr Dr &amp; 63rd St            </span></td><td>427</td><td><span style=white-space:pre-wrap>Cottage Grove Ave &amp; 63rd St         </span></td><td>Subscriber</td><td><span style=white-space:pre-wrap>Male  </span></td><td>1985</td></tr>\n",
       "\t<tr><td>22178549</td><td>2019-04-01 02:27:02</td><td>2019-04-01 02:30:10</td><td><span style=white-space:pre-wrap>  93</span></td><td> 188</td><td>257</td><td><span style=white-space:pre-wrap>Lincoln Ave &amp; Waveland Ave     </span></td><td>230</td><td><span style=white-space:pre-wrap>Lincoln Ave &amp; Roscoe St             </span></td><td>Subscriber</td><td><span style=white-space:pre-wrap>Male  </span></td><td>1981</td></tr>\n",
       "\t<tr><td>22178550</td><td>2019-04-01 02:37:48</td><td>2019-04-01 02:41:35</td><td>3325</td><td> 227</td><td>427</td><td><span style=white-space:pre-wrap>Cottage Grove Ave &amp; 63rd St    </span></td><td>430</td><td><span style=white-space:pre-wrap>MLK Jr Dr &amp; 63rd St                 </span></td><td>Subscriber</td><td><span style=white-space:pre-wrap>Male  </span></td><td>1985</td></tr>\n",
       "\t<tr><td>22178551</td><td>2019-04-01 02:42:51</td><td>2019-04-01 02:48:26</td><td>3193</td><td> 335</td><td>172</td><td><span style=white-space:pre-wrap>Rush St &amp; Cedar St             </span></td><td>635</td><td><span style=white-space:pre-wrap>Fairbanks St &amp; Superior St (*)      </span></td><td>Subscriber</td><td><span style=white-space:pre-wrap>Male  </span></td><td>1992</td></tr>\n",
       "\t<tr><td>22178552</td><td>2019-04-01 02:58:12</td><td>2019-04-01 03:09:14</td><td>1167</td><td> 662</td><td>304</td><td><span style=white-space:pre-wrap>Broadway &amp; Waveland Ave        </span></td><td>246</td><td><span style=white-space:pre-wrap>Ashland Ave &amp; Belle Plaine Ave      </span></td><td>Subscriber</td><td>Female</td><td>1959</td></tr>\n",
       "\t<tr><td>22178554</td><td>2019-04-01 02:59:22</td><td>2019-04-01 03:09:14</td><td>6418</td><td> 592</td><td>500</td><td>Central Park Ave &amp; Elbridge Ave</td><td>503</td><td><span style=white-space:pre-wrap>Drake Ave &amp; Fullerton Ave           </span></td><td>Subscriber</td><td><span style=white-space:pre-wrap>Male  </span></td><td>1969</td></tr>\n",
       "\t<tr><td>22178555</td><td>2019-04-01 03:01:13</td><td>2019-04-01 03:04:39</td><td>1627</td><td> 206</td><td> 90</td><td><span style=white-space:pre-wrap>Millennium Park                </span></td><td> 44</td><td><span style=white-space:pre-wrap>State St &amp; Randolph St              </span></td><td>Subscriber</td><td>Female</td><td>1992</td></tr>\n",
       "\t<tr><td>22178556</td><td>2019-04-01 03:15:06</td><td>2019-04-01 03:20:10</td><td>6065</td><td> 304</td><td>299</td><td><span style=white-space:pre-wrap>Halsted St &amp; Roscoe St         </span></td><td>334</td><td><span style=white-space:pre-wrap>Lake Shore Dr &amp; Belmont Ave         </span></td><td>Subscriber</td><td><span style=white-space:pre-wrap>Male  </span></td><td>1989</td></tr>\n",
       "\t<tr><td>22178557</td><td>2019-04-01 03:46:31</td><td>2019-04-01 03:51:23</td><td>5578</td><td> 292</td><td> 15</td><td><span style=white-space:pre-wrap>Racine Ave &amp; 18th St           </span></td><td>205</td><td><span style=white-space:pre-wrap>Paulina St &amp; 18th St                </span></td><td>Subscriber</td><td><span style=white-space:pre-wrap>Male  </span></td><td>1981</td></tr>\n",
       "\t<tr><td>22178558</td><td>2019-04-01 03:46:46</td><td>2019-04-01 04:17:05</td><td>1065</td><td>1819</td><td> 19</td><td><span style=white-space:pre-wrap>Loomis St &amp; Taylor St (*)      </span></td><td> 31</td><td><span style=white-space:pre-wrap>Franklin St &amp; Chicago Ave           </span></td><td>Subscriber</td><td><span style=white-space:pre-wrap>Male  </span></td><td>1997</td></tr>\n",
       "\t<tr><td>22178559</td><td>2019-04-01 04:01:10</td><td>2019-04-01 04:12:50</td><td> 268</td><td> 700</td><td>260</td><td><span style=white-space:pre-wrap>Kedzie Ave &amp; Milwaukee Ave     </span></td><td>485</td><td><span style=white-space:pre-wrap>Sawyer Ave &amp; Irving Park Rd         </span></td><td><span style=white-space:pre-wrap>Customer  </span></td><td><span style=white-space:pre-wrap>Male  </span></td><td>1975</td></tr>\n",
       "\t<tr><td>⋮</td><td>⋮</td><td>⋮</td><td>⋮</td><td>⋮</td><td>⋮</td><td>⋮</td><td>⋮</td><td>⋮</td><td>⋮</td><td>⋮</td><td>⋮</td></tr>\n",
       "\t<tr><td>23479349</td><td>2019-06-30 23:44:37</td><td>2019-07-01 00:10:31</td><td> 957</td><td>1554</td><td><span style=white-space:pre-wrap>  2</span></td><td><span style=white-space:pre-wrap>Buckingham Fountain (Temp)   </span></td><td> 52</td><td><span style=white-space:pre-wrap>Michigan Ave &amp; Lake St              </span></td><td><span style=white-space:pre-wrap>Customer  </span></td><td><span style=white-space:pre-wrap>NA    </span></td><td><span style=white-space:pre-wrap>  NA</span></td></tr>\n",
       "\t<tr><td>23479350</td><td>2019-06-30 23:45:02</td><td>2019-07-01 00:10:11</td><td>5142</td><td>1509</td><td><span style=white-space:pre-wrap>  2</span></td><td><span style=white-space:pre-wrap>Buckingham Fountain (Temp)   </span></td><td> 52</td><td><span style=white-space:pre-wrap>Michigan Ave &amp; Lake St              </span></td><td><span style=white-space:pre-wrap>Customer  </span></td><td><span style=white-space:pre-wrap>NA    </span></td><td><span style=white-space:pre-wrap>  NA</span></td></tr>\n",
       "\t<tr><td>23479351</td><td>2019-06-30 23:45:10</td><td>2019-06-30 23:54:15</td><td>5047</td><td> 545</td><td>300</td><td><span style=white-space:pre-wrap>Broadway &amp; Barry Ave         </span></td><td>144</td><td><span style=white-space:pre-wrap>Larrabee St &amp; Webster Ave           </span></td><td>Subscriber</td><td><span style=white-space:pre-wrap>Male  </span></td><td>1980</td></tr>\n",
       "\t<tr><td>23479353</td><td>2019-06-30 23:46:05</td><td>2019-07-01 00:17:16</td><td> 240</td><td>1871</td><td> 59</td><td><span style=white-space:pre-wrap>Wabash Ave &amp; Roosevelt Rd    </span></td><td><span style=white-space:pre-wrap>  6</span></td><td><span style=white-space:pre-wrap>Dusable Harbor                      </span></td><td><span style=white-space:pre-wrap>Customer  </span></td><td>Female</td><td>1997</td></tr>\n",
       "\t<tr><td>23479354</td><td>2019-06-30 23:46:16</td><td>2019-07-01 00:17:16</td><td>5166</td><td>1860</td><td> 59</td><td><span style=white-space:pre-wrap>Wabash Ave &amp; Roosevelt Rd    </span></td><td><span style=white-space:pre-wrap>  6</span></td><td><span style=white-space:pre-wrap>Dusable Harbor                      </span></td><td><span style=white-space:pre-wrap>Customer  </span></td><td>Female</td><td>1997</td></tr>\n",
       "\t<tr><td>23479355</td><td>2019-06-30 23:46:19</td><td>2019-06-30 23:55:05</td><td>2092</td><td> 526</td><td>299</td><td><span style=white-space:pre-wrap>Halsted St &amp; Roscoe St       </span></td><td>254</td><td><span style=white-space:pre-wrap>Pine Grove Ave &amp; Irving Park Rd     </span></td><td>Subscriber</td><td><span style=white-space:pre-wrap>Male  </span></td><td>1981</td></tr>\n",
       "\t<tr><td>23479357</td><td>2019-06-30 23:47:26</td><td>2019-07-01 00:17:15</td><td>1132</td><td>1789</td><td> 59</td><td><span style=white-space:pre-wrap>Wabash Ave &amp; Roosevelt Rd    </span></td><td><span style=white-space:pre-wrap>  6</span></td><td><span style=white-space:pre-wrap>Dusable Harbor                      </span></td><td><span style=white-space:pre-wrap>Customer  </span></td><td>Female</td><td>1998</td></tr>\n",
       "\t<tr><td>23479358</td><td>2019-06-30 23:48:34</td><td>2019-07-01 00:01:29</td><td>3131</td><td> 775</td><td> 29</td><td><span style=white-space:pre-wrap>Noble St &amp; Milwaukee Ave     </span></td><td>123</td><td><span style=white-space:pre-wrap>California Ave &amp; Milwaukee Ave      </span></td><td>Subscriber</td><td><span style=white-space:pre-wrap>Male  </span></td><td>1987</td></tr>\n",
       "\t<tr><td>23479360</td><td>2019-06-30 23:49:18</td><td>2019-06-30 23:55:18</td><td>3597</td><td> 360</td><td>212</td><td><span style=white-space:pre-wrap>Wells St &amp; Hubbard St        </span></td><td> 98</td><td><span style=white-space:pre-wrap>LaSalle St &amp; Washington St          </span></td><td><span style=white-space:pre-wrap>Customer  </span></td><td><span style=white-space:pre-wrap>Male  </span></td><td>1989</td></tr>\n",
       "\t<tr><td>23479361</td><td>2019-06-30 23:49:29</td><td>2019-07-01 00:00:57</td><td>2099</td><td> 688</td><td>310</td><td><span style=white-space:pre-wrap>Damen Ave &amp; Charleston St    </span></td><td>210</td><td><span style=white-space:pre-wrap>Ashland Ave &amp; Division St           </span></td><td>Subscriber</td><td><span style=white-space:pre-wrap>Male  </span></td><td>1978</td></tr>\n",
       "\t<tr><td>23479362</td><td>2019-06-30 23:49:46</td><td>2019-07-01 00:31:52</td><td>6399</td><td>2526</td><td>392</td><td><span style=white-space:pre-wrap>Perry Ave &amp; 69th St          </span></td><td>392</td><td><span style=white-space:pre-wrap>Perry Ave &amp; 69th St                 </span></td><td>Subscriber</td><td><span style=white-space:pre-wrap>Male  </span></td><td>1957</td></tr>\n",
       "\t<tr><td>23479364</td><td>2019-06-30 23:49:59</td><td>2019-07-01 00:04:58</td><td>1923</td><td> 899</td><td>228</td><td><span style=white-space:pre-wrap>Damen Ave &amp; Melrose Ave      </span></td><td>223</td><td><span style=white-space:pre-wrap>Clifton Ave &amp; Armitage Ave          </span></td><td>Subscriber</td><td><span style=white-space:pre-wrap>Male  </span></td><td>1989</td></tr>\n",
       "\t<tr><td>23479365</td><td>2019-06-30 23:49:59</td><td>2019-06-30 23:55:47</td><td>2962</td><td> 348</td><td> 50</td><td><span style=white-space:pre-wrap>Clark St &amp; Ida B Wells Dr    </span></td><td>321</td><td><span style=white-space:pre-wrap>Wabash Ave &amp; 9th St                 </span></td><td>Subscriber</td><td>Female</td><td>1986</td></tr>\n",
       "\t<tr><td>23479366</td><td>2019-06-30 23:50:02</td><td>2019-07-01 00:06:32</td><td>3410</td><td> 990</td><td>260</td><td><span style=white-space:pre-wrap>Kedzie Ave &amp; Milwaukee Ave   </span></td><td>128</td><td><span style=white-space:pre-wrap>Damen Ave &amp; Chicago Ave             </span></td><td>Subscriber</td><td><span style=white-space:pre-wrap>Male  </span></td><td>1996</td></tr>\n",
       "\t<tr><td>23479368</td><td>2019-06-30 23:51:02</td><td>2019-07-01 00:02:46</td><td> 143</td><td> 704</td><td> 36</td><td><span style=white-space:pre-wrap>Franklin St &amp; Jackson Blvd   </span></td><td>199</td><td><span style=white-space:pre-wrap>Wabash Ave &amp; Grand Ave              </span></td><td>Subscriber</td><td><span style=white-space:pre-wrap>Male  </span></td><td>1992</td></tr>\n",
       "\t<tr><td>23479371</td><td>2019-06-30 23:52:34</td><td>2019-07-01 00:05:48</td><td>5156</td><td> 794</td><td>114</td><td>Sheffield Ave &amp; Waveland Ave </td><td>324</td><td><span style=white-space:pre-wrap>Stockton Dr &amp; Wrightwood Ave        </span></td><td>Subscriber</td><td>Female</td><td>1990</td></tr>\n",
       "\t<tr><td>23479373</td><td>2019-06-30 23:53:59</td><td>2019-07-01 00:53:58</td><td> 648</td><td>3599</td><td>268</td><td><span style=white-space:pre-wrap>Lake Shore Dr &amp; North Blvd   </span></td><td>220</td><td><span style=white-space:pre-wrap>Clark St &amp; Drummond Pl              </span></td><td>Subscriber</td><td><span style=white-space:pre-wrap>Male  </span></td><td>1987</td></tr>\n",
       "\t<tr><td>23479374</td><td>2019-06-30 23:54:04</td><td>2019-07-01 00:54:05</td><td>4883</td><td>3601</td><td>268</td><td><span style=white-space:pre-wrap>Lake Shore Dr &amp; North Blvd   </span></td><td>220</td><td><span style=white-space:pre-wrap>Clark St &amp; Drummond Pl              </span></td><td>Subscriber</td><td>Female</td><td>1986</td></tr>\n",
       "\t<tr><td>23479376</td><td>2019-06-30 23:54:19</td><td>2019-07-01 00:04:45</td><td>1577</td><td> 626</td><td>227</td><td>Southport Ave &amp; Waveland Ave </td><td>632</td><td><span style=white-space:pre-wrap>Clark St &amp; Newport St               </span></td><td><span style=white-space:pre-wrap>Customer  </span></td><td><span style=white-space:pre-wrap>NA    </span></td><td><span style=white-space:pre-wrap>  NA</span></td></tr>\n",
       "\t<tr><td>23479377</td><td>2019-06-30 23:55:24</td><td>2019-07-01 00:04:58</td><td>1759</td><td> 574</td><td> 81</td><td><span style=white-space:pre-wrap>Daley Center Plaza           </span></td><td> 56</td><td><span style=white-space:pre-wrap>Desplaines St &amp; Kinzie St           </span></td><td>Subscriber</td><td><span style=white-space:pre-wrap>Male  </span></td><td>1975</td></tr>\n",
       "\t<tr><td>23479378</td><td>2019-06-30 23:55:58</td><td>2019-07-01 00:13:59</td><td> 429</td><td>1081</td><td>283</td><td><span style=white-space:pre-wrap>LaSalle St &amp; Jackson Blvd    </span></td><td>273</td><td><span style=white-space:pre-wrap>Michigan Ave &amp; 18th St              </span></td><td>Subscriber</td><td><span style=white-space:pre-wrap>Male  </span></td><td>1984</td></tr>\n",
       "\t<tr><td>23479379</td><td>2019-06-30 23:56:00</td><td>2019-06-30 23:58:49</td><td>4889</td><td> 169</td><td>225</td><td><span style=white-space:pre-wrap>Halsted St &amp; Dickens Ave     </span></td><td>224</td><td><span style=white-space:pre-wrap>Halsted St &amp; Willow St              </span></td><td>Subscriber</td><td><span style=white-space:pre-wrap>Male  </span></td><td>1987</td></tr>\n",
       "\t<tr><td>23479380</td><td>2019-06-30 23:57:00</td><td>2019-07-01 00:04:02</td><td> 993</td><td> 422</td><td>106</td><td><span style=white-space:pre-wrap>State St &amp; Pearson St        </span></td><td>620</td><td>Orleans St &amp; Chestnut St (NEXT Apts)</td><td>Subscriber</td><td><span style=white-space:pre-wrap>Male  </span></td><td>1964</td></tr>\n",
       "\t<tr><td>23479381</td><td>2019-06-30 23:57:54</td><td>2019-07-01 00:10:47</td><td>1044</td><td> 773</td><td>215</td><td><span style=white-space:pre-wrap>Damen Ave &amp; Madison St       </span></td><td> 69</td><td><span style=white-space:pre-wrap>Damen Ave &amp; Pierce Ave              </span></td><td>Subscriber</td><td><span style=white-space:pre-wrap>Male  </span></td><td>1962</td></tr>\n",
       "\t<tr><td>23479382</td><td>2019-06-30 23:57:55</td><td>2019-07-01 01:20:55</td><td>4281</td><td>4980</td><td>515</td><td><span style=white-space:pre-wrap>Paulina St &amp; Howard St       </span></td><td>451</td><td><span style=white-space:pre-wrap>Sheridan Rd &amp; Loyola Ave            </span></td><td><span style=white-space:pre-wrap>Customer  </span></td><td><span style=white-space:pre-wrap>NA    </span></td><td><span style=white-space:pre-wrap>  NA</span></td></tr>\n",
       "\t<tr><td>23479383</td><td>2019-06-30 23:58:00</td><td>2019-07-01 00:20:22</td><td>4573</td><td>1342</td><td>206</td><td><span style=white-space:pre-wrap>Halsted St &amp; Archer Ave      </span></td><td>206</td><td><span style=white-space:pre-wrap>Halsted St &amp; Archer Ave             </span></td><td><span style=white-space:pre-wrap>Customer  </span></td><td><span style=white-space:pre-wrap>NA    </span></td><td><span style=white-space:pre-wrap>  NA</span></td></tr>\n",
       "\t<tr><td>23479384</td><td>2019-06-30 23:58:04</td><td>2019-07-01 00:14:17</td><td>6301</td><td> 973</td><td>199</td><td><span style=white-space:pre-wrap>Wabash Ave &amp; Grand Ave       </span></td><td>338</td><td><span style=white-space:pre-wrap>Calumet Ave &amp; 18th St               </span></td><td>Subscriber</td><td><span style=white-space:pre-wrap>Male  </span></td><td>1980</td></tr>\n",
       "\t<tr><td>23479385</td><td>2019-06-30 23:58:20</td><td>2019-07-01 00:25:51</td><td>4472</td><td>1651</td><td>319</td><td>Greenview Ave &amp; Diversey Pkwy</td><td>337</td><td><span style=white-space:pre-wrap>Clark St &amp; Chicago Ave              </span></td><td>Subscriber</td><td>Female</td><td>1991</td></tr>\n",
       "\t<tr><td>23479386</td><td>2019-06-30 23:58:52</td><td>2019-07-01 00:11:24</td><td>5021</td><td> 752</td><td>226</td><td><span style=white-space:pre-wrap>Racine Ave &amp; Belmont Ave     </span></td><td>300</td><td><span style=white-space:pre-wrap>Broadway &amp; Barry Ave                </span></td><td>Subscriber</td><td><span style=white-space:pre-wrap>Male  </span></td><td>1992</td></tr>\n",
       "\t<tr><td>23479387</td><td>2019-06-30 23:59:05</td><td>2019-07-01 00:26:14</td><td>4749</td><td>1629</td><td> 85</td><td><span style=white-space:pre-wrap>Michigan Ave &amp; Oak St        </span></td><td>249</td><td><span style=white-space:pre-wrap>Montrose Harbor                     </span></td><td>Subscriber</td><td><span style=white-space:pre-wrap>Male  </span></td><td>1987</td></tr>\n",
       "</tbody>\n",
       "</table>\n"
      ],
      "text/latex": [
       "A spec\\_tbl\\_df: 1108163 × 12\n",
       "\\begin{tabular}{llllllllllll}\n",
       " ride\\_id & started\\_at & ended\\_at & rideable\\_type & 01 - Rental Details Duration In Seconds Uncapped & start\\_station\\_id & start\\_station\\_name & end\\_station\\_id & end\\_station\\_name & member\\_casual & Member Gender & 05 - Member Details Member Birthday Year\\\\\n",
       " <dbl> & <dttm> & <dttm> & <dbl> & <dbl> & <dbl> & <chr> & <dbl> & <chr> & <chr> & <chr> & <dbl>\\\\\n",
       "\\hline\n",
       "\t 22178529 & 2019-04-01 00:02:22 & 2019-04-01 00:09:48 & 6251 &  446 &  81 & Daley Center Plaza              &  56 & Desplaines St \\& Kinzie St            & Subscriber & Male   & 1975\\\\\n",
       "\t 22178530 & 2019-04-01 00:03:02 & 2019-04-01 00:20:30 & 6226 & 1048 & 317 & Wood St \\& Taylor St             &  59 & Wabash Ave \\& Roosevelt Rd            & Subscriber & Female & 1984\\\\\n",
       "\t 22178531 & 2019-04-01 00:11:07 & 2019-04-01 00:15:19 & 5649 &  252 & 283 & LaSalle St \\& Jackson Blvd       & 174 & Canal St \\& Madison St                & Subscriber & Male   & 1990\\\\\n",
       "\t 22178532 & 2019-04-01 00:13:01 & 2019-04-01 00:18:58 & 4151 &  357 &  26 & McClurg Ct \\& Illinois St        & 133 & Kingsbury St \\& Kinzie St             & Subscriber & Male   & 1993\\\\\n",
       "\t 22178533 & 2019-04-01 00:19:26 & 2019-04-01 00:36:13 & 3270 & 1007 & 202 & Halsted St \\& 18th St            & 129 & Blue Island Ave \\& 18th St            & Subscriber & Male   & 1992\\\\\n",
       "\t 22178534 & 2019-04-01 00:19:39 & 2019-04-01 00:23:56 & 3123 &  257 & 420 & Ellis Ave \\& 55th St             & 426 & Ellis Ave \\& 60th St                  & Subscriber & Male   & 1999\\\\\n",
       "\t 22178535 & 2019-04-01 00:26:33 & 2019-04-01 00:35:41 & 6418 &  548 & 503 & Drake Ave \\& Fullerton Ave       & 500 & Central Park Ave \\& Elbridge Ave      & Subscriber & Male   & 1969\\\\\n",
       "\t 22178536 & 2019-04-01 00:29:48 & 2019-04-01 00:36:11 & 4513 &  383 & 260 & Kedzie Ave \\& Milwaukee Ave      & 499 & Kosciuszko Park                      & Subscriber & Male   & 1991\\\\\n",
       "\t 22178537 & 2019-04-01 00:32:07 & 2019-04-01 01:07:44 & 3280 & 2137 & 211 & St. Clair St \\& Erie St          & 211 & St. Clair St \\& Erie St               & Customer   & NA     &   NA\\\\\n",
       "\t 22178538 & 2019-04-01 00:32:19 & 2019-04-01 01:07:39 & 5534 & 2120 & 211 & St. Clair St \\& Erie St          & 211 & St. Clair St \\& Erie St               & Customer   & NA     &   NA\\\\\n",
       "\t 22178539 & 2019-04-01 00:36:20 & 2019-04-01 00:41:17 & 4666 &  297 & 304 & Broadway \\& Waveland Ave         & 232 & Pine Grove Ave \\& Waveland Ave        & Subscriber & Male   & 1975\\\\\n",
       "\t 22178540 & 2019-04-01 00:58:38 & 2019-04-01 01:04:43 & 3735 &  365 &  37 & Dearborn St \\& Adams St          & 337 & Clark St \\& Chicago Ave               & Subscriber & Male   & 1991\\\\\n",
       "\t 22178541 & 2019-04-01 01:09:41 & 2019-04-01 01:12:26 & 6108 &  165 &  75 & Canal St \\& Jackson Blvd         &  36 & Franklin St \\& Jackson Blvd           & Subscriber & Male   & 1990\\\\\n",
       "\t 22178542 & 2019-04-01 01:13:15 & 2019-04-01 01:20:38 & 6157 &  443 & 334 & Lake Shore Dr \\& Belmont Ave     & 256 & Broadway \\& Sheridan Rd               & Subscriber & Male   & 1989\\\\\n",
       "\t 22178543 & 2019-04-01 01:18:09 & 2019-04-01 01:23:02 & 4384 &  293 &  39 & Wabash Ave \\& Adams St           & 255 & Indiana Ave \\& Roosevelt Rd           & Subscriber & Male   & 1969\\\\\n",
       "\t 22178544 & 2019-04-01 01:28:21 & 2019-04-01 01:31:45 & 4022 &  204 & 287 & Franklin St \\& Monroe St         &  89 & Financial Pl \\& Ida B Wells Dr (Temp) & Subscriber & Male   & 1994\\\\\n",
       "\t 22178545 & 2019-04-01 01:31:35 & 2019-04-01 01:35:28 & 2748 &  233 & 148 & State St \\& 33rd St              & 272 & Indiana Ave \\& 31st St                & Subscriber & Female & 1989\\\\\n",
       "\t 22178546 & 2019-04-01 01:53:56 & 2019-04-01 02:03:02 & 5351 &  546 &  59 & Wabash Ave \\& Roosevelt Rd       &  36 & Franklin St \\& Jackson Blvd           & Subscriber & Male   & 1958\\\\\n",
       "\t 22178547 & 2019-04-01 02:10:56 & 2019-04-01 02:31:45 & 1406 & 1249 & 240 & Sheridan Rd \\& Irving Park Rd    & 325 & Clark St \\& Winnemac Ave              & Customer   & NA     &   NA\\\\\n",
       "\t 22178548 & 2019-04-01 02:12:53 & 2019-04-01 02:16:56 & 3325 &  243 & 430 & MLK Jr Dr \\& 63rd St             & 427 & Cottage Grove Ave \\& 63rd St          & Subscriber & Male   & 1985\\\\\n",
       "\t 22178549 & 2019-04-01 02:27:02 & 2019-04-01 02:30:10 &   93 &  188 & 257 & Lincoln Ave \\& Waveland Ave      & 230 & Lincoln Ave \\& Roscoe St              & Subscriber & Male   & 1981\\\\\n",
       "\t 22178550 & 2019-04-01 02:37:48 & 2019-04-01 02:41:35 & 3325 &  227 & 427 & Cottage Grove Ave \\& 63rd St     & 430 & MLK Jr Dr \\& 63rd St                  & Subscriber & Male   & 1985\\\\\n",
       "\t 22178551 & 2019-04-01 02:42:51 & 2019-04-01 02:48:26 & 3193 &  335 & 172 & Rush St \\& Cedar St              & 635 & Fairbanks St \\& Superior St (*)       & Subscriber & Male   & 1992\\\\\n",
       "\t 22178552 & 2019-04-01 02:58:12 & 2019-04-01 03:09:14 & 1167 &  662 & 304 & Broadway \\& Waveland Ave         & 246 & Ashland Ave \\& Belle Plaine Ave       & Subscriber & Female & 1959\\\\\n",
       "\t 22178554 & 2019-04-01 02:59:22 & 2019-04-01 03:09:14 & 6418 &  592 & 500 & Central Park Ave \\& Elbridge Ave & 503 & Drake Ave \\& Fullerton Ave            & Subscriber & Male   & 1969\\\\\n",
       "\t 22178555 & 2019-04-01 03:01:13 & 2019-04-01 03:04:39 & 1627 &  206 &  90 & Millennium Park                 &  44 & State St \\& Randolph St               & Subscriber & Female & 1992\\\\\n",
       "\t 22178556 & 2019-04-01 03:15:06 & 2019-04-01 03:20:10 & 6065 &  304 & 299 & Halsted St \\& Roscoe St          & 334 & Lake Shore Dr \\& Belmont Ave          & Subscriber & Male   & 1989\\\\\n",
       "\t 22178557 & 2019-04-01 03:46:31 & 2019-04-01 03:51:23 & 5578 &  292 &  15 & Racine Ave \\& 18th St            & 205 & Paulina St \\& 18th St                 & Subscriber & Male   & 1981\\\\\n",
       "\t 22178558 & 2019-04-01 03:46:46 & 2019-04-01 04:17:05 & 1065 & 1819 &  19 & Loomis St \\& Taylor St (*)       &  31 & Franklin St \\& Chicago Ave            & Subscriber & Male   & 1997\\\\\n",
       "\t 22178559 & 2019-04-01 04:01:10 & 2019-04-01 04:12:50 &  268 &  700 & 260 & Kedzie Ave \\& Milwaukee Ave      & 485 & Sawyer Ave \\& Irving Park Rd          & Customer   & Male   & 1975\\\\\n",
       "\t ⋮ & ⋮ & ⋮ & ⋮ & ⋮ & ⋮ & ⋮ & ⋮ & ⋮ & ⋮ & ⋮ & ⋮\\\\\n",
       "\t 23479349 & 2019-06-30 23:44:37 & 2019-07-01 00:10:31 &  957 & 1554 &   2 & Buckingham Fountain (Temp)    &  52 & Michigan Ave \\& Lake St               & Customer   & NA     &   NA\\\\\n",
       "\t 23479350 & 2019-06-30 23:45:02 & 2019-07-01 00:10:11 & 5142 & 1509 &   2 & Buckingham Fountain (Temp)    &  52 & Michigan Ave \\& Lake St               & Customer   & NA     &   NA\\\\\n",
       "\t 23479351 & 2019-06-30 23:45:10 & 2019-06-30 23:54:15 & 5047 &  545 & 300 & Broadway \\& Barry Ave          & 144 & Larrabee St \\& Webster Ave            & Subscriber & Male   & 1980\\\\\n",
       "\t 23479353 & 2019-06-30 23:46:05 & 2019-07-01 00:17:16 &  240 & 1871 &  59 & Wabash Ave \\& Roosevelt Rd     &   6 & Dusable Harbor                       & Customer   & Female & 1997\\\\\n",
       "\t 23479354 & 2019-06-30 23:46:16 & 2019-07-01 00:17:16 & 5166 & 1860 &  59 & Wabash Ave \\& Roosevelt Rd     &   6 & Dusable Harbor                       & Customer   & Female & 1997\\\\\n",
       "\t 23479355 & 2019-06-30 23:46:19 & 2019-06-30 23:55:05 & 2092 &  526 & 299 & Halsted St \\& Roscoe St        & 254 & Pine Grove Ave \\& Irving Park Rd      & Subscriber & Male   & 1981\\\\\n",
       "\t 23479357 & 2019-06-30 23:47:26 & 2019-07-01 00:17:15 & 1132 & 1789 &  59 & Wabash Ave \\& Roosevelt Rd     &   6 & Dusable Harbor                       & Customer   & Female & 1998\\\\\n",
       "\t 23479358 & 2019-06-30 23:48:34 & 2019-07-01 00:01:29 & 3131 &  775 &  29 & Noble St \\& Milwaukee Ave      & 123 & California Ave \\& Milwaukee Ave       & Subscriber & Male   & 1987\\\\\n",
       "\t 23479360 & 2019-06-30 23:49:18 & 2019-06-30 23:55:18 & 3597 &  360 & 212 & Wells St \\& Hubbard St         &  98 & LaSalle St \\& Washington St           & Customer   & Male   & 1989\\\\\n",
       "\t 23479361 & 2019-06-30 23:49:29 & 2019-07-01 00:00:57 & 2099 &  688 & 310 & Damen Ave \\& Charleston St     & 210 & Ashland Ave \\& Division St            & Subscriber & Male   & 1978\\\\\n",
       "\t 23479362 & 2019-06-30 23:49:46 & 2019-07-01 00:31:52 & 6399 & 2526 & 392 & Perry Ave \\& 69th St           & 392 & Perry Ave \\& 69th St                  & Subscriber & Male   & 1957\\\\\n",
       "\t 23479364 & 2019-06-30 23:49:59 & 2019-07-01 00:04:58 & 1923 &  899 & 228 & Damen Ave \\& Melrose Ave       & 223 & Clifton Ave \\& Armitage Ave           & Subscriber & Male   & 1989\\\\\n",
       "\t 23479365 & 2019-06-30 23:49:59 & 2019-06-30 23:55:47 & 2962 &  348 &  50 & Clark St \\& Ida B Wells Dr     & 321 & Wabash Ave \\& 9th St                  & Subscriber & Female & 1986\\\\\n",
       "\t 23479366 & 2019-06-30 23:50:02 & 2019-07-01 00:06:32 & 3410 &  990 & 260 & Kedzie Ave \\& Milwaukee Ave    & 128 & Damen Ave \\& Chicago Ave              & Subscriber & Male   & 1996\\\\\n",
       "\t 23479368 & 2019-06-30 23:51:02 & 2019-07-01 00:02:46 &  143 &  704 &  36 & Franklin St \\& Jackson Blvd    & 199 & Wabash Ave \\& Grand Ave               & Subscriber & Male   & 1992\\\\\n",
       "\t 23479371 & 2019-06-30 23:52:34 & 2019-07-01 00:05:48 & 5156 &  794 & 114 & Sheffield Ave \\& Waveland Ave  & 324 & Stockton Dr \\& Wrightwood Ave         & Subscriber & Female & 1990\\\\\n",
       "\t 23479373 & 2019-06-30 23:53:59 & 2019-07-01 00:53:58 &  648 & 3599 & 268 & Lake Shore Dr \\& North Blvd    & 220 & Clark St \\& Drummond Pl               & Subscriber & Male   & 1987\\\\\n",
       "\t 23479374 & 2019-06-30 23:54:04 & 2019-07-01 00:54:05 & 4883 & 3601 & 268 & Lake Shore Dr \\& North Blvd    & 220 & Clark St \\& Drummond Pl               & Subscriber & Female & 1986\\\\\n",
       "\t 23479376 & 2019-06-30 23:54:19 & 2019-07-01 00:04:45 & 1577 &  626 & 227 & Southport Ave \\& Waveland Ave  & 632 & Clark St \\& Newport St                & Customer   & NA     &   NA\\\\\n",
       "\t 23479377 & 2019-06-30 23:55:24 & 2019-07-01 00:04:58 & 1759 &  574 &  81 & Daley Center Plaza            &  56 & Desplaines St \\& Kinzie St            & Subscriber & Male   & 1975\\\\\n",
       "\t 23479378 & 2019-06-30 23:55:58 & 2019-07-01 00:13:59 &  429 & 1081 & 283 & LaSalle St \\& Jackson Blvd     & 273 & Michigan Ave \\& 18th St               & Subscriber & Male   & 1984\\\\\n",
       "\t 23479379 & 2019-06-30 23:56:00 & 2019-06-30 23:58:49 & 4889 &  169 & 225 & Halsted St \\& Dickens Ave      & 224 & Halsted St \\& Willow St               & Subscriber & Male   & 1987\\\\\n",
       "\t 23479380 & 2019-06-30 23:57:00 & 2019-07-01 00:04:02 &  993 &  422 & 106 & State St \\& Pearson St         & 620 & Orleans St \\& Chestnut St (NEXT Apts) & Subscriber & Male   & 1964\\\\\n",
       "\t 23479381 & 2019-06-30 23:57:54 & 2019-07-01 00:10:47 & 1044 &  773 & 215 & Damen Ave \\& Madison St        &  69 & Damen Ave \\& Pierce Ave               & Subscriber & Male   & 1962\\\\\n",
       "\t 23479382 & 2019-06-30 23:57:55 & 2019-07-01 01:20:55 & 4281 & 4980 & 515 & Paulina St \\& Howard St        & 451 & Sheridan Rd \\& Loyola Ave             & Customer   & NA     &   NA\\\\\n",
       "\t 23479383 & 2019-06-30 23:58:00 & 2019-07-01 00:20:22 & 4573 & 1342 & 206 & Halsted St \\& Archer Ave       & 206 & Halsted St \\& Archer Ave              & Customer   & NA     &   NA\\\\\n",
       "\t 23479384 & 2019-06-30 23:58:04 & 2019-07-01 00:14:17 & 6301 &  973 & 199 & Wabash Ave \\& Grand Ave        & 338 & Calumet Ave \\& 18th St                & Subscriber & Male   & 1980\\\\\n",
       "\t 23479385 & 2019-06-30 23:58:20 & 2019-07-01 00:25:51 & 4472 & 1651 & 319 & Greenview Ave \\& Diversey Pkwy & 337 & Clark St \\& Chicago Ave               & Subscriber & Female & 1991\\\\\n",
       "\t 23479386 & 2019-06-30 23:58:52 & 2019-07-01 00:11:24 & 5021 &  752 & 226 & Racine Ave \\& Belmont Ave      & 300 & Broadway \\& Barry Ave                 & Subscriber & Male   & 1992\\\\\n",
       "\t 23479387 & 2019-06-30 23:59:05 & 2019-07-01 00:26:14 & 4749 & 1629 &  85 & Michigan Ave \\& Oak St         & 249 & Montrose Harbor                      & Subscriber & Male   & 1987\\\\\n",
       "\\end{tabular}\n"
      ],
      "text/markdown": [
       "\n",
       "A spec_tbl_df: 1108163 × 12\n",
       "\n",
       "| ride_id &lt;dbl&gt; | started_at &lt;dttm&gt; | ended_at &lt;dttm&gt; | rideable_type &lt;dbl&gt; | 01 - Rental Details Duration In Seconds Uncapped &lt;dbl&gt; | start_station_id &lt;dbl&gt; | start_station_name &lt;chr&gt; | end_station_id &lt;dbl&gt; | end_station_name &lt;chr&gt; | member_casual &lt;chr&gt; | Member Gender &lt;chr&gt; | 05 - Member Details Member Birthday Year &lt;dbl&gt; |\n",
       "|---|---|---|---|---|---|---|---|---|---|---|---|\n",
       "| 22178529 | 2019-04-01 00:02:22 | 2019-04-01 00:09:48 | 6251 |  446 |  81 | Daley Center Plaza              |  56 | Desplaines St &amp; Kinzie St            | Subscriber | Male   | 1975 |\n",
       "| 22178530 | 2019-04-01 00:03:02 | 2019-04-01 00:20:30 | 6226 | 1048 | 317 | Wood St &amp; Taylor St             |  59 | Wabash Ave &amp; Roosevelt Rd            | Subscriber | Female | 1984 |\n",
       "| 22178531 | 2019-04-01 00:11:07 | 2019-04-01 00:15:19 | 5649 |  252 | 283 | LaSalle St &amp; Jackson Blvd       | 174 | Canal St &amp; Madison St                | Subscriber | Male   | 1990 |\n",
       "| 22178532 | 2019-04-01 00:13:01 | 2019-04-01 00:18:58 | 4151 |  357 |  26 | McClurg Ct &amp; Illinois St        | 133 | Kingsbury St &amp; Kinzie St             | Subscriber | Male   | 1993 |\n",
       "| 22178533 | 2019-04-01 00:19:26 | 2019-04-01 00:36:13 | 3270 | 1007 | 202 | Halsted St &amp; 18th St            | 129 | Blue Island Ave &amp; 18th St            | Subscriber | Male   | 1992 |\n",
       "| 22178534 | 2019-04-01 00:19:39 | 2019-04-01 00:23:56 | 3123 |  257 | 420 | Ellis Ave &amp; 55th St             | 426 | Ellis Ave &amp; 60th St                  | Subscriber | Male   | 1999 |\n",
       "| 22178535 | 2019-04-01 00:26:33 | 2019-04-01 00:35:41 | 6418 |  548 | 503 | Drake Ave &amp; Fullerton Ave       | 500 | Central Park Ave &amp; Elbridge Ave      | Subscriber | Male   | 1969 |\n",
       "| 22178536 | 2019-04-01 00:29:48 | 2019-04-01 00:36:11 | 4513 |  383 | 260 | Kedzie Ave &amp; Milwaukee Ave      | 499 | Kosciuszko Park                      | Subscriber | Male   | 1991 |\n",
       "| 22178537 | 2019-04-01 00:32:07 | 2019-04-01 01:07:44 | 3280 | 2137 | 211 | St. Clair St &amp; Erie St          | 211 | St. Clair St &amp; Erie St               | Customer   | NA     |   NA |\n",
       "| 22178538 | 2019-04-01 00:32:19 | 2019-04-01 01:07:39 | 5534 | 2120 | 211 | St. Clair St &amp; Erie St          | 211 | St. Clair St &amp; Erie St               | Customer   | NA     |   NA |\n",
       "| 22178539 | 2019-04-01 00:36:20 | 2019-04-01 00:41:17 | 4666 |  297 | 304 | Broadway &amp; Waveland Ave         | 232 | Pine Grove Ave &amp; Waveland Ave        | Subscriber | Male   | 1975 |\n",
       "| 22178540 | 2019-04-01 00:58:38 | 2019-04-01 01:04:43 | 3735 |  365 |  37 | Dearborn St &amp; Adams St          | 337 | Clark St &amp; Chicago Ave               | Subscriber | Male   | 1991 |\n",
       "| 22178541 | 2019-04-01 01:09:41 | 2019-04-01 01:12:26 | 6108 |  165 |  75 | Canal St &amp; Jackson Blvd         |  36 | Franklin St &amp; Jackson Blvd           | Subscriber | Male   | 1990 |\n",
       "| 22178542 | 2019-04-01 01:13:15 | 2019-04-01 01:20:38 | 6157 |  443 | 334 | Lake Shore Dr &amp; Belmont Ave     | 256 | Broadway &amp; Sheridan Rd               | Subscriber | Male   | 1989 |\n",
       "| 22178543 | 2019-04-01 01:18:09 | 2019-04-01 01:23:02 | 4384 |  293 |  39 | Wabash Ave &amp; Adams St           | 255 | Indiana Ave &amp; Roosevelt Rd           | Subscriber | Male   | 1969 |\n",
       "| 22178544 | 2019-04-01 01:28:21 | 2019-04-01 01:31:45 | 4022 |  204 | 287 | Franklin St &amp; Monroe St         |  89 | Financial Pl &amp; Ida B Wells Dr (Temp) | Subscriber | Male   | 1994 |\n",
       "| 22178545 | 2019-04-01 01:31:35 | 2019-04-01 01:35:28 | 2748 |  233 | 148 | State St &amp; 33rd St              | 272 | Indiana Ave &amp; 31st St                | Subscriber | Female | 1989 |\n",
       "| 22178546 | 2019-04-01 01:53:56 | 2019-04-01 02:03:02 | 5351 |  546 |  59 | Wabash Ave &amp; Roosevelt Rd       |  36 | Franklin St &amp; Jackson Blvd           | Subscriber | Male   | 1958 |\n",
       "| 22178547 | 2019-04-01 02:10:56 | 2019-04-01 02:31:45 | 1406 | 1249 | 240 | Sheridan Rd &amp; Irving Park Rd    | 325 | Clark St &amp; Winnemac Ave              | Customer   | NA     |   NA |\n",
       "| 22178548 | 2019-04-01 02:12:53 | 2019-04-01 02:16:56 | 3325 |  243 | 430 | MLK Jr Dr &amp; 63rd St             | 427 | Cottage Grove Ave &amp; 63rd St          | Subscriber | Male   | 1985 |\n",
       "| 22178549 | 2019-04-01 02:27:02 | 2019-04-01 02:30:10 |   93 |  188 | 257 | Lincoln Ave &amp; Waveland Ave      | 230 | Lincoln Ave &amp; Roscoe St              | Subscriber | Male   | 1981 |\n",
       "| 22178550 | 2019-04-01 02:37:48 | 2019-04-01 02:41:35 | 3325 |  227 | 427 | Cottage Grove Ave &amp; 63rd St     | 430 | MLK Jr Dr &amp; 63rd St                  | Subscriber | Male   | 1985 |\n",
       "| 22178551 | 2019-04-01 02:42:51 | 2019-04-01 02:48:26 | 3193 |  335 | 172 | Rush St &amp; Cedar St              | 635 | Fairbanks St &amp; Superior St (*)       | Subscriber | Male   | 1992 |\n",
       "| 22178552 | 2019-04-01 02:58:12 | 2019-04-01 03:09:14 | 1167 |  662 | 304 | Broadway &amp; Waveland Ave         | 246 | Ashland Ave &amp; Belle Plaine Ave       | Subscriber | Female | 1959 |\n",
       "| 22178554 | 2019-04-01 02:59:22 | 2019-04-01 03:09:14 | 6418 |  592 | 500 | Central Park Ave &amp; Elbridge Ave | 503 | Drake Ave &amp; Fullerton Ave            | Subscriber | Male   | 1969 |\n",
       "| 22178555 | 2019-04-01 03:01:13 | 2019-04-01 03:04:39 | 1627 |  206 |  90 | Millennium Park                 |  44 | State St &amp; Randolph St               | Subscriber | Female | 1992 |\n",
       "| 22178556 | 2019-04-01 03:15:06 | 2019-04-01 03:20:10 | 6065 |  304 | 299 | Halsted St &amp; Roscoe St          | 334 | Lake Shore Dr &amp; Belmont Ave          | Subscriber | Male   | 1989 |\n",
       "| 22178557 | 2019-04-01 03:46:31 | 2019-04-01 03:51:23 | 5578 |  292 |  15 | Racine Ave &amp; 18th St            | 205 | Paulina St &amp; 18th St                 | Subscriber | Male   | 1981 |\n",
       "| 22178558 | 2019-04-01 03:46:46 | 2019-04-01 04:17:05 | 1065 | 1819 |  19 | Loomis St &amp; Taylor St (*)       |  31 | Franklin St &amp; Chicago Ave            | Subscriber | Male   | 1997 |\n",
       "| 22178559 | 2019-04-01 04:01:10 | 2019-04-01 04:12:50 |  268 |  700 | 260 | Kedzie Ave &amp; Milwaukee Ave      | 485 | Sawyer Ave &amp; Irving Park Rd          | Customer   | Male   | 1975 |\n",
       "| ⋮ | ⋮ | ⋮ | ⋮ | ⋮ | ⋮ | ⋮ | ⋮ | ⋮ | ⋮ | ⋮ | ⋮ |\n",
       "| 23479349 | 2019-06-30 23:44:37 | 2019-07-01 00:10:31 |  957 | 1554 |   2 | Buckingham Fountain (Temp)    |  52 | Michigan Ave &amp; Lake St               | Customer   | NA     |   NA |\n",
       "| 23479350 | 2019-06-30 23:45:02 | 2019-07-01 00:10:11 | 5142 | 1509 |   2 | Buckingham Fountain (Temp)    |  52 | Michigan Ave &amp; Lake St               | Customer   | NA     |   NA |\n",
       "| 23479351 | 2019-06-30 23:45:10 | 2019-06-30 23:54:15 | 5047 |  545 | 300 | Broadway &amp; Barry Ave          | 144 | Larrabee St &amp; Webster Ave            | Subscriber | Male   | 1980 |\n",
       "| 23479353 | 2019-06-30 23:46:05 | 2019-07-01 00:17:16 |  240 | 1871 |  59 | Wabash Ave &amp; Roosevelt Rd     |   6 | Dusable Harbor                       | Customer   | Female | 1997 |\n",
       "| 23479354 | 2019-06-30 23:46:16 | 2019-07-01 00:17:16 | 5166 | 1860 |  59 | Wabash Ave &amp; Roosevelt Rd     |   6 | Dusable Harbor                       | Customer   | Female | 1997 |\n",
       "| 23479355 | 2019-06-30 23:46:19 | 2019-06-30 23:55:05 | 2092 |  526 | 299 | Halsted St &amp; Roscoe St        | 254 | Pine Grove Ave &amp; Irving Park Rd      | Subscriber | Male   | 1981 |\n",
       "| 23479357 | 2019-06-30 23:47:26 | 2019-07-01 00:17:15 | 1132 | 1789 |  59 | Wabash Ave &amp; Roosevelt Rd     |   6 | Dusable Harbor                       | Customer   | Female | 1998 |\n",
       "| 23479358 | 2019-06-30 23:48:34 | 2019-07-01 00:01:29 | 3131 |  775 |  29 | Noble St &amp; Milwaukee Ave      | 123 | California Ave &amp; Milwaukee Ave       | Subscriber | Male   | 1987 |\n",
       "| 23479360 | 2019-06-30 23:49:18 | 2019-06-30 23:55:18 | 3597 |  360 | 212 | Wells St &amp; Hubbard St         |  98 | LaSalle St &amp; Washington St           | Customer   | Male   | 1989 |\n",
       "| 23479361 | 2019-06-30 23:49:29 | 2019-07-01 00:00:57 | 2099 |  688 | 310 | Damen Ave &amp; Charleston St     | 210 | Ashland Ave &amp; Division St            | Subscriber | Male   | 1978 |\n",
       "| 23479362 | 2019-06-30 23:49:46 | 2019-07-01 00:31:52 | 6399 | 2526 | 392 | Perry Ave &amp; 69th St           | 392 | Perry Ave &amp; 69th St                  | Subscriber | Male   | 1957 |\n",
       "| 23479364 | 2019-06-30 23:49:59 | 2019-07-01 00:04:58 | 1923 |  899 | 228 | Damen Ave &amp; Melrose Ave       | 223 | Clifton Ave &amp; Armitage Ave           | Subscriber | Male   | 1989 |\n",
       "| 23479365 | 2019-06-30 23:49:59 | 2019-06-30 23:55:47 | 2962 |  348 |  50 | Clark St &amp; Ida B Wells Dr     | 321 | Wabash Ave &amp; 9th St                  | Subscriber | Female | 1986 |\n",
       "| 23479366 | 2019-06-30 23:50:02 | 2019-07-01 00:06:32 | 3410 |  990 | 260 | Kedzie Ave &amp; Milwaukee Ave    | 128 | Damen Ave &amp; Chicago Ave              | Subscriber | Male   | 1996 |\n",
       "| 23479368 | 2019-06-30 23:51:02 | 2019-07-01 00:02:46 |  143 |  704 |  36 | Franklin St &amp; Jackson Blvd    | 199 | Wabash Ave &amp; Grand Ave               | Subscriber | Male   | 1992 |\n",
       "| 23479371 | 2019-06-30 23:52:34 | 2019-07-01 00:05:48 | 5156 |  794 | 114 | Sheffield Ave &amp; Waveland Ave  | 324 | Stockton Dr &amp; Wrightwood Ave         | Subscriber | Female | 1990 |\n",
       "| 23479373 | 2019-06-30 23:53:59 | 2019-07-01 00:53:58 |  648 | 3599 | 268 | Lake Shore Dr &amp; North Blvd    | 220 | Clark St &amp; Drummond Pl               | Subscriber | Male   | 1987 |\n",
       "| 23479374 | 2019-06-30 23:54:04 | 2019-07-01 00:54:05 | 4883 | 3601 | 268 | Lake Shore Dr &amp; North Blvd    | 220 | Clark St &amp; Drummond Pl               | Subscriber | Female | 1986 |\n",
       "| 23479376 | 2019-06-30 23:54:19 | 2019-07-01 00:04:45 | 1577 |  626 | 227 | Southport Ave &amp; Waveland Ave  | 632 | Clark St &amp; Newport St                | Customer   | NA     |   NA |\n",
       "| 23479377 | 2019-06-30 23:55:24 | 2019-07-01 00:04:58 | 1759 |  574 |  81 | Daley Center Plaza            |  56 | Desplaines St &amp; Kinzie St            | Subscriber | Male   | 1975 |\n",
       "| 23479378 | 2019-06-30 23:55:58 | 2019-07-01 00:13:59 |  429 | 1081 | 283 | LaSalle St &amp; Jackson Blvd     | 273 | Michigan Ave &amp; 18th St               | Subscriber | Male   | 1984 |\n",
       "| 23479379 | 2019-06-30 23:56:00 | 2019-06-30 23:58:49 | 4889 |  169 | 225 | Halsted St &amp; Dickens Ave      | 224 | Halsted St &amp; Willow St               | Subscriber | Male   | 1987 |\n",
       "| 23479380 | 2019-06-30 23:57:00 | 2019-07-01 00:04:02 |  993 |  422 | 106 | State St &amp; Pearson St         | 620 | Orleans St &amp; Chestnut St (NEXT Apts) | Subscriber | Male   | 1964 |\n",
       "| 23479381 | 2019-06-30 23:57:54 | 2019-07-01 00:10:47 | 1044 |  773 | 215 | Damen Ave &amp; Madison St        |  69 | Damen Ave &amp; Pierce Ave               | Subscriber | Male   | 1962 |\n",
       "| 23479382 | 2019-06-30 23:57:55 | 2019-07-01 01:20:55 | 4281 | 4980 | 515 | Paulina St &amp; Howard St        | 451 | Sheridan Rd &amp; Loyola Ave             | Customer   | NA     |   NA |\n",
       "| 23479383 | 2019-06-30 23:58:00 | 2019-07-01 00:20:22 | 4573 | 1342 | 206 | Halsted St &amp; Archer Ave       | 206 | Halsted St &amp; Archer Ave              | Customer   | NA     |   NA |\n",
       "| 23479384 | 2019-06-30 23:58:04 | 2019-07-01 00:14:17 | 6301 |  973 | 199 | Wabash Ave &amp; Grand Ave        | 338 | Calumet Ave &amp; 18th St                | Subscriber | Male   | 1980 |\n",
       "| 23479385 | 2019-06-30 23:58:20 | 2019-07-01 00:25:51 | 4472 | 1651 | 319 | Greenview Ave &amp; Diversey Pkwy | 337 | Clark St &amp; Chicago Ave               | Subscriber | Female | 1991 |\n",
       "| 23479386 | 2019-06-30 23:58:52 | 2019-07-01 00:11:24 | 5021 |  752 | 226 | Racine Ave &amp; Belmont Ave      | 300 | Broadway &amp; Barry Ave                 | Subscriber | Male   | 1992 |\n",
       "| 23479387 | 2019-06-30 23:59:05 | 2019-07-01 00:26:14 | 4749 | 1629 |  85 | Michigan Ave &amp; Oak St         | 249 | Montrose Harbor                      | Subscriber | Male   | 1987 |\n",
       "\n"
      ],
      "text/plain": [
       "        ride_id  started_at          ended_at            rideable_type\n",
       "1       22178529 2019-04-01 00:02:22 2019-04-01 00:09:48 6251         \n",
       "2       22178530 2019-04-01 00:03:02 2019-04-01 00:20:30 6226         \n",
       "3       22178531 2019-04-01 00:11:07 2019-04-01 00:15:19 5649         \n",
       "4       22178532 2019-04-01 00:13:01 2019-04-01 00:18:58 4151         \n",
       "5       22178533 2019-04-01 00:19:26 2019-04-01 00:36:13 3270         \n",
       "6       22178534 2019-04-01 00:19:39 2019-04-01 00:23:56 3123         \n",
       "7       22178535 2019-04-01 00:26:33 2019-04-01 00:35:41 6418         \n",
       "8       22178536 2019-04-01 00:29:48 2019-04-01 00:36:11 4513         \n",
       "9       22178537 2019-04-01 00:32:07 2019-04-01 01:07:44 3280         \n",
       "10      22178538 2019-04-01 00:32:19 2019-04-01 01:07:39 5534         \n",
       "11      22178539 2019-04-01 00:36:20 2019-04-01 00:41:17 4666         \n",
       "12      22178540 2019-04-01 00:58:38 2019-04-01 01:04:43 3735         \n",
       "13      22178541 2019-04-01 01:09:41 2019-04-01 01:12:26 6108         \n",
       "14      22178542 2019-04-01 01:13:15 2019-04-01 01:20:38 6157         \n",
       "15      22178543 2019-04-01 01:18:09 2019-04-01 01:23:02 4384         \n",
       "16      22178544 2019-04-01 01:28:21 2019-04-01 01:31:45 4022         \n",
       "17      22178545 2019-04-01 01:31:35 2019-04-01 01:35:28 2748         \n",
       "18      22178546 2019-04-01 01:53:56 2019-04-01 02:03:02 5351         \n",
       "19      22178547 2019-04-01 02:10:56 2019-04-01 02:31:45 1406         \n",
       "20      22178548 2019-04-01 02:12:53 2019-04-01 02:16:56 3325         \n",
       "21      22178549 2019-04-01 02:27:02 2019-04-01 02:30:10   93         \n",
       "22      22178550 2019-04-01 02:37:48 2019-04-01 02:41:35 3325         \n",
       "23      22178551 2019-04-01 02:42:51 2019-04-01 02:48:26 3193         \n",
       "24      22178552 2019-04-01 02:58:12 2019-04-01 03:09:14 1167         \n",
       "25      22178554 2019-04-01 02:59:22 2019-04-01 03:09:14 6418         \n",
       "26      22178555 2019-04-01 03:01:13 2019-04-01 03:04:39 1627         \n",
       "27      22178556 2019-04-01 03:15:06 2019-04-01 03:20:10 6065         \n",
       "28      22178557 2019-04-01 03:46:31 2019-04-01 03:51:23 5578         \n",
       "29      22178558 2019-04-01 03:46:46 2019-04-01 04:17:05 1065         \n",
       "30      22178559 2019-04-01 04:01:10 2019-04-01 04:12:50  268         \n",
       "⋮       ⋮        ⋮                   ⋮                   ⋮            \n",
       "1108134 23479349 2019-06-30 23:44:37 2019-07-01 00:10:31  957         \n",
       "1108135 23479350 2019-06-30 23:45:02 2019-07-01 00:10:11 5142         \n",
       "1108136 23479351 2019-06-30 23:45:10 2019-06-30 23:54:15 5047         \n",
       "1108137 23479353 2019-06-30 23:46:05 2019-07-01 00:17:16  240         \n",
       "1108138 23479354 2019-06-30 23:46:16 2019-07-01 00:17:16 5166         \n",
       "1108139 23479355 2019-06-30 23:46:19 2019-06-30 23:55:05 2092         \n",
       "1108140 23479357 2019-06-30 23:47:26 2019-07-01 00:17:15 1132         \n",
       "1108141 23479358 2019-06-30 23:48:34 2019-07-01 00:01:29 3131         \n",
       "1108142 23479360 2019-06-30 23:49:18 2019-06-30 23:55:18 3597         \n",
       "1108143 23479361 2019-06-30 23:49:29 2019-07-01 00:00:57 2099         \n",
       "1108144 23479362 2019-06-30 23:49:46 2019-07-01 00:31:52 6399         \n",
       "1108145 23479364 2019-06-30 23:49:59 2019-07-01 00:04:58 1923         \n",
       "1108146 23479365 2019-06-30 23:49:59 2019-06-30 23:55:47 2962         \n",
       "1108147 23479366 2019-06-30 23:50:02 2019-07-01 00:06:32 3410         \n",
       "1108148 23479368 2019-06-30 23:51:02 2019-07-01 00:02:46  143         \n",
       "1108149 23479371 2019-06-30 23:52:34 2019-07-01 00:05:48 5156         \n",
       "1108150 23479373 2019-06-30 23:53:59 2019-07-01 00:53:58  648         \n",
       "1108151 23479374 2019-06-30 23:54:04 2019-07-01 00:54:05 4883         \n",
       "1108152 23479376 2019-06-30 23:54:19 2019-07-01 00:04:45 1577         \n",
       "1108153 23479377 2019-06-30 23:55:24 2019-07-01 00:04:58 1759         \n",
       "1108154 23479378 2019-06-30 23:55:58 2019-07-01 00:13:59  429         \n",
       "1108155 23479379 2019-06-30 23:56:00 2019-06-30 23:58:49 4889         \n",
       "1108156 23479380 2019-06-30 23:57:00 2019-07-01 00:04:02  993         \n",
       "1108157 23479381 2019-06-30 23:57:54 2019-07-01 00:10:47 1044         \n",
       "1108158 23479382 2019-06-30 23:57:55 2019-07-01 01:20:55 4281         \n",
       "1108159 23479383 2019-06-30 23:58:00 2019-07-01 00:20:22 4573         \n",
       "1108160 23479384 2019-06-30 23:58:04 2019-07-01 00:14:17 6301         \n",
       "1108161 23479385 2019-06-30 23:58:20 2019-07-01 00:25:51 4472         \n",
       "1108162 23479386 2019-06-30 23:58:52 2019-07-01 00:11:24 5021         \n",
       "1108163 23479387 2019-06-30 23:59:05 2019-07-01 00:26:14 4749         \n",
       "        01 - Rental Details Duration In Seconds Uncapped start_station_id\n",
       "1        446                                              81             \n",
       "2       1048                                             317             \n",
       "3        252                                             283             \n",
       "4        357                                              26             \n",
       "5       1007                                             202             \n",
       "6        257                                             420             \n",
       "7        548                                             503             \n",
       "8        383                                             260             \n",
       "9       2137                                             211             \n",
       "10      2120                                             211             \n",
       "11       297                                             304             \n",
       "12       365                                              37             \n",
       "13       165                                              75             \n",
       "14       443                                             334             \n",
       "15       293                                              39             \n",
       "16       204                                             287             \n",
       "17       233                                             148             \n",
       "18       546                                              59             \n",
       "19      1249                                             240             \n",
       "20       243                                             430             \n",
       "21       188                                             257             \n",
       "22       227                                             427             \n",
       "23       335                                             172             \n",
       "24       662                                             304             \n",
       "25       592                                             500             \n",
       "26       206                                              90             \n",
       "27       304                                             299             \n",
       "28       292                                              15             \n",
       "29      1819                                              19             \n",
       "30       700                                             260             \n",
       "⋮       ⋮                                                ⋮               \n",
       "1108134 1554                                               2             \n",
       "1108135 1509                                               2             \n",
       "1108136  545                                             300             \n",
       "1108137 1871                                              59             \n",
       "1108138 1860                                              59             \n",
       "1108139  526                                             299             \n",
       "1108140 1789                                              59             \n",
       "1108141  775                                              29             \n",
       "1108142  360                                             212             \n",
       "1108143  688                                             310             \n",
       "1108144 2526                                             392             \n",
       "1108145  899                                             228             \n",
       "1108146  348                                              50             \n",
       "1108147  990                                             260             \n",
       "1108148  704                                              36             \n",
       "1108149  794                                             114             \n",
       "1108150 3599                                             268             \n",
       "1108151 3601                                             268             \n",
       "1108152  626                                             227             \n",
       "1108153  574                                              81             \n",
       "1108154 1081                                             283             \n",
       "1108155  169                                             225             \n",
       "1108156  422                                             106             \n",
       "1108157  773                                             215             \n",
       "1108158 4980                                             515             \n",
       "1108159 1342                                             206             \n",
       "1108160  973                                             199             \n",
       "1108161 1651                                             319             \n",
       "1108162  752                                             226             \n",
       "1108163 1629                                              85             \n",
       "        start_station_name              end_station_id\n",
       "1       Daley Center Plaza               56           \n",
       "2       Wood St & Taylor St              59           \n",
       "3       LaSalle St & Jackson Blvd       174           \n",
       "4       McClurg Ct & Illinois St        133           \n",
       "5       Halsted St & 18th St            129           \n",
       "6       Ellis Ave & 55th St             426           \n",
       "7       Drake Ave & Fullerton Ave       500           \n",
       "8       Kedzie Ave & Milwaukee Ave      499           \n",
       "9       St. Clair St & Erie St          211           \n",
       "10      St. Clair St & Erie St          211           \n",
       "11      Broadway & Waveland Ave         232           \n",
       "12      Dearborn St & Adams St          337           \n",
       "13      Canal St & Jackson Blvd          36           \n",
       "14      Lake Shore Dr & Belmont Ave     256           \n",
       "15      Wabash Ave & Adams St           255           \n",
       "16      Franklin St & Monroe St          89           \n",
       "17      State St & 33rd St              272           \n",
       "18      Wabash Ave & Roosevelt Rd        36           \n",
       "19      Sheridan Rd & Irving Park Rd    325           \n",
       "20      MLK Jr Dr & 63rd St             427           \n",
       "21      Lincoln Ave & Waveland Ave      230           \n",
       "22      Cottage Grove Ave & 63rd St     430           \n",
       "23      Rush St & Cedar St              635           \n",
       "24      Broadway & Waveland Ave         246           \n",
       "25      Central Park Ave & Elbridge Ave 503           \n",
       "26      Millennium Park                  44           \n",
       "27      Halsted St & Roscoe St          334           \n",
       "28      Racine Ave & 18th St            205           \n",
       "29      Loomis St & Taylor St (*)        31           \n",
       "30      Kedzie Ave & Milwaukee Ave      485           \n",
       "⋮       ⋮                               ⋮             \n",
       "1108134 Buckingham Fountain (Temp)       52           \n",
       "1108135 Buckingham Fountain (Temp)       52           \n",
       "1108136 Broadway & Barry Ave            144           \n",
       "1108137 Wabash Ave & Roosevelt Rd         6           \n",
       "1108138 Wabash Ave & Roosevelt Rd         6           \n",
       "1108139 Halsted St & Roscoe St          254           \n",
       "1108140 Wabash Ave & Roosevelt Rd         6           \n",
       "1108141 Noble St & Milwaukee Ave        123           \n",
       "1108142 Wells St & Hubbard St            98           \n",
       "1108143 Damen Ave & Charleston St       210           \n",
       "1108144 Perry Ave & 69th St             392           \n",
       "1108145 Damen Ave & Melrose Ave         223           \n",
       "1108146 Clark St & Ida B Wells Dr       321           \n",
       "1108147 Kedzie Ave & Milwaukee Ave      128           \n",
       "1108148 Franklin St & Jackson Blvd      199           \n",
       "1108149 Sheffield Ave & Waveland Ave    324           \n",
       "1108150 Lake Shore Dr & North Blvd      220           \n",
       "1108151 Lake Shore Dr & North Blvd      220           \n",
       "1108152 Southport Ave & Waveland Ave    632           \n",
       "1108153 Daley Center Plaza               56           \n",
       "1108154 LaSalle St & Jackson Blvd       273           \n",
       "1108155 Halsted St & Dickens Ave        224           \n",
       "1108156 State St & Pearson St           620           \n",
       "1108157 Damen Ave & Madison St           69           \n",
       "1108158 Paulina St & Howard St          451           \n",
       "1108159 Halsted St & Archer Ave         206           \n",
       "1108160 Wabash Ave & Grand Ave          338           \n",
       "1108161 Greenview Ave & Diversey Pkwy   337           \n",
       "1108162 Racine Ave & Belmont Ave        300           \n",
       "1108163 Michigan Ave & Oak St           249           \n",
       "        end_station_name                     member_casual Member Gender\n",
       "1       Desplaines St & Kinzie St            Subscriber    Male         \n",
       "2       Wabash Ave & Roosevelt Rd            Subscriber    Female       \n",
       "3       Canal St & Madison St                Subscriber    Male         \n",
       "4       Kingsbury St & Kinzie St             Subscriber    Male         \n",
       "5       Blue Island Ave & 18th St            Subscriber    Male         \n",
       "6       Ellis Ave & 60th St                  Subscriber    Male         \n",
       "7       Central Park Ave & Elbridge Ave      Subscriber    Male         \n",
       "8       Kosciuszko Park                      Subscriber    Male         \n",
       "9       St. Clair St & Erie St               Customer      NA           \n",
       "10      St. Clair St & Erie St               Customer      NA           \n",
       "11      Pine Grove Ave & Waveland Ave        Subscriber    Male         \n",
       "12      Clark St & Chicago Ave               Subscriber    Male         \n",
       "13      Franklin St & Jackson Blvd           Subscriber    Male         \n",
       "14      Broadway & Sheridan Rd               Subscriber    Male         \n",
       "15      Indiana Ave & Roosevelt Rd           Subscriber    Male         \n",
       "16      Financial Pl & Ida B Wells Dr (Temp) Subscriber    Male         \n",
       "17      Indiana Ave & 31st St                Subscriber    Female       \n",
       "18      Franklin St & Jackson Blvd           Subscriber    Male         \n",
       "19      Clark St & Winnemac Ave              Customer      NA           \n",
       "20      Cottage Grove Ave & 63rd St          Subscriber    Male         \n",
       "21      Lincoln Ave & Roscoe St              Subscriber    Male         \n",
       "22      MLK Jr Dr & 63rd St                  Subscriber    Male         \n",
       "23      Fairbanks St & Superior St (*)       Subscriber    Male         \n",
       "24      Ashland Ave & Belle Plaine Ave       Subscriber    Female       \n",
       "25      Drake Ave & Fullerton Ave            Subscriber    Male         \n",
       "26      State St & Randolph St               Subscriber    Female       \n",
       "27      Lake Shore Dr & Belmont Ave          Subscriber    Male         \n",
       "28      Paulina St & 18th St                 Subscriber    Male         \n",
       "29      Franklin St & Chicago Ave            Subscriber    Male         \n",
       "30      Sawyer Ave & Irving Park Rd          Customer      Male         \n",
       "⋮       ⋮                                    ⋮             ⋮            \n",
       "1108134 Michigan Ave & Lake St               Customer      NA           \n",
       "1108135 Michigan Ave & Lake St               Customer      NA           \n",
       "1108136 Larrabee St & Webster Ave            Subscriber    Male         \n",
       "1108137 Dusable Harbor                       Customer      Female       \n",
       "1108138 Dusable Harbor                       Customer      Female       \n",
       "1108139 Pine Grove Ave & Irving Park Rd      Subscriber    Male         \n",
       "1108140 Dusable Harbor                       Customer      Female       \n",
       "1108141 California Ave & Milwaukee Ave       Subscriber    Male         \n",
       "1108142 LaSalle St & Washington St           Customer      Male         \n",
       "1108143 Ashland Ave & Division St            Subscriber    Male         \n",
       "1108144 Perry Ave & 69th St                  Subscriber    Male         \n",
       "1108145 Clifton Ave & Armitage Ave           Subscriber    Male         \n",
       "1108146 Wabash Ave & 9th St                  Subscriber    Female       \n",
       "1108147 Damen Ave & Chicago Ave              Subscriber    Male         \n",
       "1108148 Wabash Ave & Grand Ave               Subscriber    Male         \n",
       "1108149 Stockton Dr & Wrightwood Ave         Subscriber    Female       \n",
       "1108150 Clark St & Drummond Pl               Subscriber    Male         \n",
       "1108151 Clark St & Drummond Pl               Subscriber    Female       \n",
       "1108152 Clark St & Newport St                Customer      NA           \n",
       "1108153 Desplaines St & Kinzie St            Subscriber    Male         \n",
       "1108154 Michigan Ave & 18th St               Subscriber    Male         \n",
       "1108155 Halsted St & Willow St               Subscriber    Male         \n",
       "1108156 Orleans St & Chestnut St (NEXT Apts) Subscriber    Male         \n",
       "1108157 Damen Ave & Pierce Ave               Subscriber    Male         \n",
       "1108158 Sheridan Rd & Loyola Ave             Customer      NA           \n",
       "1108159 Halsted St & Archer Ave              Customer      NA           \n",
       "1108160 Calumet Ave & 18th St                Subscriber    Male         \n",
       "1108161 Clark St & Chicago Ave               Subscriber    Female       \n",
       "1108162 Broadway & Barry Ave                 Subscriber    Male         \n",
       "1108163 Montrose Harbor                      Subscriber    Male         \n",
       "        05 - Member Details Member Birthday Year\n",
       "1       1975                                    \n",
       "2       1984                                    \n",
       "3       1990                                    \n",
       "4       1993                                    \n",
       "5       1992                                    \n",
       "6       1999                                    \n",
       "7       1969                                    \n",
       "8       1991                                    \n",
       "9         NA                                    \n",
       "10        NA                                    \n",
       "11      1975                                    \n",
       "12      1991                                    \n",
       "13      1990                                    \n",
       "14      1989                                    \n",
       "15      1969                                    \n",
       "16      1994                                    \n",
       "17      1989                                    \n",
       "18      1958                                    \n",
       "19        NA                                    \n",
       "20      1985                                    \n",
       "21      1981                                    \n",
       "22      1985                                    \n",
       "23      1992                                    \n",
       "24      1959                                    \n",
       "25      1969                                    \n",
       "26      1992                                    \n",
       "27      1989                                    \n",
       "28      1981                                    \n",
       "29      1997                                    \n",
       "30      1975                                    \n",
       "⋮       ⋮                                       \n",
       "1108134   NA                                    \n",
       "1108135   NA                                    \n",
       "1108136 1980                                    \n",
       "1108137 1997                                    \n",
       "1108138 1997                                    \n",
       "1108139 1981                                    \n",
       "1108140 1998                                    \n",
       "1108141 1987                                    \n",
       "1108142 1989                                    \n",
       "1108143 1978                                    \n",
       "1108144 1957                                    \n",
       "1108145 1989                                    \n",
       "1108146 1986                                    \n",
       "1108147 1996                                    \n",
       "1108148 1992                                    \n",
       "1108149 1990                                    \n",
       "1108150 1987                                    \n",
       "1108151 1986                                    \n",
       "1108152   NA                                    \n",
       "1108153 1975                                    \n",
       "1108154 1984                                    \n",
       "1108155 1987                                    \n",
       "1108156 1964                                    \n",
       "1108157 1962                                    \n",
       "1108158   NA                                    \n",
       "1108159   NA                                    \n",
       "1108160 1980                                    \n",
       "1108161 1991                                    \n",
       "1108162 1992                                    \n",
       "1108163 1987                                    "
      ]
     },
     "metadata": {},
     "output_type": "display_data"
    }
   ],
   "source": [
    "(q4_2019 <- rename(q4_2019\n",
    "                   ,ride_id = trip_id\n",
    "                   ,rideable_type = bikeid \n",
    "                   ,started_at = start_time  \n",
    "                   ,ended_at = end_time  \n",
    "                   ,start_station_name = from_station_name \n",
    "                   ,start_station_id = from_station_id \n",
    "                   ,end_station_name = to_station_name \n",
    "                   ,end_station_id = to_station_id \n",
    "                   ,member_casual = usertype))\n",
    "\n",
    "(q3_2019 <- rename(q3_2019\n",
    "                   ,ride_id = trip_id\n",
    "                   ,rideable_type = bikeid \n",
    "                   ,started_at = start_time  \n",
    "                   ,ended_at = end_time  \n",
    "                   ,start_station_name = from_station_name \n",
    "                   ,start_station_id = from_station_id \n",
    "                   ,end_station_name = to_station_name \n",
    "                   ,end_station_id = to_station_id \n",
    "                   ,member_casual = usertype))\n",
    "\n",
    "(q2_2019 <- rename(q2_2019\n",
    "                   ,ride_id = \"01 - Rental Details Rental ID\"\n",
    "                   ,rideable_type = \"01 - Rental Details Bike ID\" \n",
    "                   ,started_at = \"01 - Rental Details Local Start Time\"  \n",
    "                   ,ended_at = \"01 - Rental Details Local End Time\"  \n",
    "                   ,start_station_name = \"03 - Rental Start Station Name\" \n",
    "                   ,start_station_id = \"03 - Rental Start Station ID\"\n",
    "                   ,end_station_name = \"02 - Rental End Station Name\" \n",
    "                   ,end_station_id = \"02 - Rental End Station ID\"\n",
    "                   ,member_casual = \"User Type\"))"
   ]
  },
  {
   "cell_type": "markdown",
   "id": "8008bf30",
   "metadata": {
    "papermill": {
     "duration": 0.042707,
     "end_time": "2021-06-16T03:07:13.341599",
     "exception": false,
     "start_time": "2021-06-16T03:07:13.298892",
     "status": "completed"
    },
    "tags": []
   },
   "source": [
    "Next, we need to examine the data types of each column to ensure all the data is correctly formted."
   ]
  },
  {
   "cell_type": "code",
   "execution_count": 5,
   "id": "d21da87f",
   "metadata": {
    "_kg_hide-output": true,
    "execution": {
     "iopub.execute_input": "2021-06-16T03:07:13.432008Z",
     "iopub.status.busy": "2021-06-16T03:07:13.430333Z",
     "iopub.status.idle": "2021-06-16T03:07:13.585811Z",
     "shell.execute_reply": "2021-06-16T03:07:13.583889Z"
    },
    "papermill": {
     "duration": 0.20202,
     "end_time": "2021-06-16T03:07:13.585961",
     "exception": false,
     "start_time": "2021-06-16T03:07:13.383941",
     "status": "completed"
    },
    "tags": []
   },
   "outputs": [
    {
     "name": "stdout",
     "output_type": "stream",
     "text": [
      "spec_tbl_df[,13] [426,887 × 13] (S3: spec_tbl_df/tbl_df/tbl/data.frame)\n",
      " $ ride_id           : chr [1:426887] \"EACB19130B0CDA4A\" \"8FED874C809DC021\" \"789F3C21E472CA96\" \"C9A388DAC6ABF313\" ...\n",
      " $ rideable_type     : chr [1:426887] \"docked_bike\" \"docked_bike\" \"docked_bike\" \"docked_bike\" ...\n",
      " $ started_at        : POSIXct[1:426887], format: \"2020-01-21 20:06:59\" \"2020-01-30 14:22:39\" ...\n",
      " $ ended_at          : POSIXct[1:426887], format: \"2020-01-21 20:14:30\" \"2020-01-30 14:26:22\" ...\n",
      " $ start_station_name: chr [1:426887] \"Western Ave & Leland Ave\" \"Clark St & Montrose Ave\" \"Broadway & Belmont Ave\" \"Clark St & Randolph St\" ...\n",
      " $ start_station_id  : num [1:426887] 239 234 296 51 66 212 96 96 212 38 ...\n",
      " $ end_station_name  : chr [1:426887] \"Clark St & Leland Ave\" \"Southport Ave & Irving Park Rd\" \"Wilton Ave & Belmont Ave\" \"Fairbanks Ct & Grand Ave\" ...\n",
      " $ end_station_id    : num [1:426887] 326 318 117 24 212 96 212 212 96 100 ...\n",
      " $ start_lat         : num [1:426887] 42 42 41.9 41.9 41.9 ...\n",
      " $ start_lng         : num [1:426887] -87.7 -87.7 -87.6 -87.6 -87.6 ...\n",
      " $ end_lat           : num [1:426887] 42 42 41.9 41.9 41.9 ...\n",
      " $ end_lng           : num [1:426887] -87.7 -87.7 -87.7 -87.6 -87.6 ...\n",
      " $ member_casual     : chr [1:426887] \"member\" \"member\" \"member\" \"member\" ...\n",
      " - attr(*, \"spec\")=\n",
      "  .. cols(\n",
      "  ..   ride_id = \u001b[31mcol_character()\u001b[39m,\n",
      "  ..   rideable_type = \u001b[31mcol_character()\u001b[39m,\n",
      "  ..   started_at = \u001b[34mcol_datetime(format = \"\")\u001b[39m,\n",
      "  ..   ended_at = \u001b[34mcol_datetime(format = \"\")\u001b[39m,\n",
      "  ..   start_station_name = \u001b[31mcol_character()\u001b[39m,\n",
      "  ..   start_station_id = \u001b[32mcol_double()\u001b[39m,\n",
      "  ..   end_station_name = \u001b[31mcol_character()\u001b[39m,\n",
      "  ..   end_station_id = \u001b[32mcol_double()\u001b[39m,\n",
      "  ..   start_lat = \u001b[32mcol_double()\u001b[39m,\n",
      "  ..   start_lng = \u001b[32mcol_double()\u001b[39m,\n",
      "  ..   end_lat = \u001b[32mcol_double()\u001b[39m,\n",
      "  ..   end_lng = \u001b[32mcol_double()\u001b[39m,\n",
      "  ..   member_casual = \u001b[31mcol_character()\u001b[39m\n",
      "  .. )\n",
      "spec_tbl_df[,12] [704,054 × 12] (S3: spec_tbl_df/tbl_df/tbl/data.frame)\n",
      " $ ride_id           : num [1:704054] 25223640 25223641 25223642 25223643 25223644 ...\n",
      " $ started_at        : POSIXct[1:704054], format: \"2019-10-01 00:01:39\" \"2019-10-01 00:02:16\" ...\n",
      " $ ended_at          : POSIXct[1:704054], format: \"2019-10-01 00:17:20\" \"2019-10-01 00:06:34\" ...\n",
      " $ rideable_type     : num [1:704054] 2215 6328 3003 3275 5294 ...\n",
      " $ tripduration      : num [1:704054] 940 258 850 2350 1867 ...\n",
      " $ start_station_id  : num [1:704054] 20 19 84 313 210 156 84 156 156 336 ...\n",
      " $ start_station_name: chr [1:704054] \"Sheffield Ave & Kingsbury St\" \"Throop (Loomis) St & Taylor St\" \"Milwaukee Ave & Grand Ave\" \"Lakeview Ave & Fullerton Pkwy\" ...\n",
      " $ end_station_id    : num [1:704054] 309 241 199 290 382 226 142 463 463 336 ...\n",
      " $ end_station_name  : chr [1:704054] \"Leavitt St & Armitage Ave\" \"Morgan St & Polk St\" \"Wabash Ave & Grand Ave\" \"Kedzie Ave & Palmer Ct\" ...\n",
      " $ member_casual     : chr [1:704054] \"Subscriber\" \"Subscriber\" \"Subscriber\" \"Subscriber\" ...\n",
      " $ gender            : chr [1:704054] \"Male\" \"Male\" \"Female\" \"Male\" ...\n",
      " $ birthyear         : num [1:704054] 1987 1998 1991 1990 1987 ...\n",
      " - attr(*, \"spec\")=\n",
      "  .. cols(\n",
      "  ..   trip_id = \u001b[32mcol_double()\u001b[39m,\n",
      "  ..   start_time = \u001b[34mcol_datetime(format = \"\")\u001b[39m,\n",
      "  ..   end_time = \u001b[34mcol_datetime(format = \"\")\u001b[39m,\n",
      "  ..   bikeid = \u001b[32mcol_double()\u001b[39m,\n",
      "  ..   tripduration = \u001b[32mcol_number()\u001b[39m,\n",
      "  ..   from_station_id = \u001b[32mcol_double()\u001b[39m,\n",
      "  ..   from_station_name = \u001b[31mcol_character()\u001b[39m,\n",
      "  ..   to_station_id = \u001b[32mcol_double()\u001b[39m,\n",
      "  ..   to_station_name = \u001b[31mcol_character()\u001b[39m,\n",
      "  ..   usertype = \u001b[31mcol_character()\u001b[39m,\n",
      "  ..   gender = \u001b[31mcol_character()\u001b[39m,\n",
      "  ..   birthyear = \u001b[32mcol_double()\u001b[39m\n",
      "  .. )\n",
      "spec_tbl_df[,12] [1,640,718 × 12] (S3: spec_tbl_df/tbl_df/tbl/data.frame)\n",
      " $ ride_id           : num [1:1640718] 23479388 23479389 23479390 23479391 23479392 ...\n",
      " $ started_at        : POSIXct[1:1640718], format: \"2019-07-01 00:00:27\" \"2019-07-01 00:01:16\" ...\n",
      " $ ended_at          : POSIXct[1:1640718], format: \"2019-07-01 00:20:41\" \"2019-07-01 00:18:44\" ...\n",
      " $ rideable_type     : num [1:1640718] 3591 5353 6180 5540 6014 ...\n",
      " $ tripduration      : num [1:1640718] 1214 1048 1554 1503 1213 ...\n",
      " $ start_station_id  : num [1:1640718] 117 381 313 313 168 300 168 313 43 43 ...\n",
      " $ start_station_name: chr [1:1640718] \"Wilton Ave & Belmont Ave\" \"Western Ave & Monroe St\" \"Lakeview Ave & Fullerton Pkwy\" \"Lakeview Ave & Fullerton Pkwy\" ...\n",
      " $ end_station_id    : num [1:1640718] 497 203 144 144 62 232 62 144 195 195 ...\n",
      " $ end_station_name  : chr [1:1640718] \"Kimball Ave & Belmont Ave\" \"Western Ave & 21st St\" \"Larrabee St & Webster Ave\" \"Larrabee St & Webster Ave\" ...\n",
      " $ member_casual     : chr [1:1640718] \"Subscriber\" \"Customer\" \"Customer\" \"Customer\" ...\n",
      " $ gender            : chr [1:1640718] \"Male\" NA NA NA ...\n",
      " $ birthyear         : num [1:1640718] 1992 NA NA NA NA ...\n",
      " - attr(*, \"spec\")=\n",
      "  .. cols(\n",
      "  ..   trip_id = \u001b[32mcol_double()\u001b[39m,\n",
      "  ..   start_time = \u001b[34mcol_datetime(format = \"\")\u001b[39m,\n",
      "  ..   end_time = \u001b[34mcol_datetime(format = \"\")\u001b[39m,\n",
      "  ..   bikeid = \u001b[32mcol_double()\u001b[39m,\n",
      "  ..   tripduration = \u001b[32mcol_number()\u001b[39m,\n",
      "  ..   from_station_id = \u001b[32mcol_double()\u001b[39m,\n",
      "  ..   from_station_name = \u001b[31mcol_character()\u001b[39m,\n",
      "  ..   to_station_id = \u001b[32mcol_double()\u001b[39m,\n",
      "  ..   to_station_name = \u001b[31mcol_character()\u001b[39m,\n",
      "  ..   usertype = \u001b[31mcol_character()\u001b[39m,\n",
      "  ..   gender = \u001b[31mcol_character()\u001b[39m,\n",
      "  ..   birthyear = \u001b[32mcol_double()\u001b[39m\n",
      "  .. )\n",
      "spec_tbl_df[,12] [1,108,163 × 12] (S3: spec_tbl_df/tbl_df/tbl/data.frame)\n",
      " $ ride_id                                         : num [1:1108163] 22178529 22178530 22178531 22178532 22178533 ...\n",
      " $ started_at                                      : POSIXct[1:1108163], format: \"2019-04-01 00:02:22\" \"2019-04-01 00:03:02\" ...\n",
      " $ ended_at                                        : POSIXct[1:1108163], format: \"2019-04-01 00:09:48\" \"2019-04-01 00:20:30\" ...\n",
      " $ rideable_type                                   : num [1:1108163] 6251 6226 5649 4151 3270 ...\n",
      " $ 01 - Rental Details Duration In Seconds Uncapped: num [1:1108163] 446 1048 252 357 1007 ...\n",
      " $ start_station_id                                : num [1:1108163] 81 317 283 26 202 420 503 260 211 211 ...\n",
      " $ start_station_name                              : chr [1:1108163] \"Daley Center Plaza\" \"Wood St & Taylor St\" \"LaSalle St & Jackson Blvd\" \"McClurg Ct & Illinois St\" ...\n",
      " $ end_station_id                                  : num [1:1108163] 56 59 174 133 129 426 500 499 211 211 ...\n",
      " $ end_station_name                                : chr [1:1108163] \"Desplaines St & Kinzie St\" \"Wabash Ave & Roosevelt Rd\" \"Canal St & Madison St\" \"Kingsbury St & Kinzie St\" ...\n",
      " $ member_casual                                   : chr [1:1108163] \"Subscriber\" \"Subscriber\" \"Subscriber\" \"Subscriber\" ...\n",
      " $ Member Gender                                   : chr [1:1108163] \"Male\" \"Female\" \"Male\" \"Male\" ...\n",
      " $ 05 - Member Details Member Birthday Year        : num [1:1108163] 1975 1984 1990 1993 1992 ...\n",
      " - attr(*, \"spec\")=\n",
      "  .. cols(\n",
      "  ..   `01 - Rental Details Rental ID` = \u001b[32mcol_double()\u001b[39m,\n",
      "  ..   `01 - Rental Details Local Start Time` = \u001b[34mcol_datetime(format = \"\")\u001b[39m,\n",
      "  ..   `01 - Rental Details Local End Time` = \u001b[34mcol_datetime(format = \"\")\u001b[39m,\n",
      "  ..   `01 - Rental Details Bike ID` = \u001b[32mcol_double()\u001b[39m,\n",
      "  ..   `01 - Rental Details Duration In Seconds Uncapped` = \u001b[32mcol_number()\u001b[39m,\n",
      "  ..   `03 - Rental Start Station ID` = \u001b[32mcol_double()\u001b[39m,\n",
      "  ..   `03 - Rental Start Station Name` = \u001b[31mcol_character()\u001b[39m,\n",
      "  ..   `02 - Rental End Station ID` = \u001b[32mcol_double()\u001b[39m,\n",
      "  ..   `02 - Rental End Station Name` = \u001b[31mcol_character()\u001b[39m,\n",
      "  ..   `User Type` = \u001b[31mcol_character()\u001b[39m,\n",
      "  ..   `Member Gender` = \u001b[31mcol_character()\u001b[39m,\n",
      "  ..   `05 - Member Details Member Birthday Year` = \u001b[32mcol_double()\u001b[39m\n",
      "  .. )\n"
     ]
    }
   ],
   "source": [
    "str(q1_2020)\n",
    "str(q4_2019)\n",
    "str(q3_2019)\n",
    "str(q2_2019)"
   ]
  },
  {
   "cell_type": "markdown",
   "id": "752ba403",
   "metadata": {
    "papermill": {
     "duration": 0.043849,
     "end_time": "2021-06-16T03:07:13.673869",
     "exception": false,
     "start_time": "2021-06-16T03:07:13.630020",
     "status": "completed"
    },
    "tags": []
   },
   "source": [
    "We need to convert ride_id and rideable_type to character so we can peform calucations correctly later on."
   ]
  },
  {
   "cell_type": "code",
   "execution_count": 6,
   "id": "dda40c66",
   "metadata": {
    "_kg_hide-output": true,
    "execution": {
     "iopub.execute_input": "2021-06-16T03:07:13.767956Z",
     "iopub.status.busy": "2021-06-16T03:07:13.766216Z",
     "iopub.status.idle": "2021-06-16T03:07:13.806090Z",
     "shell.execute_reply": "2021-06-16T03:07:13.804576Z"
    },
    "papermill": {
     "duration": 0.088427,
     "end_time": "2021-06-16T03:07:13.806286",
     "exception": false,
     "start_time": "2021-06-16T03:07:13.717859",
     "status": "completed"
    },
    "tags": []
   },
   "outputs": [],
   "source": [
    "q4_2019 <-  mutate(q4_2019, ride_id = as.character(ride_id)\n",
    "                   ,rideable_type = as.character(rideable_type)) \n",
    "q3_2019 <-  mutate(q3_2019, ride_id = as.character(ride_id)\n",
    "                   ,rideable_type = as.character(rideable_type)) \n",
    "q2_2019 <-  mutate(q2_2019, ride_id = as.character(ride_id)\n",
    "                   ,rideable_type = as.character(rideable_type)) \n"
   ]
  },
  {
   "cell_type": "markdown",
   "id": "372de11d",
   "metadata": {
    "papermill": {
     "duration": 0.044885,
     "end_time": "2021-06-16T03:07:13.895471",
     "exception": false,
     "start_time": "2021-06-16T03:07:13.850586",
     "status": "completed"
    },
    "tags": []
   },
   "source": [
    "Now, we will unite the data frames into one data frame."
   ]
  },
  {
   "cell_type": "code",
   "execution_count": 7,
   "id": "f065ed86",
   "metadata": {
    "_kg_hide-output": true,
    "execution": {
     "iopub.execute_input": "2021-06-16T03:07:13.991957Z",
     "iopub.status.busy": "2021-06-16T03:07:13.990151Z",
     "iopub.status.idle": "2021-06-16T03:07:26.991723Z",
     "shell.execute_reply": "2021-06-16T03:07:26.990151Z"
    },
    "papermill": {
     "duration": 13.050313,
     "end_time": "2021-06-16T03:07:26.991924",
     "exception": false,
     "start_time": "2021-06-16T03:07:13.941611",
     "status": "completed"
    },
    "tags": []
   },
   "outputs": [],
   "source": [
    "all_trips <- bind_rows(q2_2019, q3_2019, q4_2019, q1_2020)"
   ]
  },
  {
   "cell_type": "markdown",
   "id": "bb32146a",
   "metadata": {
    "papermill": {
     "duration": 0.04367,
     "end_time": "2021-06-16T03:07:27.079947",
     "exception": false,
     "start_time": "2021-06-16T03:07:27.036277",
     "status": "completed"
    },
    "tags": []
   },
   "source": [
    "After 2020, some of the columns such as the lat, long, birthyear, and gender fields were dropped, so we will remove these coloumns to ensure every ride has the same data."
   ]
  },
  {
   "cell_type": "code",
   "execution_count": 8,
   "id": "431512a1",
   "metadata": {
    "_kg_hide-output": true,
    "execution": {
     "iopub.execute_input": "2021-06-16T03:07:27.173715Z",
     "iopub.status.busy": "2021-06-16T03:07:27.171933Z",
     "iopub.status.idle": "2021-06-16T03:07:27.191858Z",
     "shell.execute_reply": "2021-06-16T03:07:27.190640Z"
    },
    "papermill": {
     "duration": 0.068391,
     "end_time": "2021-06-16T03:07:27.192011",
     "exception": false,
     "start_time": "2021-06-16T03:07:27.123620",
     "status": "completed"
    },
    "tags": []
   },
   "outputs": [],
   "source": [
    "all_trips <- all_trips %>%  \n",
    "  select(-c(start_lat, start_lng, end_lat, end_lng, birthyear, gender, \"01 - Rental Details Duration In Seconds Uncapped\", \"05 - Member Details Member Birthday Year\", \"Member Gender\", \"tripduration\"))"
   ]
  },
  {
   "cell_type": "markdown",
   "id": "0bb86ab0",
   "metadata": {
    "papermill": {
     "duration": 0.045334,
     "end_time": "2021-06-16T03:07:27.283645",
     "exception": false,
     "start_time": "2021-06-16T03:07:27.238311",
     "status": "completed"
    },
    "tags": []
   },
   "source": [
    "##Process"
   ]
  },
  {
   "cell_type": "markdown",
   "id": "78bd73e4",
   "metadata": {
    "papermill": {
     "duration": 0.046172,
     "end_time": "2021-06-16T03:07:27.374956",
     "exception": false,
     "start_time": "2021-06-16T03:07:27.328784",
     "status": "completed"
    },
    "tags": []
   },
   "source": [
    "The next step is to clean the data. This step is crucial to ensure the data is accurate and calcuations can be carried out later on."
   ]
  },
  {
   "cell_type": "markdown",
   "id": "aab13b78",
   "metadata": {
    "papermill": {
     "duration": 0.046013,
     "end_time": "2021-06-16T03:07:27.466875",
     "exception": false,
     "start_time": "2021-06-16T03:07:27.420862",
     "status": "completed"
    },
    "tags": []
   },
   "source": [
    "After inspecting our data frame, we have identified a few issues with the data frame. First, the customer type in the member_casual column has two names for members (\"member\" and \"Subscriber\") and two names for casual customers (\"Customer\" and \"casual\")"
   ]
  },
  {
   "cell_type": "code",
   "execution_count": 9,
   "id": "1d5c8f6e",
   "metadata": {
    "_kg_hide-output": true,
    "execution": {
     "iopub.execute_input": "2021-06-16T03:07:27.564307Z",
     "iopub.status.busy": "2021-06-16T03:07:27.562899Z",
     "iopub.status.idle": "2021-06-16T03:07:29.035163Z",
     "shell.execute_reply": "2021-06-16T03:07:29.033889Z"
    },
    "papermill": {
     "duration": 1.522329,
     "end_time": "2021-06-16T03:07:29.035324",
     "exception": false,
     "start_time": "2021-06-16T03:07:27.512995",
     "status": "completed"
    },
    "tags": []
   },
   "outputs": [],
   "source": [
    "all_trips <-  all_trips %>% \n",
    "  mutate(member_casual = recode(member_casual\n",
    "                                ,\"Subscriber\" = \"member\"\n",
    "                                ,\"Customer\" = \"casual\"))\n"
   ]
  },
  {
   "cell_type": "markdown",
   "id": "43808cb0",
   "metadata": {
    "papermill": {
     "duration": 0.044546,
     "end_time": "2021-06-16T03:07:29.123919",
     "exception": false,
     "start_time": "2021-06-16T03:07:29.079373",
     "status": "completed"
    },
    "tags": []
   },
   "source": [
    "Next, we will add columns that list the date, month, day, and year of each ride. This will allow us to aggregate ride data for each month, day, or year.\n"
   ]
  },
  {
   "cell_type": "code",
   "execution_count": 10,
   "id": "f3d66540",
   "metadata": {
    "_kg_hide-output": true,
    "execution": {
     "iopub.execute_input": "2021-06-16T03:07:29.217998Z",
     "iopub.status.busy": "2021-06-16T03:07:29.216521Z",
     "iopub.status.idle": "2021-06-16T03:07:34.821082Z",
     "shell.execute_reply": "2021-06-16T03:07:34.820049Z"
    },
    "papermill": {
     "duration": 5.6534,
     "end_time": "2021-06-16T03:07:34.821492",
     "exception": false,
     "start_time": "2021-06-16T03:07:29.168092",
     "status": "completed"
    },
    "tags": []
   },
   "outputs": [],
   "source": [
    "all_trips$date <- as.Date(all_trips$started_at) \n",
    "all_trips$month <- format(as.Date(all_trips$date), \"%m\")\n",
    "all_trips$day <- format(as.Date(all_trips$date), \"%d\")\n",
    "all_trips$year <- format(as.Date(all_trips$date), \"%Y\")\n",
    "all_trips$day_of_week <- format(as.Date(all_trips$date), \"%A\")\n"
   ]
  },
  {
   "cell_type": "markdown",
   "id": "7714d690",
   "metadata": {
    "papermill": {
     "duration": 0.045238,
     "end_time": "2021-06-16T03:07:34.912388",
     "exception": false,
     "start_time": "2021-06-16T03:07:34.867150",
     "status": "completed"
    },
    "tags": []
   },
   "source": [
    "Now, we will add a column for the ride length for each ride by finding the time difference between the ride's start time and end time."
   ]
  },
  {
   "cell_type": "code",
   "execution_count": 11,
   "id": "21edcce2",
   "metadata": {
    "_kg_hide-output": true,
    "execution": {
     "iopub.execute_input": "2021-06-16T03:07:35.006117Z",
     "iopub.status.busy": "2021-06-16T03:07:35.004804Z",
     "iopub.status.idle": "2021-06-16T03:07:35.047435Z",
     "shell.execute_reply": "2021-06-16T03:07:35.046285Z"
    },
    "papermill": {
     "duration": 0.091093,
     "end_time": "2021-06-16T03:07:35.047572",
     "exception": false,
     "start_time": "2021-06-16T03:07:34.956479",
     "status": "completed"
    },
    "tags": []
   },
   "outputs": [],
   "source": [
    "all_trips$ride_length <- difftime(all_trips$ended_at,all_trips$started_at)\n"
   ]
  },
  {
   "cell_type": "markdown",
   "id": "86f71be6",
   "metadata": {
    "papermill": {
     "duration": 0.044443,
     "end_time": "2021-06-16T03:07:35.136825",
     "exception": false,
     "start_time": "2021-06-16T03:07:35.092382",
     "status": "completed"
    },
    "tags": []
   },
   "source": [
    "There is some \"bad\" data to remove where the ride_length is negative due to maintence removing bikes for quality checks. We will create a new data frame without these rides that have negative ride lengths.\n"
   ]
  },
  {
   "cell_type": "code",
   "execution_count": 12,
   "id": "41ffde49",
   "metadata": {
    "_kg_hide-output": true,
    "execution": {
     "iopub.execute_input": "2021-06-16T03:07:35.231682Z",
     "iopub.status.busy": "2021-06-16T03:07:35.230240Z",
     "iopub.status.idle": "2021-06-16T03:07:35.950704Z",
     "shell.execute_reply": "2021-06-16T03:07:35.949318Z"
    },
    "papermill": {
     "duration": 0.769247,
     "end_time": "2021-06-16T03:07:35.950876",
     "exception": false,
     "start_time": "2021-06-16T03:07:35.181629",
     "status": "completed"
    },
    "tags": []
   },
   "outputs": [],
   "source": [
    "all_trips_v2 <- all_trips[!(all_trips$start_station_name == \"HQ QR\" | all_trips$ride_length<0),]"
   ]
  },
  {
   "cell_type": "markdown",
   "id": "0cb11328",
   "metadata": {
    "papermill": {
     "duration": 0.044353,
     "end_time": "2021-06-16T03:07:36.039453",
     "exception": false,
     "start_time": "2021-06-16T03:07:35.995100",
     "status": "completed"
    },
    "tags": []
   },
   "source": [
    "##Analyze"
   ]
  },
  {
   "cell_type": "markdown",
   "id": "1bc251fc",
   "metadata": {
    "papermill": {
     "duration": 0.044495,
     "end_time": "2021-06-16T03:07:36.128472",
     "exception": false,
     "start_time": "2021-06-16T03:07:36.083977",
     "status": "completed"
    },
    "tags": []
   },
   "source": [
    "We will now perform a descriptive analysis of the data to find patterns between casual customer and members. "
   ]
  },
  {
   "cell_type": "markdown",
   "id": "75b17520",
   "metadata": {
    "papermill": {
     "duration": 0.044025,
     "end_time": "2021-06-16T03:07:36.216732",
     "exception": false,
     "start_time": "2021-06-16T03:07:36.172707",
     "status": "completed"
    },
    "tags": []
   },
   "source": [
    "Before we start the analysis, it is good practice to look at basic desciptive statistics of our data."
   ]
  },
  {
   "cell_type": "code",
   "execution_count": 13,
   "id": "3455d395",
   "metadata": {
    "_kg_hide-output": true,
    "execution": {
     "iopub.execute_input": "2021-06-16T03:07:36.310495Z",
     "iopub.status.busy": "2021-06-16T03:07:36.309129Z",
     "iopub.status.idle": "2021-06-16T03:07:37.500050Z",
     "shell.execute_reply": "2021-06-16T03:07:37.498857Z"
    },
    "papermill": {
     "duration": 1.239401,
     "end_time": "2021-06-16T03:07:37.500288",
     "exception": false,
     "start_time": "2021-06-16T03:07:36.260887",
     "status": "completed"
    },
    "tags": []
   },
   "outputs": [
    {
     "data": {
      "text/plain": [
       "Time difference of 1479.139 secs"
      ]
     },
     "metadata": {},
     "output_type": "display_data"
    },
    {
     "data": {
      "text/plain": [
       "Time difference of 712 secs"
      ]
     },
     "metadata": {},
     "output_type": "display_data"
    },
    {
     "data": {
      "text/plain": [
       "Time difference of 9387024 secs"
      ]
     },
     "metadata": {},
     "output_type": "display_data"
    },
    {
     "data": {
      "text/plain": [
       "Time difference of 1 secs"
      ]
     },
     "metadata": {},
     "output_type": "display_data"
    }
   ],
   "source": [
    "mean(all_trips_v2$ride_length)\n",
    "median(all_trips_v2$ride_length) \n",
    "max(all_trips_v2$ride_length) \n",
    "min(all_trips_v2$ride_length) "
   ]
  },
  {
   "cell_type": "markdown",
   "id": "f9fccafa",
   "metadata": {
    "papermill": {
     "duration": 0.04632,
     "end_time": "2021-06-16T03:07:37.593522",
     "exception": false,
     "start_time": "2021-06-16T03:07:37.547202",
     "status": "completed"
    },
    "tags": []
   },
   "source": [
    "First, we will compare the ride statistics of our casual customer and members."
   ]
  },
  {
   "cell_type": "code",
   "execution_count": 14,
   "id": "14e70d57",
   "metadata": {
    "_kg_hide-output": true,
    "execution": {
     "iopub.execute_input": "2021-06-16T03:07:37.710733Z",
     "iopub.status.busy": "2021-06-16T03:07:37.709280Z",
     "iopub.status.idle": "2021-06-16T03:07:47.345035Z",
     "shell.execute_reply": "2021-06-16T03:07:47.343406Z"
    },
    "papermill": {
     "duration": 9.698242,
     "end_time": "2021-06-16T03:07:47.345369",
     "exception": false,
     "start_time": "2021-06-16T03:07:37.647127",
     "status": "completed"
    },
    "tags": []
   },
   "outputs": [
    {
     "data": {
      "text/html": [
       "<table class=\"dataframe\">\n",
       "<caption>A data.frame: 2 × 2</caption>\n",
       "<thead>\n",
       "\t<tr><th scope=col>all_trips_v2$member_casual</th><th scope=col>all_trips_v2$ride_length</th></tr>\n",
       "\t<tr><th scope=col>&lt;chr&gt;</th><th scope=col>&lt;drtn&gt;</th></tr>\n",
       "</thead>\n",
       "<tbody>\n",
       "\t<tr><td>casual</td><td>3552.7502 </td></tr>\n",
       "\t<tr><td>member</td><td> 850.0662 </td></tr>\n",
       "</tbody>\n",
       "</table>\n"
      ],
      "text/latex": [
       "A data.frame: 2 × 2\n",
       "\\begin{tabular}{ll}\n",
       " all\\_trips\\_v2\\$member\\_casual & all\\_trips\\_v2\\$ride\\_length\\\\\n",
       " <chr> & <drtn>\\\\\n",
       "\\hline\n",
       "\t casual & 3552.7502 \\\\\n",
       "\t member &  850.0662 \\\\\n",
       "\\end{tabular}\n"
      ],
      "text/markdown": [
       "\n",
       "A data.frame: 2 × 2\n",
       "\n",
       "| all_trips_v2$member_casual &lt;chr&gt; | all_trips_v2$ride_length &lt;drtn&gt; |\n",
       "|---|---|\n",
       "| casual | 3552.7502  |\n",
       "| member |  850.0662  |\n",
       "\n"
      ],
      "text/plain": [
       "  all_trips_v2$member_casual all_trips_v2$ride_length\n",
       "1 casual                     3552.7502               \n",
       "2 member                      850.0662               "
      ]
     },
     "metadata": {},
     "output_type": "display_data"
    },
    {
     "data": {
      "text/html": [
       "<table class=\"dataframe\">\n",
       "<caption>A data.frame: 2 × 2</caption>\n",
       "<thead>\n",
       "\t<tr><th scope=col>all_trips_v2$member_casual</th><th scope=col>all_trips_v2$ride_length</th></tr>\n",
       "\t<tr><th scope=col>&lt;chr&gt;</th><th scope=col>&lt;drtn&gt;</th></tr>\n",
       "</thead>\n",
       "<tbody>\n",
       "\t<tr><td>casual</td><td>1546 </td></tr>\n",
       "\t<tr><td>member</td><td> 589 </td></tr>\n",
       "</tbody>\n",
       "</table>\n"
      ],
      "text/latex": [
       "A data.frame: 2 × 2\n",
       "\\begin{tabular}{ll}\n",
       " all\\_trips\\_v2\\$member\\_casual & all\\_trips\\_v2\\$ride\\_length\\\\\n",
       " <chr> & <drtn>\\\\\n",
       "\\hline\n",
       "\t casual & 1546 \\\\\n",
       "\t member &  589 \\\\\n",
       "\\end{tabular}\n"
      ],
      "text/markdown": [
       "\n",
       "A data.frame: 2 × 2\n",
       "\n",
       "| all_trips_v2$member_casual &lt;chr&gt; | all_trips_v2$ride_length &lt;drtn&gt; |\n",
       "|---|---|\n",
       "| casual | 1546  |\n",
       "| member |  589  |\n",
       "\n"
      ],
      "text/plain": [
       "  all_trips_v2$member_casual all_trips_v2$ride_length\n",
       "1 casual                     1546                    \n",
       "2 member                      589                    "
      ]
     },
     "metadata": {},
     "output_type": "display_data"
    },
    {
     "data": {
      "text/html": [
       "<table class=\"dataframe\">\n",
       "<caption>A data.frame: 2 × 2</caption>\n",
       "<thead>\n",
       "\t<tr><th scope=col>all_trips_v2$member_casual</th><th scope=col>all_trips_v2$ride_length</th></tr>\n",
       "\t<tr><th scope=col>&lt;chr&gt;</th><th scope=col>&lt;drtn&gt;</th></tr>\n",
       "</thead>\n",
       "<tbody>\n",
       "\t<tr><td>casual</td><td>9387024 </td></tr>\n",
       "\t<tr><td>member</td><td>9056634 </td></tr>\n",
       "</tbody>\n",
       "</table>\n"
      ],
      "text/latex": [
       "A data.frame: 2 × 2\n",
       "\\begin{tabular}{ll}\n",
       " all\\_trips\\_v2\\$member\\_casual & all\\_trips\\_v2\\$ride\\_length\\\\\n",
       " <chr> & <drtn>\\\\\n",
       "\\hline\n",
       "\t casual & 9387024 \\\\\n",
       "\t member & 9056634 \\\\\n",
       "\\end{tabular}\n"
      ],
      "text/markdown": [
       "\n",
       "A data.frame: 2 × 2\n",
       "\n",
       "| all_trips_v2$member_casual &lt;chr&gt; | all_trips_v2$ride_length &lt;drtn&gt; |\n",
       "|---|---|\n",
       "| casual | 9387024  |\n",
       "| member | 9056634  |\n",
       "\n"
      ],
      "text/plain": [
       "  all_trips_v2$member_casual all_trips_v2$ride_length\n",
       "1 casual                     9387024                 \n",
       "2 member                     9056634                 "
      ]
     },
     "metadata": {},
     "output_type": "display_data"
    },
    {
     "data": {
      "text/html": [
       "<table class=\"dataframe\">\n",
       "<caption>A data.frame: 2 × 2</caption>\n",
       "<thead>\n",
       "\t<tr><th scope=col>all_trips_v2$member_casual</th><th scope=col>all_trips_v2$ride_length</th></tr>\n",
       "\t<tr><th scope=col>&lt;chr&gt;</th><th scope=col>&lt;drtn&gt;</th></tr>\n",
       "</thead>\n",
       "<tbody>\n",
       "\t<tr><td>casual</td><td>2 </td></tr>\n",
       "\t<tr><td>member</td><td>1 </td></tr>\n",
       "</tbody>\n",
       "</table>\n"
      ],
      "text/latex": [
       "A data.frame: 2 × 2\n",
       "\\begin{tabular}{ll}\n",
       " all\\_trips\\_v2\\$member\\_casual & all\\_trips\\_v2\\$ride\\_length\\\\\n",
       " <chr> & <drtn>\\\\\n",
       "\\hline\n",
       "\t casual & 2 \\\\\n",
       "\t member & 1 \\\\\n",
       "\\end{tabular}\n"
      ],
      "text/markdown": [
       "\n",
       "A data.frame: 2 × 2\n",
       "\n",
       "| all_trips_v2$member_casual &lt;chr&gt; | all_trips_v2$ride_length &lt;drtn&gt; |\n",
       "|---|---|\n",
       "| casual | 2  |\n",
       "| member | 1  |\n",
       "\n"
      ],
      "text/plain": [
       "  all_trips_v2$member_casual all_trips_v2$ride_length\n",
       "1 casual                     2                       \n",
       "2 member                     1                       "
      ]
     },
     "metadata": {},
     "output_type": "display_data"
    }
   ],
   "source": [
    "aggregate(all_trips_v2$ride_length ~ all_trips_v2$member_casual, FUN = mean)\n",
    "aggregate(all_trips_v2$ride_length ~ all_trips_v2$member_casual, FUN = median)\n",
    "aggregate(all_trips_v2$ride_length ~ all_trips_v2$member_casual, FUN = max)\n",
    "aggregate(all_trips_v2$ride_length ~ all_trips_v2$member_casual, FUN = min)"
   ]
  },
  {
   "cell_type": "markdown",
   "id": "441bf9bb",
   "metadata": {
    "papermill": {
     "duration": 0.049797,
     "end_time": "2021-06-16T03:07:47.445056",
     "exception": false,
     "start_time": "2021-06-16T03:07:47.395259",
     "status": "completed"
    },
    "tags": []
   },
   "source": [
    "Before we move forward, let's order the day_of_week column into the correct order."
   ]
  },
  {
   "cell_type": "code",
   "execution_count": 15,
   "id": "cf35d707",
   "metadata": {
    "_kg_hide-output": true,
    "execution": {
     "iopub.execute_input": "2021-06-16T03:07:47.549593Z",
     "iopub.status.busy": "2021-06-16T03:07:47.547767Z",
     "iopub.status.idle": "2021-06-16T03:07:47.638079Z",
     "shell.execute_reply": "2021-06-16T03:07:47.636772Z"
    },
    "papermill": {
     "duration": 0.143995,
     "end_time": "2021-06-16T03:07:47.638244",
     "exception": false,
     "start_time": "2021-06-16T03:07:47.494249",
     "status": "completed"
    },
    "tags": []
   },
   "outputs": [],
   "source": [
    "all_trips_v2$day_of_week <- ordered(all_trips_v2$day_of_week, levels=c(\"Sunday\", \"Monday\", \"Tuesday\", \"Wednesday\", \"Thursday\", \"Friday\", \"Saturday\"))"
   ]
  },
  {
   "cell_type": "markdown",
   "id": "502ef4ba",
   "metadata": {
    "papermill": {
     "duration": 0.049785,
     "end_time": "2021-06-16T03:07:47.737300",
     "exception": false,
     "start_time": "2021-06-16T03:07:47.687515",
     "status": "completed"
    },
    "tags": []
   },
   "source": [
    "Next, we will examine the average ride time by each day for casual customers and members."
   ]
  },
  {
   "cell_type": "code",
   "execution_count": 16,
   "id": "0f061c97",
   "metadata": {
    "_kg_hide-output": true,
    "execution": {
     "iopub.execute_input": "2021-06-16T03:07:47.843005Z",
     "iopub.status.busy": "2021-06-16T03:07:47.840853Z",
     "iopub.status.idle": "2021-06-16T03:07:50.295708Z",
     "shell.execute_reply": "2021-06-16T03:07:50.293927Z"
    },
    "papermill": {
     "duration": 2.508792,
     "end_time": "2021-06-16T03:07:50.295857",
     "exception": false,
     "start_time": "2021-06-16T03:07:47.787065",
     "status": "completed"
    },
    "tags": []
   },
   "outputs": [
    {
     "data": {
      "text/html": [
       "<table class=\"dataframe\">\n",
       "<caption>A data.frame: 14 × 3</caption>\n",
       "<thead>\n",
       "\t<tr><th scope=col>all_trips_v2$member_casual</th><th scope=col>all_trips_v2$day_of_week</th><th scope=col>all_trips_v2$ride_length</th></tr>\n",
       "\t<tr><th scope=col>&lt;chr&gt;</th><th scope=col>&lt;ord&gt;</th><th scope=col>&lt;drtn&gt;</th></tr>\n",
       "</thead>\n",
       "<tbody>\n",
       "\t<tr><td>casual</td><td>Sunday   </td><td>3581.4054 </td></tr>\n",
       "\t<tr><td>member</td><td>Sunday   </td><td> 919.9746 </td></tr>\n",
       "\t<tr><td>casual</td><td>Monday   </td><td>3372.2869 </td></tr>\n",
       "\t<tr><td>member</td><td>Monday   </td><td> 842.5726 </td></tr>\n",
       "\t<tr><td>casual</td><td>Tuesday  </td><td>3596.3599 </td></tr>\n",
       "\t<tr><td>member</td><td>Tuesday  </td><td> 826.1427 </td></tr>\n",
       "\t<tr><td>casual</td><td>Wednesday</td><td>3718.6619 </td></tr>\n",
       "\t<tr><td>member</td><td>Wednesday</td><td> 823.9996 </td></tr>\n",
       "\t<tr><td>casual</td><td>Thursday </td><td>3682.9847 </td></tr>\n",
       "\t<tr><td>member</td><td>Thursday </td><td> 823.9278 </td></tr>\n",
       "\t<tr><td>casual</td><td>Friday   </td><td>3773.8351 </td></tr>\n",
       "\t<tr><td>member</td><td>Friday   </td><td> 824.5305 </td></tr>\n",
       "\t<tr><td>casual</td><td>Saturday </td><td>3331.9138 </td></tr>\n",
       "\t<tr><td>member</td><td>Saturday </td><td> 968.9337 </td></tr>\n",
       "</tbody>\n",
       "</table>\n"
      ],
      "text/latex": [
       "A data.frame: 14 × 3\n",
       "\\begin{tabular}{lll}\n",
       " all\\_trips\\_v2\\$member\\_casual & all\\_trips\\_v2\\$day\\_of\\_week & all\\_trips\\_v2\\$ride\\_length\\\\\n",
       " <chr> & <ord> & <drtn>\\\\\n",
       "\\hline\n",
       "\t casual & Sunday    & 3581.4054 \\\\\n",
       "\t member & Sunday    &  919.9746 \\\\\n",
       "\t casual & Monday    & 3372.2869 \\\\\n",
       "\t member & Monday    &  842.5726 \\\\\n",
       "\t casual & Tuesday   & 3596.3599 \\\\\n",
       "\t member & Tuesday   &  826.1427 \\\\\n",
       "\t casual & Wednesday & 3718.6619 \\\\\n",
       "\t member & Wednesday &  823.9996 \\\\\n",
       "\t casual & Thursday  & 3682.9847 \\\\\n",
       "\t member & Thursday  &  823.9278 \\\\\n",
       "\t casual & Friday    & 3773.8351 \\\\\n",
       "\t member & Friday    &  824.5305 \\\\\n",
       "\t casual & Saturday  & 3331.9138 \\\\\n",
       "\t member & Saturday  &  968.9337 \\\\\n",
       "\\end{tabular}\n"
      ],
      "text/markdown": [
       "\n",
       "A data.frame: 14 × 3\n",
       "\n",
       "| all_trips_v2$member_casual &lt;chr&gt; | all_trips_v2$day_of_week &lt;ord&gt; | all_trips_v2$ride_length &lt;drtn&gt; |\n",
       "|---|---|---|\n",
       "| casual | Sunday    | 3581.4054  |\n",
       "| member | Sunday    |  919.9746  |\n",
       "| casual | Monday    | 3372.2869  |\n",
       "| member | Monday    |  842.5726  |\n",
       "| casual | Tuesday   | 3596.3599  |\n",
       "| member | Tuesday   |  826.1427  |\n",
       "| casual | Wednesday | 3718.6619  |\n",
       "| member | Wednesday |  823.9996  |\n",
       "| casual | Thursday  | 3682.9847  |\n",
       "| member | Thursday  |  823.9278  |\n",
       "| casual | Friday    | 3773.8351  |\n",
       "| member | Friday    |  824.5305  |\n",
       "| casual | Saturday  | 3331.9138  |\n",
       "| member | Saturday  |  968.9337  |\n",
       "\n"
      ],
      "text/plain": [
       "   all_trips_v2$member_casual all_trips_v2$day_of_week all_trips_v2$ride_length\n",
       "1  casual                     Sunday                   3581.4054               \n",
       "2  member                     Sunday                    919.9746               \n",
       "3  casual                     Monday                   3372.2869               \n",
       "4  member                     Monday                    842.5726               \n",
       "5  casual                     Tuesday                  3596.3599               \n",
       "6  member                     Tuesday                   826.1427               \n",
       "7  casual                     Wednesday                3718.6619               \n",
       "8  member                     Wednesday                 823.9996               \n",
       "9  casual                     Thursday                 3682.9847               \n",
       "10 member                     Thursday                  823.9278               \n",
       "11 casual                     Friday                   3773.8351               \n",
       "12 member                     Friday                    824.5305               \n",
       "13 casual                     Saturday                 3331.9138               \n",
       "14 member                     Saturday                  968.9337               "
      ]
     },
     "metadata": {},
     "output_type": "display_data"
    }
   ],
   "source": [
    "aggregate(all_trips_v2$ride_length ~ all_trips_v2$member_casual + all_trips_v2$day_of_week, FUN = mean)"
   ]
  },
  {
   "cell_type": "markdown",
   "id": "b0595816",
   "metadata": {
    "papermill": {
     "duration": 0.050601,
     "end_time": "2021-06-16T03:07:50.397521",
     "exception": false,
     "start_time": "2021-06-16T03:07:50.346920",
     "status": "completed"
    },
    "tags": []
   },
   "source": [
    "Now, we wil look at the total number of rides and the average ride duration (in seconds) by weekday for casual csutomers and members."
   ]
  },
  {
   "cell_type": "code",
   "execution_count": 17,
   "id": "5d3dde3e",
   "metadata": {
    "_kg_hide-output": true,
    "execution": {
     "iopub.execute_input": "2021-06-16T03:07:50.503115Z",
     "iopub.status.busy": "2021-06-16T03:07:50.501482Z",
     "iopub.status.idle": "2021-06-16T03:07:54.754608Z",
     "shell.execute_reply": "2021-06-16T03:07:54.753374Z"
    },
    "papermill": {
     "duration": 4.307651,
     "end_time": "2021-06-16T03:07:54.754947",
     "exception": false,
     "start_time": "2021-06-16T03:07:50.447296",
     "status": "completed"
    },
    "tags": []
   },
   "outputs": [
    {
     "name": "stderr",
     "output_type": "stream",
     "text": [
      "`summarise()` has grouped output by 'member_casual'. You can override using the `.groups` argument.\n",
      "\n"
     ]
    },
    {
     "data": {
      "text/html": [
       "<table class=\"dataframe\">\n",
       "<caption>A grouped_df: 14 × 4</caption>\n",
       "<thead>\n",
       "\t<tr><th scope=col>member_casual</th><th scope=col>weekday</th><th scope=col>number_of_rides</th><th scope=col>average_duration</th></tr>\n",
       "\t<tr><th scope=col>&lt;chr&gt;</th><th scope=col>&lt;ord&gt;</th><th scope=col>&lt;int&gt;</th><th scope=col>&lt;drtn&gt;</th></tr>\n",
       "</thead>\n",
       "<tbody>\n",
       "\t<tr><td>casual</td><td>Sun</td><td>181293</td><td>3581.4054 secs</td></tr>\n",
       "\t<tr><td>casual</td><td>Mon</td><td>103296</td><td>3372.2869 secs</td></tr>\n",
       "\t<tr><td>casual</td><td>Tue</td><td> 90510</td><td>3596.3599 secs</td></tr>\n",
       "\t<tr><td>casual</td><td>Wed</td><td> 92457</td><td>3718.6619 secs</td></tr>\n",
       "\t<tr><td>casual</td><td>Thu</td><td>102679</td><td>3682.9847 secs</td></tr>\n",
       "\t<tr><td>casual</td><td>Fri</td><td>122404</td><td>3773.8351 secs</td></tr>\n",
       "\t<tr><td>casual</td><td>Sat</td><td>209543</td><td>3331.9138 secs</td></tr>\n",
       "\t<tr><td>member</td><td>Sun</td><td>267965</td><td> 919.9746 secs</td></tr>\n",
       "\t<tr><td>member</td><td>Mon</td><td>472196</td><td> 842.5726 secs</td></tr>\n",
       "\t<tr><td>member</td><td>Tue</td><td>508445</td><td> 826.1427 secs</td></tr>\n",
       "\t<tr><td>member</td><td>Wed</td><td>500329</td><td> 823.9996 secs</td></tr>\n",
       "\t<tr><td>member</td><td>Thu</td><td>484177</td><td> 823.9278 secs</td></tr>\n",
       "\t<tr><td>member</td><td>Fri</td><td>452790</td><td> 824.5305 secs</td></tr>\n",
       "\t<tr><td>member</td><td>Sat</td><td>287958</td><td> 968.9337 secs</td></tr>\n",
       "</tbody>\n",
       "</table>\n"
      ],
      "text/latex": [
       "A grouped\\_df: 14 × 4\n",
       "\\begin{tabular}{llll}\n",
       " member\\_casual & weekday & number\\_of\\_rides & average\\_duration\\\\\n",
       " <chr> & <ord> & <int> & <drtn>\\\\\n",
       "\\hline\n",
       "\t casual & Sun & 181293 & 3581.4054 secs\\\\\n",
       "\t casual & Mon & 103296 & 3372.2869 secs\\\\\n",
       "\t casual & Tue &  90510 & 3596.3599 secs\\\\\n",
       "\t casual & Wed &  92457 & 3718.6619 secs\\\\\n",
       "\t casual & Thu & 102679 & 3682.9847 secs\\\\\n",
       "\t casual & Fri & 122404 & 3773.8351 secs\\\\\n",
       "\t casual & Sat & 209543 & 3331.9138 secs\\\\\n",
       "\t member & Sun & 267965 &  919.9746 secs\\\\\n",
       "\t member & Mon & 472196 &  842.5726 secs\\\\\n",
       "\t member & Tue & 508445 &  826.1427 secs\\\\\n",
       "\t member & Wed & 500329 &  823.9996 secs\\\\\n",
       "\t member & Thu & 484177 &  823.9278 secs\\\\\n",
       "\t member & Fri & 452790 &  824.5305 secs\\\\\n",
       "\t member & Sat & 287958 &  968.9337 secs\\\\\n",
       "\\end{tabular}\n"
      ],
      "text/markdown": [
       "\n",
       "A grouped_df: 14 × 4\n",
       "\n",
       "| member_casual &lt;chr&gt; | weekday &lt;ord&gt; | number_of_rides &lt;int&gt; | average_duration &lt;drtn&gt; |\n",
       "|---|---|---|---|\n",
       "| casual | Sun | 181293 | 3581.4054 secs |\n",
       "| casual | Mon | 103296 | 3372.2869 secs |\n",
       "| casual | Tue |  90510 | 3596.3599 secs |\n",
       "| casual | Wed |  92457 | 3718.6619 secs |\n",
       "| casual | Thu | 102679 | 3682.9847 secs |\n",
       "| casual | Fri | 122404 | 3773.8351 secs |\n",
       "| casual | Sat | 209543 | 3331.9138 secs |\n",
       "| member | Sun | 267965 |  919.9746 secs |\n",
       "| member | Mon | 472196 |  842.5726 secs |\n",
       "| member | Tue | 508445 |  826.1427 secs |\n",
       "| member | Wed | 500329 |  823.9996 secs |\n",
       "| member | Thu | 484177 |  823.9278 secs |\n",
       "| member | Fri | 452790 |  824.5305 secs |\n",
       "| member | Sat | 287958 |  968.9337 secs |\n",
       "\n"
      ],
      "text/plain": [
       "   member_casual weekday number_of_rides average_duration\n",
       "1  casual        Sun     181293          3581.4054 secs  \n",
       "2  casual        Mon     103296          3372.2869 secs  \n",
       "3  casual        Tue      90510          3596.3599 secs  \n",
       "4  casual        Wed      92457          3718.6619 secs  \n",
       "5  casual        Thu     102679          3682.9847 secs  \n",
       "6  casual        Fri     122404          3773.8351 secs  \n",
       "7  casual        Sat     209543          3331.9138 secs  \n",
       "8  member        Sun     267965           919.9746 secs  \n",
       "9  member        Mon     472196           842.5726 secs  \n",
       "10 member        Tue     508445           826.1427 secs  \n",
       "11 member        Wed     500329           823.9996 secs  \n",
       "12 member        Thu     484177           823.9278 secs  \n",
       "13 member        Fri     452790           824.5305 secs  \n",
       "14 member        Sat     287958           968.9337 secs  "
      ]
     },
     "metadata": {},
     "output_type": "display_data"
    }
   ],
   "source": [
    "all_trips_v2 %>% \n",
    "  mutate(weekday = wday(started_at, label = TRUE)) %>%  \n",
    "  group_by(member_casual, weekday) %>%  \n",
    "  summarise(number_of_rides = n(),average_duration = mean(ride_length)) %>% \n",
    "  arrange(member_casual, weekday)"
   ]
  },
  {
   "cell_type": "markdown",
   "id": "6d1cc0dd",
   "metadata": {
    "papermill": {
     "duration": 0.052255,
     "end_time": "2021-06-16T03:07:54.859150",
     "exception": false,
     "start_time": "2021-06-16T03:07:54.806895",
     "status": "completed"
    },
    "tags": []
   },
   "source": [
    "##Share"
   ]
  },
  {
   "cell_type": "markdown",
   "id": "b76ff70f",
   "metadata": {
    "papermill": {
     "duration": 0.051414,
     "end_time": "2021-06-16T03:07:54.964052",
     "exception": false,
     "start_time": "2021-06-16T03:07:54.912638",
     "status": "completed"
    },
    "tags": []
   },
   "source": [
    "Before we make our recommendations for the marketing department, we will create some data visualizations to both share with our stakeholders as well as give us a better idea of what insights to share."
   ]
  },
  {
   "cell_type": "markdown",
   "id": "557d6b2c",
   "metadata": {
    "papermill": {
     "duration": 0.052043,
     "end_time": "2021-06-16T03:07:55.067937",
     "exception": false,
     "start_time": "2021-06-16T03:07:55.015894",
     "status": "completed"
    },
    "tags": []
   },
   "source": [
    "The first data visualization will reveal the number of rides by weekday for casual customer and members."
   ]
  },
  {
   "cell_type": "code",
   "execution_count": 18,
   "id": "06ebb04c",
   "metadata": {
    "_kg_hide-output": true,
    "execution": {
     "iopub.execute_input": "2021-06-16T03:07:55.176670Z",
     "iopub.status.busy": "2021-06-16T03:07:55.175402Z",
     "iopub.status.idle": "2021-06-16T03:07:59.960525Z",
     "shell.execute_reply": "2021-06-16T03:07:59.959797Z"
    },
    "papermill": {
     "duration": 4.840916,
     "end_time": "2021-06-16T03:07:59.960713",
     "exception": false,
     "start_time": "2021-06-16T03:07:55.119797",
     "status": "completed"
    },
    "tags": []
   },
   "outputs": [
    {
     "name": "stderr",
     "output_type": "stream",
     "text": [
      "`summarise()` has grouped output by 'member_casual'. You can override using the `.groups` argument.\n",
      "\n"
     ]
    },
    {
     "data": {
      "image/png": "[encoded data removed]"
     },
     "metadata": {
      "image/png": {
       "height": 420,
       "width": 420
      }
     },
     "output_type": "display_data"
    }
   ],
   "source": [
    "all_trips_v2 %>% \n",
    "  mutate(weekday = wday(started_at, label = TRUE)) %>% \n",
    "  group_by(member_casual, weekday) %>% \n",
    "  summarise(number_of_rides = n()\n",
    "            ,average_duration = mean(ride_length)) %>% \n",
    "  arrange(member_casual, weekday)  %>% \n",
    "  ggplot(aes(x = weekday, y = number_of_rides, fill = member_casual)) +\n",
    "  geom_col(position = \"dodge\")"
   ]
  },
  {
   "cell_type": "markdown",
   "id": "4833c978",
   "metadata": {
    "papermill": {
     "duration": 0.055014,
     "end_time": "2021-06-16T03:08:00.075348",
     "exception": false,
     "start_time": "2021-06-16T03:08:00.020334",
     "status": "completed"
    },
    "tags": []
   },
   "source": [
    "Our next data visualization will show the average ride length by weekday for casual customers and members."
   ]
  },
  {
   "cell_type": "code",
   "execution_count": 19,
   "id": "48eedebb",
   "metadata": {
    "_kg_hide-output": true,
    "execution": {
     "iopub.execute_input": "2021-06-16T03:08:00.186770Z",
     "iopub.status.busy": "2021-06-16T03:08:00.184931Z",
     "iopub.status.idle": "2021-06-16T03:08:04.723893Z",
     "shell.execute_reply": "2021-06-16T03:08:04.722268Z"
    },
    "papermill": {
     "duration": 4.59612,
     "end_time": "2021-06-16T03:08:04.724369",
     "exception": false,
     "start_time": "2021-06-16T03:08:00.128249",
     "status": "completed"
    },
    "tags": []
   },
   "outputs": [
    {
     "name": "stderr",
     "output_type": "stream",
     "text": [
      "`summarise()` has grouped output by 'member_casual'. You can override using the `.groups` argument.\n",
      "\n",
      "Don't know how to automatically pick scale for object of type difftime. Defaulting to continuous.\n",
      "\n"
     ]
    },
    {
     "data": {
      "image/png": "[encoded data removed]"
     },
     "metadata": {
      "image/png": {
       "height": 420,
       "width": 420
      }
     },
     "output_type": "display_data"
    }
   ],
   "source": [
    "all_trips_v2 %>% \n",
    "  mutate(weekday = wday(started_at, label = TRUE)) %>% \n",
    "  group_by(member_casual, weekday) %>% \n",
    "  summarise(number_of_rides = n()\n",
    "            ,average_duration = mean(ride_length)) %>% \n",
    "  arrange(member_casual, weekday)  %>% \n",
    "  ggplot(aes(x = weekday, y = average_duration, fill = member_casual)) +\n",
    "  geom_col(position = \"dodge\")"
   ]
  },
  {
   "cell_type": "markdown",
   "id": "4c889513",
   "metadata": {
    "papermill": {
     "duration": 0.054645,
     "end_time": "2021-06-16T03:08:04.833750",
     "exception": false,
     "start_time": "2021-06-16T03:08:04.779105",
     "status": "completed"
    },
    "tags": []
   },
   "source": [
    "We will now create several datasets as .csv files to create visualizations in Tableau. "
   ]
  },
  {
   "cell_type": "code",
   "execution_count": 20,
   "id": "ec1c7212",
   "metadata": {
    "_kg_hide-output": true,
    "execution": {
     "iopub.execute_input": "2021-06-16T03:08:04.948401Z",
     "iopub.status.busy": "2021-06-16T03:08:04.946551Z",
     "iopub.status.idle": "2021-06-16T03:08:07.261229Z",
     "shell.execute_reply": "2021-06-16T03:08:07.259597Z"
    },
    "papermill": {
     "duration": 2.373606,
     "end_time": "2021-06-16T03:08:07.261415",
     "exception": false,
     "start_time": "2021-06-16T03:08:04.887809",
     "status": "completed"
    },
    "tags": []
   },
   "outputs": [
    {
     "name": "stderr",
     "output_type": "stream",
     "text": [
      "Warning message in file(file, ifelse(append, \"a\", \"w\")):\n",
      "“cannot open file '/root/Desktop/avg_ride_length.csv': No such file or directory”\n"
     ]
    },
    {
     "ename": "ERROR",
     "evalue": "Error in file(file, ifelse(append, \"a\", \"w\")): cannot open the connection\n",
     "output_type": "error",
     "traceback": [
      "Error in file(file, ifelse(append, \"a\", \"w\")): cannot open the connection\nTraceback:\n",
      "1. write.csv(counts, file = \"~/Desktop/avg_ride_length.csv\")",
      "2. eval.parent(Call)",
      "3. eval(expr, p)",
      "4. eval(expr, p)",
      "5. write.table(counts, file = \"~/Desktop/avg_ride_length.csv\", col.names = NA, \n .     sep = \",\", dec = \".\", qmethod = \"double\")",
      "6. file(file, ifelse(append, \"a\", \"w\"))"
     ]
    }
   ],
   "source": [
    "counts <- aggregate(all_trips_v2$ride_length ~ all_trips_v2$member_casual + all_trips_v2$day_of_week, FUN = mean)\n",
    "write.csv(counts, file = '~/Desktop/avg_ride_length.csv')\n",
    "\n",
    "counts2 <- aggregate(all_trips_v2$ride_id ~ all_trips_v2$member_casual + all_trips_v2$day_of_week, FUN = length)\n",
    "write.csv(counts2, file = '~/Desktop/num_of_rides_by_day.csv')\n",
    "\n",
    "counts3 <- aggregate(all_trips_v2$ride_id ~ all_trips_v2$member_casual + all_trips_v2$month, FUN = length)\n",
    "write.csv(counts3, file = '~/Desktop/num_of_rides_by_month.csv')"
   ]
  },
  {
   "cell_type": "markdown",
   "id": "928e3d59",
   "metadata": {
    "papermill": {
     "duration": 0.056657,
     "end_time": "2021-06-16T03:08:07.374487",
     "exception": false,
     "start_time": "2021-06-16T03:08:07.317830",
     "status": "completed"
    },
    "tags": []
   },
   "source": [
    "##Act"
   ]
  },
  {
   "cell_type": "markdown",
   "id": "2e0f1992",
   "metadata": {
    "papermill": {
     "duration": 0.055066,
     "end_time": "2021-06-16T03:08:07.484636",
     "exception": false,
     "start_time": "2021-06-16T03:08:07.429570",
     "status": "completed"
    },
    "tags": []
   },
   "source": [
    "For the last step in the data analysis process, we will make three recomendations to increase our annual membership. But first, we will make three key insights. "
   ]
  },
  {
   "cell_type": "markdown",
   "id": "601887ff",
   "metadata": {
    "papermill": {
     "duration": 0.055158,
     "end_time": "2021-06-16T03:08:07.595000",
     "exception": false,
     "start_time": "2021-06-16T03:08:07.539842",
     "status": "completed"
    },
    "tags": []
   },
   "source": [
    "###Key Findings:\n",
    "1. Our casual customers take the most rides of the weekends. Conversely, our members customers take the most rides during the week.\n",
    "2. On average, our members take shorter rides than our casual customers.\n",
    "3. There was no difference between casual customer and members in how many rides they took each month. Both casual customers and members take the most number of rides in the summer months and the least number of rides in the late winter and early spring. "
   ]
  },
  {
   "cell_type": "markdown",
   "id": "4ad045d6",
   "metadata": {
    "papermill": {
     "duration": 0.055233,
     "end_time": "2021-06-16T03:08:07.705240",
     "exception": false,
     "start_time": "2021-06-16T03:08:07.650007",
     "status": "completed"
    },
    "tags": []
   },
   "source": [
    "###Recommendations\n",
    "1. Advertise how a membership can save money for those customers who take longer rides.\n",
    "2. Target casual customers who rent a bike for leisure on their weekends. \n",
    "3. Create a large summer campaign when more people are likely to rent a bike. "
   ]
  }
 ],
 "metadata": {
  "kernelspec": {
   "display_name": "R",
   "language": "R",
   "name": "ir"
  },
  "language_info": {
   "codemirror_mode": "r",
   "file_extension": ".r",
   "mimetype": "text/x-r-source",
   "name": "R",
   "pygments_lexer": "r",
   "version": "3.6.3"
  },
  "papermill": {
   "default_parameters": {},
   "duration": 74.487991,
   "end_time": "2021-06-16T03:08:07.971812",
   "environment_variables": {},
   "exception": null,
   "input_path": "__notebook__.ipynb",
   "output_path": "__notebook__.ipynb",
   "parameters": {},
   "start_time": "2021-06-16T03:06:53.483821",
   "version": "2.3.3"
  }
 },
 "nbformat": 4,
 "nbformat_minor": 5
}
